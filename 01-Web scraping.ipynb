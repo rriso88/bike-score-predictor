{
 "cells": [
  {
   "cell_type": "markdown",
   "metadata": {},
   "source": [
    "# **This notebook scrapes data for Project 2**"
   ]
  },
  {
   "cell_type": "code",
   "execution_count": 1,
   "metadata": {},
   "outputs": [
    {
     "name": "stdout",
     "output_type": "stream",
     "text": [
      "Requirement already satisfied: selenium in /anaconda3/lib/python3.7/site-packages (3.141.0)\n",
      "Requirement already satisfied: urllib3 in /anaconda3/lib/python3.7/site-packages (from selenium) (1.23)\n",
      "\u001b[33mYou are using pip version 18.1, however version 19.0 is available.\n",
      "You should consider upgrading via the 'pip install --upgrade pip' command.\u001b[0m\n"
     ]
    },
    {
     "data": {
      "text/plain": [
       "['/anaconda3/lib/python3.7/site-packages/requests']"
      ]
     },
     "execution_count": 1,
     "metadata": {},
     "output_type": "execute_result"
    }
   ],
   "source": [
    "from __future__ import print_function, division\n",
    "import requests\n",
    "from bs4 import BeautifulSoup, Comment\n",
    "import pandas as pd\n",
    "!pip install selenium\n",
    "from selenium import webdriver\n",
    "from selenium.webdriver.common.keys import Keys\n",
    "import time\n",
    "import numpy as np\n",
    "import re\n",
    "\n",
    "import os\n",
    "chromedriver = \"/Applications/chromedriver\" # path to the chromedriver executable\n",
    "os.environ[\"webdriver.chrome.driver\"] = chromedriver\n",
    "\n",
    "\n",
    "\n",
    "requests.__path__\n"
   ]
  },
  {
   "cell_type": "code",
   "execution_count": 3,
   "metadata": {},
   "outputs": [],
   "source": [
    "def get_soup(url):\n",
    "    response = requests.get(url)\n",
    "    page = response.text\n",
    "    soup = BeautifulSoup(page, \"lxml\")\n",
    "    #print(soup.prettify())\n",
    "    return(soup)"
   ]
  },
  {
   "cell_type": "code",
   "execution_count": 4,
   "metadata": {},
   "outputs": [],
   "source": [
    "def get_soup_selenium(url):\n",
    "    driver = webdriver.Chrome(chromedriver)\n",
    "    driver.get(url)\n",
    "    soup = BeautifulSoup(driver.page_source, 'lxml')\n",
    "    return(soup)"
   ]
  },
  {
   "cell_type": "code",
   "execution_count": 5,
   "metadata": {},
   "outputs": [],
   "source": [
    "def flatten(list_name):\n",
    "    list_name = [t for c in list_name for t in c]\n",
    "    return(list_name)"
   ]
  },
  {
   "cell_type": "code",
   "execution_count": 6,
   "metadata": {},
   "outputs": [],
   "source": [
    "def stripHTML(v):\n",
    "    v = [re.sub(r'\\t', '', x) for x in v]\n",
    "    v = [re.sub(r'\\r', '', x) for x in v]\n",
    "    v = [re.sub(r'\\n', '', x) for x in v]\n",
    "    return(v)"
   ]
  },
  {
   "cell_type": "markdown",
   "metadata": {},
   "source": [
    "## **I. Output (congestion)**"
   ]
  },
  {
   "cell_type": "code",
   "execution_count": 6,
   "metadata": {},
   "outputs": [],
   "source": [
    "url = 'http://inrix.com/scorecard/'"
   ]
  },
  {
   "cell_type": "code",
   "execution_count": 7,
   "metadata": {},
   "outputs": [],
   "source": [
    "soup = get_soup_selenium(url)"
   ]
  },
  {
   "cell_type": "code",
   "execution_count": 8,
   "metadata": {},
   "outputs": [
    {
     "data": {
      "text/plain": [
       "1"
      ]
     },
     "execution_count": 8,
     "metadata": {},
     "output_type": "execute_result"
    }
   ],
   "source": [
    "tables = soup.find_all(\"table\")\n",
    "len(tables)"
   ]
  },
  {
   "cell_type": "code",
   "execution_count": 9,
   "metadata": {},
   "outputs": [
    {
     "data": {
      "text/plain": [
       "1361"
      ]
     },
     "execution_count": 9,
     "metadata": {},
     "output_type": "execute_result"
    }
   ],
   "source": [
    "rows = [row for row in tables[0].find_all('tr')]\n",
    "len(rows)"
   ]
  },
  {
   "cell_type": "code",
   "execution_count": 10,
   "metadata": {
    "scrolled": true
   },
   "outputs": [],
   "source": [
    "#rows[1]"
   ]
  },
  {
   "cell_type": "code",
   "execution_count": 11,
   "metadata": {},
   "outputs": [],
   "source": [
    "tds = []\n",
    "for i, row in enumerate(rows[1:]):\n",
    "    td = rows[i].find_all('td')\n",
    "    if td == []:\n",
    "        pass\n",
    "    else:\n",
    "        tds.append(td)\n"
   ]
  },
  {
   "cell_type": "code",
   "execution_count": 12,
   "metadata": {},
   "outputs": [
    {
     "data": {
      "text/plain": [
       "'12%'"
      ]
     },
     "execution_count": 12,
     "metadata": {},
     "output_type": "execute_result"
    }
   ],
   "source": [
    "tds[0][-1].text"
   ]
  },
  {
   "cell_type": "code",
   "execution_count": 13,
   "metadata": {},
   "outputs": [],
   "source": [
    "city = [tds[i][0].find_all('span')[0].text for i in range(len(tds))]\n",
    "country = [tds[i][0].find_all('span')[1].text for i in range(len(tds))]\n",
    "pct_time_in_traffic = [tds[i][-1].text for i in range(len(tds))]"
   ]
  },
  {
   "cell_type": "code",
   "execution_count": 14,
   "metadata": {},
   "outputs": [
    {
     "data": {
      "text/plain": [
       "1359"
      ]
     },
     "execution_count": 14,
     "metadata": {},
     "output_type": "execute_result"
    }
   ],
   "source": [
    "len(pct_time_in_traffic)"
   ]
  },
  {
   "cell_type": "code",
   "execution_count": 15,
   "metadata": {},
   "outputs": [
    {
     "data": {
      "text/plain": [
       "['Los Angeles, CA',\n",
       " 'Moscow',\n",
       " 'New York City, NY',\n",
       " 'Sao Paulo',\n",
       " 'San Francisco, CA']"
      ]
     },
     "execution_count": 15,
     "metadata": {},
     "output_type": "execute_result"
    }
   ],
   "source": [
    "city[0:5]"
   ]
  },
  {
   "cell_type": "code",
   "execution_count": 16,
   "metadata": {},
   "outputs": [],
   "source": [
    "country = stripHTML(country)\n",
    "city = stripHTML(city)\n",
    "pct_time_in_traffic = stripHTML(pct_time_in_traffic)\n"
   ]
  },
  {
   "cell_type": "code",
   "execution_count": 17,
   "metadata": {},
   "outputs": [],
   "source": [
    "pct_time_in_traffic = [re.sub(r'%', '', x) for x in pct_time_in_traffic]"
   ]
  },
  {
   "cell_type": "code",
   "execution_count": 18,
   "metadata": {},
   "outputs": [],
   "source": [
    "df_traffic = pd.DataFrame(\n",
    "    {'country': country,\n",
    "    'city': city,\n",
    "    'pct_time_in_traffic': pct_time_in_traffic\n",
    "    })"
   ]
  },
  {
   "cell_type": "code",
   "execution_count": 19,
   "metadata": {},
   "outputs": [],
   "source": [
    "df_traffic[['city','state']] = df_traffic['city'].str.split(',', expand = True)"
   ]
  },
  {
   "cell_type": "code",
   "execution_count": 20,
   "metadata": {},
   "outputs": [],
   "source": [
    "df_traffic['country'] = [re.sub(r'Major City', '', x) for x in df_traffic['country']]\n",
    "df_traffic['country'] = [re.sub(r'Mega City', '', x) for x in df_traffic['country']]"
   ]
  },
  {
   "cell_type": "code",
   "execution_count": 21,
   "metadata": {},
   "outputs": [],
   "source": [
    "df_traffic['region'] = ''"
   ]
  },
  {
   "cell_type": "code",
   "execution_count": 25,
   "metadata": {
    "scrolled": true
   },
   "outputs": [
    {
     "data": {
      "text/plain": [
       "Europe           784\n",
       "North America    320\n",
       "South America    192\n",
       "Asia              53\n",
       "Africa            10\n",
       "Name: region, dtype: int64"
      ]
     },
     "execution_count": 25,
     "metadata": {},
     "output_type": "execute_result"
    }
   ],
   "source": [
    "df_traffic.region.value_counts()"
   ]
  },
  {
   "cell_type": "code",
   "execution_count": 23,
   "metadata": {},
   "outputs": [
    {
     "data": {
      "text/plain": [
       "Series([], Name: country, dtype: object)"
      ]
     },
     "execution_count": 23,
     "metadata": {},
     "output_type": "execute_result"
    }
   ],
   "source": [
    "df_traffic.loc[df_traffic['region'].isnull(), 'country']"
   ]
  },
  {
   "cell_type": "code",
   "execution_count": 24,
   "metadata": {},
   "outputs": [],
   "source": [
    "check = ['North America', 'Europe','South America','Asia','Africa']\n",
    "for i, row in df_traffic.iterrows():\n",
    "    for c in check:\n",
    "        TF = [c in x for x in df_traffic['country']]\n",
    "        if TF[i] == True:\n",
    "            df_traffic['region'][i] = c\n",
    "            df_traffic['country'][i] = re.sub(c, '', df_traffic['country'][i])"
   ]
  },
  {
   "cell_type": "code",
   "execution_count": 26,
   "metadata": {},
   "outputs": [
    {
     "data": {
      "text/html": [
       "<div>\n",
       "<style scoped>\n",
       "    .dataframe tbody tr th:only-of-type {\n",
       "        vertical-align: middle;\n",
       "    }\n",
       "\n",
       "    .dataframe tbody tr th {\n",
       "        vertical-align: top;\n",
       "    }\n",
       "\n",
       "    .dataframe thead th {\n",
       "        text-align: right;\n",
       "    }\n",
       "</style>\n",
       "<table border=\"1\" class=\"dataframe\">\n",
       "  <thead>\n",
       "    <tr style=\"text-align: right;\">\n",
       "      <th></th>\n",
       "      <th>country</th>\n",
       "      <th>city</th>\n",
       "      <th>pct_time_in_traffic</th>\n",
       "      <th>state</th>\n",
       "      <th>region</th>\n",
       "    </tr>\n",
       "  </thead>\n",
       "  <tbody>\n",
       "    <tr>\n",
       "      <th>0</th>\n",
       "      <td>USA</td>\n",
       "      <td>Los Angeles</td>\n",
       "      <td>12</td>\n",
       "      <td>CA</td>\n",
       "      <td>North America</td>\n",
       "    </tr>\n",
       "    <tr>\n",
       "      <th>1</th>\n",
       "      <td>Russia</td>\n",
       "      <td>Moscow</td>\n",
       "      <td>26</td>\n",
       "      <td>None</td>\n",
       "      <td>Europe</td>\n",
       "    </tr>\n",
       "    <tr>\n",
       "      <th>2</th>\n",
       "      <td>USA</td>\n",
       "      <td>New York City</td>\n",
       "      <td>13</td>\n",
       "      <td>NY</td>\n",
       "      <td>North America</td>\n",
       "    </tr>\n",
       "    <tr>\n",
       "      <th>3</th>\n",
       "      <td>Brazil</td>\n",
       "      <td>Sao Paulo</td>\n",
       "      <td>22</td>\n",
       "      <td>None</td>\n",
       "      <td>South America</td>\n",
       "    </tr>\n",
       "    <tr>\n",
       "      <th>4</th>\n",
       "      <td>USA</td>\n",
       "      <td>San Francisco</td>\n",
       "      <td>12</td>\n",
       "      <td>CA</td>\n",
       "      <td>North America</td>\n",
       "    </tr>\n",
       "  </tbody>\n",
       "</table>\n",
       "</div>"
      ],
      "text/plain": [
       "     country           city pct_time_in_traffic state         region\n",
       "0      USA      Los Angeles                  12    CA  North America\n",
       "1   Russia           Moscow                  26  None         Europe\n",
       "2      USA    New York City                  13    NY  North America\n",
       "3   Brazil        Sao Paulo                  22  None  South America\n",
       "4      USA    San Francisco                  12    CA  North America"
      ]
     },
     "execution_count": 26,
     "metadata": {},
     "output_type": "execute_result"
    }
   ],
   "source": [
    "df_traffic.head()"
   ]
  },
  {
   "cell_type": "code",
   "execution_count": 27,
   "metadata": {},
   "outputs": [],
   "source": [
    "numeric = ['pct_time_in_traffic']\n",
    "for n in numeric:\n",
    "    df_traffic[n] = df_traffic[n].apply(pd.to_numeric, errors = 'coerce')"
   ]
  },
  {
   "cell_type": "code",
   "execution_count": 28,
   "metadata": {},
   "outputs": [],
   "source": [
    "df_traffic['pct_time_in_traffic'] = [x/100 for x in df_traffic['pct_time_in_traffic']]"
   ]
  },
  {
   "cell_type": "code",
   "execution_count": 29,
   "metadata": {},
   "outputs": [
    {
     "data": {
      "text/plain": [
       "country                 object\n",
       "city                    object\n",
       "pct_time_in_traffic    float64\n",
       "state                   object\n",
       "region                  object\n",
       "dtype: object"
      ]
     },
     "execution_count": 29,
     "metadata": {},
     "output_type": "execute_result"
    }
   ],
   "source": [
    "df_traffic.dtypes"
   ]
  },
  {
   "cell_type": "code",
   "execution_count": 108,
   "metadata": {},
   "outputs": [],
   "source": [
    "#df_traffic.state"
   ]
  },
  {
   "cell_type": "code",
   "execution_count": 615,
   "metadata": {},
   "outputs": [],
   "source": [
    "df_traffic.to_pickle('city_traffic.pkl')"
   ]
  },
  {
   "cell_type": "markdown",
   "metadata": {},
   "source": [
    "---"
   ]
  },
  {
   "cell_type": "code",
   "execution_count": 2,
   "metadata": {},
   "outputs": [],
   "source": [
    "url = 'https://www.tomtom.com/en_gb/trafficindex/list?citySize=ALL&continent=NA&country=US'\n",
    "#url = \"http://inrix.com/scorecard/\"\n"
   ]
  },
  {
   "cell_type": "code",
   "execution_count": 3,
   "metadata": {},
   "outputs": [],
   "source": [
    "driver = webdriver.Chrome(chromedriver)\n",
    "driver.get(url)"
   ]
  },
  {
   "cell_type": "code",
   "execution_count": 4,
   "metadata": {},
   "outputs": [],
   "source": [
    "soup = BeautifulSoup(driver.page_source, 'lxml')"
   ]
  },
  {
   "cell_type": "code",
   "execution_count": 5,
   "metadata": {},
   "outputs": [],
   "source": [
    "#soup.prettify()"
   ]
  },
  {
   "cell_type": "code",
   "execution_count": 6,
   "metadata": {},
   "outputs": [
    {
     "data": {
      "text/plain": [
       "1"
      ]
     },
     "execution_count": 6,
     "metadata": {},
     "output_type": "execute_result"
    }
   ],
   "source": [
    "tables = soup.find_all(\"table\")\n",
    "len(tables)"
   ]
  },
  {
   "cell_type": "code",
   "execution_count": 9,
   "metadata": {},
   "outputs": [],
   "source": [
    "rows = [row for row in tables[0].find_all('tr')]\n",
    "N = len(rows)-1"
   ]
  },
  {
   "cell_type": "code",
   "execution_count": 13,
   "metadata": {},
   "outputs": [],
   "source": [
    "tds = []\n",
    "#world_rank = []\n",
    "\n",
    "rows = [row for row in tables[0].find_all('tr')] # tr tag is for rows\n",
    "\n",
    "for j, row in enumerate(rows[1:81]):\n",
    "    tds.append(row.find_all('td'))\n",
    "    # RANK\n",
    "    rank = [tds[i][0].contents for i in range(len(tds))]\n",
    "    # WORLD RANK\n",
    "    world_rank = [tds[i][1].find('div', attrs={'class': re.compile('map-city-icon map-city-rank-icon.*')}) for i in range(len(tds))]\n",
    "    \n",
    "    # CITY\n",
    "    cities = [tds[i][3].find('a').contents for i in range(len(tds))]\n",
    "    #\n",
    "    # COUNTRY\n",
    "    country = [tds[i][4].find('span', attrs={'class':'ng-binding'}).contents for i in range(len(tds))]\n",
    "    # CONGESTION LEVEL\n",
    "    congestion_level = [tds[i][5].find('span', attrs={'class':'total-congestion-value ng-binding'}).contents for i in range(len(tds))]\n",
    "    \n",
    "cities = [t for c in cities for t in c]\n",
    "country = [k for c in country for k in c]\n",
    "congestion_level = [int(p.strip('%'))/100 for g in congestion_level for p in g]\n",
    "#world_rank = [int(r.strip()) for w in world_rank for r in w]\n",
    "rank = [int(r) for k in rank for r in k]\n"
   ]
  },
  {
   "cell_type": "code",
   "execution_count": 14,
   "metadata": {},
   "outputs": [
    {
     "data": {
      "text/plain": [
       "80"
      ]
     },
     "execution_count": 14,
     "metadata": {},
     "output_type": "execute_result"
    }
   ],
   "source": [
    "world_ranks = []\n",
    "for w in world_rank:\n",
    "    try:\n",
    "        w = w.contents\n",
    "        w = [str(r).strip() for r in w]\n",
    "        world_ranks.append(w)\n",
    "    except:\n",
    "        world_ranks.append([''])\n",
    "len(world_ranks)"
   ]
  },
  {
   "cell_type": "code",
   "execution_count": 15,
   "metadata": {},
   "outputs": [],
   "source": [
    "df_congest = pd.DataFrame(np.column_stack([rank, world_ranks, cities, country, congestion_level]), \n",
    "                               columns=['rank', 'world_ranking', 'city','country','congestion_level'])\n"
   ]
  },
  {
   "cell_type": "code",
   "execution_count": 16,
   "metadata": {},
   "outputs": [
    {
     "data": {
      "text/html": [
       "<div>\n",
       "<style scoped>\n",
       "    .dataframe tbody tr th:only-of-type {\n",
       "        vertical-align: middle;\n",
       "    }\n",
       "\n",
       "    .dataframe tbody tr th {\n",
       "        vertical-align: top;\n",
       "    }\n",
       "\n",
       "    .dataframe thead th {\n",
       "        text-align: right;\n",
       "    }\n",
       "</style>\n",
       "<table border=\"1\" class=\"dataframe\">\n",
       "  <thead>\n",
       "    <tr style=\"text-align: right;\">\n",
       "      <th></th>\n",
       "      <th>rank</th>\n",
       "      <th>world_ranking</th>\n",
       "      <th>city</th>\n",
       "      <th>country</th>\n",
       "      <th>congestion_level</th>\n",
       "    </tr>\n",
       "  </thead>\n",
       "  <tbody>\n",
       "    <tr>\n",
       "      <th>0</th>\n",
       "      <td>1</td>\n",
       "      <td>12</td>\n",
       "      <td>Los Angeles</td>\n",
       "      <td>United States</td>\n",
       "      <td>0.45</td>\n",
       "    </tr>\n",
       "    <tr>\n",
       "      <th>1</th>\n",
       "      <td>2</td>\n",
       "      <td>30</td>\n",
       "      <td>San Francisco</td>\n",
       "      <td>United States</td>\n",
       "      <td>0.39</td>\n",
       "    </tr>\n",
       "    <tr>\n",
       "      <th>2</th>\n",
       "      <td>3</td>\n",
       "      <td>49</td>\n",
       "      <td>New York</td>\n",
       "      <td>United States</td>\n",
       "      <td>0.35</td>\n",
       "    </tr>\n",
       "    <tr>\n",
       "      <th>3</th>\n",
       "      <td>4</td>\n",
       "      <td>53</td>\n",
       "      <td>Seattle</td>\n",
       "      <td>United States</td>\n",
       "      <td>0.34</td>\n",
       "    </tr>\n",
       "    <tr>\n",
       "      <th>4</th>\n",
       "      <td>5</td>\n",
       "      <td>65</td>\n",
       "      <td>San José</td>\n",
       "      <td>United States</td>\n",
       "      <td>0.32</td>\n",
       "    </tr>\n",
       "  </tbody>\n",
       "</table>\n",
       "</div>"
      ],
      "text/plain": [
       "  rank world_ranking           city        country congestion_level\n",
       "0    1            12    Los Angeles  United States             0.45\n",
       "1    2            30  San Francisco  United States             0.39\n",
       "2    3            49       New York  United States             0.35\n",
       "3    4            53        Seattle  United States             0.34\n",
       "4    5            65       San José  United States             0.32"
      ]
     },
     "execution_count": 16,
     "metadata": {},
     "output_type": "execute_result"
    }
   ],
   "source": [
    "df_congest.head()"
   ]
  },
  {
   "cell_type": "code",
   "execution_count": 17,
   "metadata": {},
   "outputs": [],
   "source": [
    "df_congest.iloc[:,0] = df_congest.iloc[:,0].apply(pd.to_numeric)\n",
    "#df_congest['world_ranking'] = df_congest['world_ranking'].astype(int)\n",
    "df_congest.iloc[:,4] = df_congest.iloc[:,4].apply(pd.to_numeric)\n",
    "df_congest['world_ranking'] = df_congest['world_ranking'].replace(np.NaN, None).astype(int,errors='ignore')\n",
    "\n"
   ]
  },
  {
   "cell_type": "code",
   "execution_count": 18,
   "metadata": {},
   "outputs": [],
   "source": [
    "df_congest['world_ranking'] = df_congest['world_ranking'].apply(pd.to_numeric, errors = 'coerce')\n",
    "\n"
   ]
  },
  {
   "cell_type": "code",
   "execution_count": 19,
   "metadata": {
    "scrolled": true
   },
   "outputs": [
    {
     "data": {
      "text/plain": [
       "rank                  int64\n",
       "world_ranking       float64\n",
       "city                 object\n",
       "country              object\n",
       "congestion_level    float64\n",
       "dtype: object"
      ]
     },
     "execution_count": 19,
     "metadata": {},
     "output_type": "execute_result"
    }
   ],
   "source": [
    "df_congest.dtypes"
   ]
  },
  {
   "cell_type": "code",
   "execution_count": 41,
   "metadata": {},
   "outputs": [],
   "source": [
    "df_congest.to_pickle('city_congestion.pkl')"
   ]
  },
  {
   "cell_type": "markdown",
   "metadata": {},
   "source": [
    "## **II. Features**"
   ]
  },
  {
   "cell_type": "markdown",
   "metadata": {},
   "source": [
    "### i. City population"
   ]
  },
  {
   "cell_type": "code",
   "execution_count": 196,
   "metadata": {},
   "outputs": [],
   "source": [
    "url = 'http://worldpopulationreview.com/us-cities/'\n"
   ]
  },
  {
   "cell_type": "code",
   "execution_count": 197,
   "metadata": {},
   "outputs": [
    {
     "data": {
      "text/plain": [
       "1"
      ]
     },
     "execution_count": 197,
     "metadata": {},
     "output_type": "execute_result"
    }
   ],
   "source": [
    "soup = get_soup(url)\n",
    "tables = soup.find_all(\"table\")\n",
    "len(tables)"
   ]
  },
  {
   "cell_type": "code",
   "execution_count": 198,
   "metadata": {},
   "outputs": [],
   "source": [
    "#soup"
   ]
  },
  {
   "cell_type": "code",
   "execution_count": 199,
   "metadata": {},
   "outputs": [
    {
     "data": {
      "text/plain": [
       "201"
      ]
     },
     "execution_count": 199,
     "metadata": {},
     "output_type": "execute_result"
    }
   ],
   "source": [
    "rows = [row for row in tables[0].find_all('tr')]\n",
    "len(rows)"
   ]
  },
  {
   "cell_type": "code",
   "execution_count": 200,
   "metadata": {},
   "outputs": [
    {
     "data": {
      "text/plain": [
       "['1']"
      ]
     },
     "execution_count": 200,
     "metadata": {},
     "output_type": "execute_result"
    }
   ],
   "source": [
    "rows[1].find_all('td')[0].contents"
   ]
  },
  {
   "cell_type": "code",
   "execution_count": 202,
   "metadata": {},
   "outputs": [],
   "source": [
    "tds = []\n",
    "for row in rows[1:]:\n",
    "    tds.append(row.find_all('td'))\n",
    "    # RANK\n",
    "    rank = [tds[i][0].contents for i in range(len(tds))]\n",
    "    name = [tds[i][1].find('a').contents for i in range(len(tds))]\n",
    "    state = [tds[i][2].find('a').contents for i in range(len(tds))]\n",
    "    pop2019 = [tds[i][3].contents for i in range(len(tds))]\n",
    "    pop2016 = [tds[i][4].contents for i in range(len(tds))]\n",
    "    pop2010 = [tds[i][5].contents for i in range(len(tds))]\n",
    "    density2019 = [tds[i][-1].contents for i in range(len(tds))]\n",
    "    \n",
    "#density2019"
   ]
  },
  {
   "cell_type": "code",
   "execution_count": 203,
   "metadata": {},
   "outputs": [],
   "source": [
    "cols = [rank, name, state, pop2019, pop2016, density2019]\n",
    "for c in cols:\n",
    "    c = flatten(c)"
   ]
  },
  {
   "cell_type": "code",
   "execution_count": 204,
   "metadata": {},
   "outputs": [],
   "source": [
    "name = flatten(name)"
   ]
  },
  {
   "cell_type": "code",
   "execution_count": 205,
   "metadata": {},
   "outputs": [],
   "source": [
    "state = flatten(state)"
   ]
  },
  {
   "cell_type": "code",
   "execution_count": 206,
   "metadata": {},
   "outputs": [],
   "source": [
    "pop2019 = flatten(pop2019)"
   ]
  },
  {
   "cell_type": "code",
   "execution_count": 207,
   "metadata": {},
   "outputs": [],
   "source": [
    "pop2016 = flatten(pop2016)"
   ]
  },
  {
   "cell_type": "code",
   "execution_count": 208,
   "metadata": {},
   "outputs": [],
   "source": [
    "density2019 = flatten(density2019)"
   ]
  },
  {
   "cell_type": "code",
   "execution_count": 209,
   "metadata": {},
   "outputs": [],
   "source": [
    "for i, x in enumerate(density2019):\n",
    "    #print(x)\n",
    "    x = x.replace(\"/kmÂ²\", \"\") \n",
    "    x = x.replace(',','')\n",
    "    density2019[i] = int(x)\n",
    "\n",
    "#density2019"
   ]
  },
  {
   "cell_type": "code",
   "execution_count": 210,
   "metadata": {},
   "outputs": [],
   "source": [
    "for i, x in enumerate(pop2019):\n",
    "    x = x.replace(',','')\n",
    "    pop2019[i] = int(x)\n",
    "for i, x in enumerate(pop2016):\n",
    "    x = x.replace(',','')\n",
    "    pop2016[i] = int(x)"
   ]
  },
  {
   "cell_type": "code",
   "execution_count": 211,
   "metadata": {},
   "outputs": [],
   "source": [
    "df_pop = pd.DataFrame(np.column_stack([rank, name, state, pop2019, pop2016, density2019]), \n",
    "                               columns=['rank', 'city', 'state','pop2019','pop2016','density2019'])\n",
    "\n"
   ]
  },
  {
   "cell_type": "code",
   "execution_count": 216,
   "metadata": {},
   "outputs": [
    {
     "data": {
      "text/plain": [
       "rank            int64\n",
       "city           object\n",
       "state          object\n",
       "pop2019         int64\n",
       "pop2016         int64\n",
       "density2019     int64\n",
       "dtype: object"
      ]
     },
     "execution_count": 216,
     "metadata": {},
     "output_type": "execute_result"
    }
   ],
   "source": [
    "df_pop.dtypes"
   ]
  },
  {
   "cell_type": "code",
   "execution_count": 213,
   "metadata": {},
   "outputs": [],
   "source": [
    "# to numeric: pop2019, pop2016, density2019"
   ]
  },
  {
   "cell_type": "code",
   "execution_count": 214,
   "metadata": {},
   "outputs": [],
   "source": [
    "df_pop['rank'] = df_pop['rank'].apply(pd.to_numeric, errors = 'coerce')\n",
    "df_pop['pop2019'] = df_pop['pop2019'].apply(pd.to_numeric, errors = 'coerce')\n",
    "df_pop['pop2016'] = df_pop['pop2016'].apply(pd.to_numeric, errors = 'coerce')\n",
    "df_pop['density2019'] = df_pop['density2019'].apply(pd.to_numeric, errors = 'coerce')"
   ]
  },
  {
   "cell_type": "code",
   "execution_count": 215,
   "metadata": {},
   "outputs": [],
   "source": [
    "df_pop.to_pickle('city_poulations.pkl')"
   ]
  },
  {
   "cell_type": "markdown",
   "metadata": {},
   "source": [
    "### ii. Local taxes"
   ]
  },
  {
   "cell_type": "code",
   "execution_count": 217,
   "metadata": {},
   "outputs": [],
   "source": [
    "url = 'https://taxfoundation.org/sales-tax-rates-major-cities-midyear-2016/'"
   ]
  },
  {
   "cell_type": "code",
   "execution_count": 218,
   "metadata": {},
   "outputs": [
    {
     "data": {
      "text/plain": [
       "1"
      ]
     },
     "execution_count": 218,
     "metadata": {},
     "output_type": "execute_result"
    }
   ],
   "source": [
    "soup = get_soup(url)\n",
    "tables = soup.find_all(\"table\")\n",
    "len(tables)"
   ]
  },
  {
   "cell_type": "code",
   "execution_count": 46,
   "metadata": {},
   "outputs": [],
   "source": [
    "#soup"
   ]
  },
  {
   "cell_type": "code",
   "execution_count": 219,
   "metadata": {},
   "outputs": [
    {
     "data": {
      "text/plain": [
       "121"
      ]
     },
     "execution_count": 219,
     "metadata": {},
     "output_type": "execute_result"
    }
   ],
   "source": [
    "rows = [row for row in tables[0].find_all('tr')]\n",
    "len(rows)"
   ]
  },
  {
   "cell_type": "code",
   "execution_count": 220,
   "metadata": {},
   "outputs": [],
   "source": [
    "del rows[-1]"
   ]
  },
  {
   "cell_type": "code",
   "execution_count": 221,
   "metadata": {},
   "outputs": [
    {
     "data": {
      "text/plain": [
       "120"
      ]
     },
     "execution_count": 221,
     "metadata": {},
     "output_type": "execute_result"
    }
   ],
   "source": [
    "len(rows)"
   ]
  },
  {
   "cell_type": "code",
   "execution_count": 222,
   "metadata": {},
   "outputs": [
    {
     "data": {
      "text/plain": [
       "[<strong>City</strong>]"
      ]
     },
     "execution_count": 222,
     "metadata": {},
     "output_type": "execute_result"
    }
   ],
   "source": [
    "rows[1].find_all('td')[0].contents"
   ]
  },
  {
   "cell_type": "code",
   "execution_count": 223,
   "metadata": {},
   "outputs": [
    {
     "data": {
      "text/plain": [
       "['Chicago']"
      ]
     },
     "execution_count": 223,
     "metadata": {},
     "output_type": "execute_result"
    }
   ],
   "source": [
    "tds = []\n",
    "for row in rows[2:]:\n",
    "    tds.append(row.find_all('td'))\n",
    "tds[0][0].contents"
   ]
  },
  {
   "cell_type": "code",
   "execution_count": 224,
   "metadata": {},
   "outputs": [],
   "source": [
    "del rows[-1]"
   ]
  },
  {
   "cell_type": "code",
   "execution_count": 225,
   "metadata": {},
   "outputs": [
    {
     "data": {
      "text/plain": [
       "[<td>Portland</td>,\n",
       " <td>Oregon</td>,\n",
       " <td>0.00%</td>,\n",
       " <td>0.00%</td>,\n",
       " <td>0.00%</td>,\n",
       " <td>116</td>]"
      ]
     },
     "execution_count": 225,
     "metadata": {},
     "output_type": "execute_result"
    }
   ],
   "source": [
    "tds[116]"
   ]
  },
  {
   "cell_type": "code",
   "execution_count": 226,
   "metadata": {},
   "outputs": [],
   "source": [
    "tds = []\n",
    "for row in rows[2:]:\n",
    "    tds.append(row.find_all('td'))\n",
    "    # RANK\n",
    "    city = [tds[i][0].contents for i in range(len(tds)-1)]\n",
    "    state = [tds[i][1].contents for i in range(len(tds)-1)]\n",
    "    state_tax = [tds[i][2].contents for i in range(len(tds)-1)]\n",
    "    city_tax = [tds[i][3].contents for i in range(len(tds)-1)]\n",
    "    total_tax = [tds[i][4].contents for i in range(len(tds)-1)]\n",
    "    tax_rank = [tds[i][5].contents for i in range(len(tds)-1)]\n"
   ]
  },
  {
   "cell_type": "code",
   "execution_count": 227,
   "metadata": {},
   "outputs": [],
   "source": [
    "cols = [city, state, state_tax, city_tax, total_tax, tax_rank]\n"
   ]
  },
  {
   "cell_type": "code",
   "execution_count": 228,
   "metadata": {},
   "outputs": [],
   "source": [
    "city = flatten(city)\n",
    "state = flatten(state)\n",
    "state_tax = flatten(state_tax)\n",
    "city_tax = flatten(city_tax)\n",
    "total_tax = flatten(total_tax)\n",
    "tax_rank = flatten(tax_rank)"
   ]
  },
  {
   "cell_type": "code",
   "execution_count": 229,
   "metadata": {},
   "outputs": [
    {
     "data": {
      "text/plain": [
       "['Chicago',\n",
       " 'Baton Rouge',\n",
       " 'Birmingham',\n",
       " 'Montgomery',\n",
       " 'New Orleans',\n",
       " 'Seattle',\n",
       " 'Tacoma',\n",
       " 'Fremont',\n",
       " 'Oakland',\n",
       " 'Memphis']"
      ]
     },
     "execution_count": 229,
     "metadata": {},
     "output_type": "execute_result"
    }
   ],
   "source": [
    "#city = [x.replace('(.*)','') for x in city]\n",
    "city = [re.sub(r'\\(.*\\)','', x).rstrip() for x in city]\n",
    "city[0:10]"
   ]
  },
  {
   "cell_type": "code",
   "execution_count": 230,
   "metadata": {},
   "outputs": [],
   "source": [
    "total_tax = [float(x.replace('%',''))/100 for x in total_tax]\n",
    "state_tax = [float(x.replace('%',''))/100 for x in state_tax]\n",
    "city_tax = [float(x.replace('%',''))/100 for x in city_tax]\n",
    "tax_rank = [int(x) for x in tax_rank]"
   ]
  },
  {
   "cell_type": "code",
   "execution_count": 231,
   "metadata": {},
   "outputs": [],
   "source": [
    "df_tax = pd.DataFrame(np.column_stack([city, state, state_tax, city_tax, total_tax, tax_rank]), \n",
    "        columns=['city', 'state', 'state_tax', 'city_tax', 'total_tax', 'tax_rank'])\n"
   ]
  },
  {
   "cell_type": "code",
   "execution_count": 234,
   "metadata": {},
   "outputs": [
    {
     "data": {
      "text/plain": [
       "city          object\n",
       "state         object\n",
       "state_tax    float64\n",
       "city_tax     float64\n",
       "total_tax    float64\n",
       "tax_rank       int64\n",
       "dtype: object"
      ]
     },
     "execution_count": 234,
     "metadata": {},
     "output_type": "execute_result"
    }
   ],
   "source": [
    "df_tax.dtypes"
   ]
  },
  {
   "cell_type": "code",
   "execution_count": 233,
   "metadata": {},
   "outputs": [],
   "source": [
    "numeric = ['state_tax', 'city_tax', 'total_tax', 'tax_rank']\n",
    "for n in numeric:\n",
    "    df_tax[n] = df_tax[n].apply(pd.to_numeric, errors = 'coerce')"
   ]
  },
  {
   "cell_type": "code",
   "execution_count": 235,
   "metadata": {
    "scrolled": true
   },
   "outputs": [
    {
     "data": {
      "text/html": [
       "<div>\n",
       "<style scoped>\n",
       "    .dataframe tbody tr th:only-of-type {\n",
       "        vertical-align: middle;\n",
       "    }\n",
       "\n",
       "    .dataframe tbody tr th {\n",
       "        vertical-align: top;\n",
       "    }\n",
       "\n",
       "    .dataframe thead th {\n",
       "        text-align: right;\n",
       "    }\n",
       "</style>\n",
       "<table border=\"1\" class=\"dataframe\">\n",
       "  <thead>\n",
       "    <tr style=\"text-align: right;\">\n",
       "      <th></th>\n",
       "      <th>city</th>\n",
       "      <th>state</th>\n",
       "      <th>state_tax</th>\n",
       "      <th>city_tax</th>\n",
       "      <th>total_tax</th>\n",
       "      <th>tax_rank</th>\n",
       "    </tr>\n",
       "  </thead>\n",
       "  <tbody>\n",
       "    <tr>\n",
       "      <th>0</th>\n",
       "      <td>Chicago</td>\n",
       "      <td>Illinois</td>\n",
       "      <td>0.0625</td>\n",
       "      <td>0.04</td>\n",
       "      <td>0.1025</td>\n",
       "      <td>1</td>\n",
       "    </tr>\n",
       "    <tr>\n",
       "      <th>1</th>\n",
       "      <td>Baton Rouge</td>\n",
       "      <td>Louisiana</td>\n",
       "      <td>0.0500</td>\n",
       "      <td>0.05</td>\n",
       "      <td>0.1000</td>\n",
       "      <td>2</td>\n",
       "    </tr>\n",
       "    <tr>\n",
       "      <th>2</th>\n",
       "      <td>Birmingham</td>\n",
       "      <td>Alabama</td>\n",
       "      <td>0.0400</td>\n",
       "      <td>0.06</td>\n",
       "      <td>0.1000</td>\n",
       "      <td>2</td>\n",
       "    </tr>\n",
       "    <tr>\n",
       "      <th>3</th>\n",
       "      <td>Montgomery</td>\n",
       "      <td>Alabama</td>\n",
       "      <td>0.0400</td>\n",
       "      <td>0.06</td>\n",
       "      <td>0.1000</td>\n",
       "      <td>2</td>\n",
       "    </tr>\n",
       "    <tr>\n",
       "      <th>4</th>\n",
       "      <td>New Orleans</td>\n",
       "      <td>Louisiana</td>\n",
       "      <td>0.0500</td>\n",
       "      <td>0.05</td>\n",
       "      <td>0.1000</td>\n",
       "      <td>2</td>\n",
       "    </tr>\n",
       "  </tbody>\n",
       "</table>\n",
       "</div>"
      ],
      "text/plain": [
       "          city      state  state_tax  city_tax  total_tax  tax_rank\n",
       "0      Chicago   Illinois     0.0625      0.04     0.1025         1\n",
       "1  Baton Rouge  Louisiana     0.0500      0.05     0.1000         2\n",
       "2   Birmingham    Alabama     0.0400      0.06     0.1000         2\n",
       "3   Montgomery    Alabama     0.0400      0.06     0.1000         2\n",
       "4  New Orleans  Louisiana     0.0500      0.05     0.1000         2"
      ]
     },
     "execution_count": 235,
     "metadata": {},
     "output_type": "execute_result"
    }
   ],
   "source": [
    "df_tax.head()"
   ]
  },
  {
   "cell_type": "code",
   "execution_count": 236,
   "metadata": {},
   "outputs": [],
   "source": [
    "df_tax.to_pickle('city_taxes.pkl')"
   ]
  },
  {
   "cell_type": "markdown",
   "metadata": {},
   "source": [
    "### iii. Walk and transit scores"
   ]
  },
  {
   "cell_type": "code",
   "execution_count": 162,
   "metadata": {},
   "outputs": [],
   "source": [
    "url = 'https://www.walkscore.com/cities-and-neighborhoods/'"
   ]
  },
  {
   "cell_type": "code",
   "execution_count": 163,
   "metadata": {},
   "outputs": [
    {
     "data": {
      "text/plain": [
       "1"
      ]
     },
     "execution_count": 163,
     "metadata": {},
     "output_type": "execute_result"
    }
   ],
   "source": [
    "soup = get_soup(url)\n",
    "tables = soup.find_all(\"table\")\n",
    "len(tables)"
   ]
  },
  {
   "cell_type": "code",
   "execution_count": 168,
   "metadata": {},
   "outputs": [],
   "source": [
    "#soup"
   ]
  },
  {
   "cell_type": "code",
   "execution_count": 164,
   "metadata": {},
   "outputs": [
    {
     "data": {
      "text/plain": [
       "142"
      ]
     },
     "execution_count": 164,
     "metadata": {},
     "output_type": "execute_result"
    }
   ],
   "source": [
    "rows = [row for row in tables[0].find_all('tr')]\n",
    "len(rows)"
   ]
  },
  {
   "cell_type": "code",
   "execution_count": 169,
   "metadata": {},
   "outputs": [],
   "source": [
    "#rows"
   ]
  },
  {
   "cell_type": "code",
   "execution_count": 165,
   "metadata": {},
   "outputs": [
    {
     "data": {
      "text/plain": [
       "<tr id=\"city_2978\"> <td class=\"city\"><a href=\"/AU-ACT/Canberra\">Canberra</a></td> <td class=\"state\">AU-ACT</td> <td class=\"score\">39.9</td> <td class=\"tsc\">--</td> <td class=\"bsc\">--</td> <td class=\"pop\">355,596</td> </tr>"
      ]
     },
     "execution_count": 165,
     "metadata": {},
     "output_type": "execute_result"
    }
   ],
   "source": [
    "rows[-1]"
   ]
  },
  {
   "cell_type": "code",
   "execution_count": 171,
   "metadata": {},
   "outputs": [
    {
     "data": {
      "text/plain": [
       "[<a href=\"/NY/New_York\">New York</a>]"
      ]
     },
     "execution_count": 171,
     "metadata": {},
     "output_type": "execute_result"
    }
   ],
   "source": [
    "rows[1].find_all('td')[0].contents"
   ]
  },
  {
   "cell_type": "code",
   "execution_count": 181,
   "metadata": {},
   "outputs": [
    {
     "data": {
      "text/plain": [
       "['New York']"
      ]
     },
     "execution_count": 181,
     "metadata": {},
     "output_type": "execute_result"
    }
   ],
   "source": [
    "tds = []\n",
    "for row in rows[1:]:\n",
    "    tds.append(row.find_all('td'))\n",
    "tds[0][0].find('a').contents"
   ]
  },
  {
   "cell_type": "code",
   "execution_count": 182,
   "metadata": {},
   "outputs": [],
   "source": [
    "tds = []\n",
    "for row in rows[2:]:\n",
    "    tds.append(row.find_all('td'))\n",
    "    # RANK\n",
    "    city = [tds[i][0].find('a').contents for i in range(len(tds))]\n",
    "    state = [tds[i][1].contents for i in range(len(tds))]\n",
    "    walk_score = [tds[i][2].contents for i in range(len(tds))]\n",
    "    transit_score = [tds[i][3].contents for i in range(len(tds))]\n",
    "    bike_score = [tds[i][4].contents for i in range(len(tds))]\n",
    "    population = [tds[i][5].contents for i in range(len(tds))]\n"
   ]
  },
  {
   "cell_type": "code",
   "execution_count": 183,
   "metadata": {},
   "outputs": [],
   "source": [
    "cols = [city, state, walk_score, transit_score, bike_score, population]\n"
   ]
  },
  {
   "cell_type": "code",
   "execution_count": 184,
   "metadata": {},
   "outputs": [],
   "source": [
    "city = flatten(city)\n",
    "state = flatten(state)\n",
    "walk_score = flatten(walk_score)\n",
    "transit_score = flatten(transit_score)\n",
    "bike_score = flatten(bike_score)\n",
    "population = flatten(population)"
   ]
  },
  {
   "cell_type": "code",
   "execution_count": 185,
   "metadata": {},
   "outputs": [],
   "source": [
    "df_walkscore = pd.DataFrame(np.column_stack([city, state, walk_score, transit_score, bike_score, population]), \n",
    "        columns=['city', 'state', 'walk_score', 'transit_score', 'bike_score', 'population'])\n"
   ]
  },
  {
   "cell_type": "code",
   "execution_count": 190,
   "metadata": {},
   "outputs": [
    {
     "data": {
      "text/plain": [
       "city              object\n",
       "state             object\n",
       "walk_score       float64\n",
       "transit_score    float64\n",
       "bike_score       float64\n",
       "population         int64\n",
       "dtype: object"
      ]
     },
     "execution_count": 190,
     "metadata": {},
     "output_type": "execute_result"
    }
   ],
   "source": [
    "df_walkscore.dtypes"
   ]
  },
  {
   "cell_type": "code",
   "execution_count": 192,
   "metadata": {},
   "outputs": [
    {
     "data": {
      "text/html": [
       "<div>\n",
       "<style scoped>\n",
       "    .dataframe tbody tr th:only-of-type {\n",
       "        vertical-align: middle;\n",
       "    }\n",
       "\n",
       "    .dataframe tbody tr th {\n",
       "        vertical-align: top;\n",
       "    }\n",
       "\n",
       "    .dataframe thead th {\n",
       "        text-align: right;\n",
       "    }\n",
       "</style>\n",
       "<table border=\"1\" class=\"dataframe\">\n",
       "  <thead>\n",
       "    <tr style=\"text-align: right;\">\n",
       "      <th></th>\n",
       "      <th>city</th>\n",
       "      <th>state</th>\n",
       "      <th>walk_score</th>\n",
       "      <th>transit_score</th>\n",
       "      <th>bike_score</th>\n",
       "      <th>population</th>\n",
       "    </tr>\n",
       "  </thead>\n",
       "  <tbody>\n",
       "    <tr>\n",
       "      <th>135</th>\n",
       "      <td>Gold Coast</td>\n",
       "      <td>AU-QLD</td>\n",
       "      <td>47.8</td>\n",
       "      <td>NaN</td>\n",
       "      <td>NaN</td>\n",
       "      <td>478107</td>\n",
       "    </tr>\n",
       "    <tr>\n",
       "      <th>136</th>\n",
       "      <td>Sunshine Coast</td>\n",
       "      <td>AU-QLD</td>\n",
       "      <td>44.5</td>\n",
       "      <td>NaN</td>\n",
       "      <td>NaN</td>\n",
       "      <td>209263</td>\n",
       "    </tr>\n",
       "    <tr>\n",
       "      <th>137</th>\n",
       "      <td>Adelaide</td>\n",
       "      <td>AU-SA</td>\n",
       "      <td>53.6</td>\n",
       "      <td>NaN</td>\n",
       "      <td>NaN</td>\n",
       "      <td>1103979</td>\n",
       "    </tr>\n",
       "    <tr>\n",
       "      <th>138</th>\n",
       "      <td>Perth</td>\n",
       "      <td>AU-WA</td>\n",
       "      <td>50.2</td>\n",
       "      <td>NaN</td>\n",
       "      <td>NaN</td>\n",
       "      <td>1627576</td>\n",
       "    </tr>\n",
       "    <tr>\n",
       "      <th>139</th>\n",
       "      <td>Canberra</td>\n",
       "      <td>AU-ACT</td>\n",
       "      <td>39.9</td>\n",
       "      <td>NaN</td>\n",
       "      <td>NaN</td>\n",
       "      <td>355596</td>\n",
       "    </tr>\n",
       "  </tbody>\n",
       "</table>\n",
       "</div>"
      ],
      "text/plain": [
       "               city   state  walk_score  transit_score  bike_score  population\n",
       "135      Gold Coast  AU-QLD        47.8            NaN         NaN      478107\n",
       "136  Sunshine Coast  AU-QLD        44.5            NaN         NaN      209263\n",
       "137        Adelaide   AU-SA        53.6            NaN         NaN     1103979\n",
       "138           Perth   AU-WA        50.2            NaN         NaN     1627576\n",
       "139        Canberra  AU-ACT        39.9            NaN         NaN      355596"
      ]
     },
     "execution_count": 192,
     "metadata": {},
     "output_type": "execute_result"
    }
   ],
   "source": [
    "df_walkscore.tail()"
   ]
  },
  {
   "cell_type": "code",
   "execution_count": 189,
   "metadata": {},
   "outputs": [],
   "source": [
    "#city = [x.replace('(.*)','') for x in city]\n",
    "df_walkscore['population'] = [x.replace(',','') for x in df_walkscore['population']]\n",
    "numeric = ['walk_score', 'transit_score', 'bike_score', 'population']\n",
    "for n in numeric:\n",
    "    df_walkscore[n] = df_walkscore[n].apply(pd.to_numeric, errors = 'coerce')"
   ]
  },
  {
   "cell_type": "code",
   "execution_count": 193,
   "metadata": {},
   "outputs": [],
   "source": [
    "df_walkscore.to_pickle('city_walkscore.pkl')"
   ]
  },
  {
   "cell_type": "markdown",
   "metadata": {},
   "source": [
    "### iv. Weather"
   ]
  },
  {
   "cell_type": "markdown",
   "metadata": {},
   "source": [
    "*a. Average yearly temperature*"
   ]
  },
  {
   "cell_type": "code",
   "execution_count": 32,
   "metadata": {},
   "outputs": [],
   "source": [
    "url = 'https://en.wikipedia.org/wiki/List_of_cities_by_average_temperature'"
   ]
  },
  {
   "cell_type": "code",
   "execution_count": 33,
   "metadata": {},
   "outputs": [
    {
     "data": {
      "text/plain": [
       "6"
      ]
     },
     "execution_count": 33,
     "metadata": {},
     "output_type": "execute_result"
    }
   ],
   "source": [
    "soup = get_soup(url)\n",
    "tables = soup.find_all(\"table\")\n",
    "len(tables)"
   ]
  },
  {
   "cell_type": "code",
   "execution_count": 248,
   "metadata": {},
   "outputs": [],
   "source": [
    "#tables[3]"
   ]
  },
  {
   "cell_type": "code",
   "execution_count": 46,
   "metadata": {},
   "outputs": [],
   "source": [
    "#soup"
   ]
  },
  {
   "cell_type": "code",
   "execution_count": 34,
   "metadata": {},
   "outputs": [
    {
     "data": {
      "text/plain": [
       "92"
      ]
     },
     "execution_count": 34,
     "metadata": {},
     "output_type": "execute_result"
    }
   ],
   "source": [
    "rows = [row for row in tables[3].find_all('tr')]\n",
    "len(rows)"
   ]
  },
  {
   "cell_type": "code",
   "execution_count": 251,
   "metadata": {},
   "outputs": [],
   "source": [
    "#rows[1]"
   ]
  },
  {
   "cell_type": "code",
   "execution_count": 35,
   "metadata": {},
   "outputs": [
    {
     "data": {
      "text/plain": [
       "[<a href=\"/wiki/Antigua_and_Barbuda\" title=\"Antigua and Barbuda\">Antigua and Barbuda</a>,\n",
       " '\\n']"
      ]
     },
     "execution_count": 35,
     "metadata": {},
     "output_type": "execute_result"
    }
   ],
   "source": [
    "rows[1].find_all('td')[0].contents"
   ]
  },
  {
   "cell_type": "code",
   "execution_count": 36,
   "metadata": {},
   "outputs": [
    {
     "data": {
      "text/plain": [
       "'25.4(77.7)\\n'"
      ]
     },
     "execution_count": 36,
     "metadata": {},
     "output_type": "execute_result"
    }
   ],
   "source": [
    "tds = []\n",
    "for row in rows[1:]:\n",
    "    tds.append(row.find_all('td'))\n",
    "tds[0][2].text"
   ]
  },
  {
   "cell_type": "code",
   "execution_count": 37,
   "metadata": {},
   "outputs": [
    {
     "data": {
      "text/plain": [
       "'United States\\n'"
      ]
     },
     "execution_count": 37,
     "metadata": {},
     "output_type": "execute_result"
    }
   ],
   "source": [
    "tds[-2][0].text\n"
   ]
  },
  {
   "cell_type": "code",
   "execution_count": 52,
   "metadata": {},
   "outputs": [],
   "source": [
    "tds = []\n",
    "for row in rows[1:]:\n",
    "    tds.append(row.find_all('td'))\n",
    "    # RANK\n",
    "    country = [tds[i][0].text for i in range(len(tds))]\n",
    "    city = [tds[i][1].text for i in range(len(tds))]\n",
    "    january = [tds[i][2].text for i in range(len(tds))]\n",
    "    february = [tds[i][3].text for i in range(len(tds))]\n",
    "    march = [tds[i][4].text for i in range(len(tds))]\n",
    "    april = [tds[i][5].text for i in range(len(tds))]\n",
    "    may = [tds[i][6].text for i in range(len(tds))]\n",
    "    june = [tds[i][7].text for i in range(len(tds))]\n",
    "    july = [tds[i][8].text for i in range(len(tds))]\n",
    "    august = [tds[i][9].text for i in range(len(tds))]\n",
    "    september = [tds[i][10].text for i in range(len(tds))]\n",
    "    october = [tds[i][11].text for i in range(len(tds))]\n",
    "    november = [tds[i][12].text for i in range(len(tds))]\n",
    "    december = [tds[i][13].text for i in range(len(tds))]\n",
    "    year = [tds[i][14].text+str(i) for i in range(len(tds))]"
   ]
  },
  {
   "cell_type": "code",
   "execution_count": 27,
   "metadata": {
    "scrolled": true
   },
   "outputs": [
    {
     "data": {
      "text/plain": [
       "\"St. John's\\n\""
      ]
     },
     "execution_count": 27,
     "metadata": {},
     "output_type": "execute_result"
    }
   ],
   "source": [
    "city[0]\n"
   ]
  },
  {
   "cell_type": "code",
   "execution_count": 58,
   "metadata": {},
   "outputs": [
    {
     "data": {
      "text/plain": [
       "['26.9(80.4)\\n0',\n",
       " '28.1(82.6)\\n1',\n",
       " '24.6(76.3)\\n2',\n",
       " '27.0(80.6)\\n3',\n",
       " '26.7(80.1)\\n4']"
      ]
     },
     "execution_count": 58,
     "metadata": {},
     "output_type": "execute_result"
    }
   ],
   "source": [
    "year[0:5]"
   ]
  },
  {
   "cell_type": "code",
   "execution_count": 47,
   "metadata": {},
   "outputs": [
    {
     "data": {
      "text/plain": [
       "['Phoenix', 'Pittsburgh', 'Portland', 'Sacramento', 'Salt LakeCity']"
      ]
     },
     "execution_count": 47,
     "metadata": {},
     "output_type": "execute_result"
    }
   ],
   "source": [
    "city[-15:-10]"
   ]
  },
  {
   "cell_type": "code",
   "execution_count": 38,
   "metadata": {},
   "outputs": [
    {
     "data": {
      "text/plain": [
       "['Antigua and Barbuda', 'Aruba', 'The Bahamas', 'Barbados', 'Belize']"
      ]
     },
     "execution_count": 38,
     "metadata": {},
     "output_type": "execute_result"
    }
   ],
   "source": [
    "country[0:5]"
   ]
  },
  {
   "cell_type": "code",
   "execution_count": 71,
   "metadata": {},
   "outputs": [],
   "source": [
    "country = [(x.replace('\\n','')) for x in country]\n",
    "city = [x.replace('\\n','') for x in city]\n",
    "city = [re.sub(r'\\(.*\\)','', x).rstrip() for x in city]\n",
    "year = [x.rstrip() for x in year]"
   ]
  },
  {
   "cell_type": "code",
   "execution_count": 77,
   "metadata": {},
   "outputs": [],
   "source": [
    "df_weather = pd.DataFrame(\n",
    "    {'country': country,\n",
    "    'city': city,\n",
    "    'avg_yearly_temp': year\n",
    "    })"
   ]
  },
  {
   "cell_type": "code",
   "execution_count": 78,
   "metadata": {},
   "outputs": [],
   "source": [
    "df_weather[['year_C','year_F']] = df_weather['avg_yearly_temp'].str.split('(', expand = True)\n"
   ]
  },
  {
   "cell_type": "code",
   "execution_count": 79,
   "metadata": {},
   "outputs": [],
   "source": [
    "df_weather['year_F'] = df_weather['year_F'].str.split(')', expand = True)"
   ]
  },
  {
   "cell_type": "code",
   "execution_count": 85,
   "metadata": {},
   "outputs": [],
   "source": [
    "df_weather = df_weather.drop(['avg_yearly_temp'], axis = 1)"
   ]
  },
  {
   "cell_type": "code",
   "execution_count": 292,
   "metadata": {
    "scrolled": true
   },
   "outputs": [
    {
     "data": {
      "text/html": [
       "<div>\n",
       "<style scoped>\n",
       "    .dataframe tbody tr th:only-of-type {\n",
       "        vertical-align: middle;\n",
       "    }\n",
       "\n",
       "    .dataframe tbody tr th {\n",
       "        vertical-align: top;\n",
       "    }\n",
       "\n",
       "    .dataframe thead th {\n",
       "        text-align: right;\n",
       "    }\n",
       "</style>\n",
       "<table border=\"1\" class=\"dataframe\">\n",
       "  <thead>\n",
       "    <tr style=\"text-align: right;\">\n",
       "      <th></th>\n",
       "      <th>country</th>\n",
       "      <th>city</th>\n",
       "      <th>year_C</th>\n",
       "      <th>year_F</th>\n",
       "    </tr>\n",
       "  </thead>\n",
       "  <tbody>\n",
       "    <tr>\n",
       "      <th>0</th>\n",
       "      <td>Antigua and Barbuda</td>\n",
       "      <td>St. John's</td>\n",
       "      <td>26.9</td>\n",
       "      <td>80.4</td>\n",
       "    </tr>\n",
       "    <tr>\n",
       "      <th>1</th>\n",
       "      <td>Aruba</td>\n",
       "      <td>Oranjestad</td>\n",
       "      <td>28.1</td>\n",
       "      <td>82.6</td>\n",
       "    </tr>\n",
       "    <tr>\n",
       "      <th>2</th>\n",
       "      <td>The Bahamas</td>\n",
       "      <td>Nassau</td>\n",
       "      <td>24.6</td>\n",
       "      <td>76.3</td>\n",
       "    </tr>\n",
       "    <tr>\n",
       "      <th>3</th>\n",
       "      <td>Barbados</td>\n",
       "      <td>Bridgetown</td>\n",
       "      <td>27.0</td>\n",
       "      <td>80.6</td>\n",
       "    </tr>\n",
       "    <tr>\n",
       "      <th>4</th>\n",
       "      <td>Belize</td>\n",
       "      <td>Belize City</td>\n",
       "      <td>26.7</td>\n",
       "      <td>80.1</td>\n",
       "    </tr>\n",
       "  </tbody>\n",
       "</table>\n",
       "</div>"
      ],
      "text/plain": [
       "               country         city year_C year_F\n",
       "0  Antigua and Barbuda   St. John's   26.9   80.4\n",
       "1                Aruba   Oranjestad   28.1   82.6\n",
       "2          The Bahamas       Nassau   24.6   76.3\n",
       "3             Barbados   Bridgetown   27.0   80.6\n",
       "4               Belize  Belize City   26.7   80.1"
      ]
     },
     "execution_count": 292,
     "metadata": {},
     "output_type": "execute_result"
    }
   ],
   "source": [
    "df_weather.head()"
   ]
  },
  {
   "cell_type": "code",
   "execution_count": 293,
   "metadata": {},
   "outputs": [],
   "source": [
    "numeric = ['year_C', 'year_F']\n",
    "for n in numeric:\n",
    "    df_weather[n] = df_weather[n].apply(pd.to_numeric, errors = 'coerce')"
   ]
  },
  {
   "cell_type": "code",
   "execution_count": 294,
   "metadata": {},
   "outputs": [],
   "source": [
    "df_weather.to_pickle('city_temp.pkl')"
   ]
  },
  {
   "cell_type": "code",
   "execution_count": 49,
   "metadata": {},
   "outputs": [],
   "source": [
    "df_weather = pd.read_pickle('city_temp.pkl')"
   ]
  },
  {
   "cell_type": "code",
   "execution_count": 70,
   "metadata": {
    "scrolled": false
   },
   "outputs": [],
   "source": [
    "#list(df_weather.city[df_weather.country == 'United States'])"
   ]
  },
  {
   "cell_type": "code",
   "execution_count": 54,
   "metadata": {},
   "outputs": [],
   "source": []
  },
  {
   "cell_type": "code",
   "execution_count": 55,
   "metadata": {},
   "outputs": [],
   "source": []
  },
  {
   "cell_type": "code",
   "execution_count": 57,
   "metadata": {},
   "outputs": [],
   "source": []
  },
  {
   "cell_type": "code",
   "execution_count": 59,
   "metadata": {},
   "outputs": [],
   "source": [
    "#df_weather"
   ]
  },
  {
   "cell_type": "code",
   "execution_count": 60,
   "metadata": {},
   "outputs": [],
   "source": [
    "df_weather.to_pickle('city_temp.pkl')"
   ]
  },
  {
   "cell_type": "markdown",
   "metadata": {},
   "source": [
    "*b. Average precipication*"
   ]
  },
  {
   "cell_type": "code",
   "execution_count": 136,
   "metadata": {},
   "outputs": [],
   "source": [
    "url = 'https://www.currentresults.com/Weather/US/average-annual-precipitation-by-city.php'"
   ]
  },
  {
   "cell_type": "code",
   "execution_count": 140,
   "metadata": {},
   "outputs": [],
   "source": [
    "soup = get_soup(url)\n"
   ]
  },
  {
   "cell_type": "code",
   "execution_count": 151,
   "metadata": {},
   "outputs": [],
   "source": [
    "#soup"
   ]
  },
  {
   "cell_type": "code",
   "execution_count": 142,
   "metadata": {},
   "outputs": [
    {
     "data": {
      "text/plain": [
       "3"
      ]
     },
     "execution_count": 142,
     "metadata": {},
     "output_type": "execute_result"
    }
   ],
   "source": [
    "tables = soup.find_all(\"table\")\n",
    "len(tables)"
   ]
  },
  {
   "cell_type": "code",
   "execution_count": 185,
   "metadata": {},
   "outputs": [],
   "source": [
    "#tables[0]"
   ]
  },
  {
   "cell_type": "code",
   "execution_count": 158,
   "metadata": {},
   "outputs": [
    {
     "data": {
      "text/plain": [
       "3"
      ]
     },
     "execution_count": 158,
     "metadata": {},
     "output_type": "execute_result"
    }
   ],
   "source": [
    "rowsall = []\n",
    "for i, t in enumerate(tables):\n",
    "    rows = tables[i].find_all('tr')\n",
    "    rowsall.append(rows)\n",
    "len(rowsall)"
   ]
  },
  {
   "cell_type": "code",
   "execution_count": 159,
   "metadata": {},
   "outputs": [],
   "source": [
    "rowsall = flatten(rowsall)"
   ]
  },
  {
   "cell_type": "code",
   "execution_count": 176,
   "metadata": {},
   "outputs": [
    {
     "data": {
      "text/plain": [
       "54"
      ]
     },
     "execution_count": 176,
     "metadata": {},
     "output_type": "execute_result"
    }
   ],
   "source": [
    "len(rowsall)\n",
    "len(rowsall)"
   ]
  },
  {
   "cell_type": "code",
   "execution_count": 177,
   "metadata": {},
   "outputs": [],
   "source": [
    "rows = rowsall"
   ]
  },
  {
   "cell_type": "code",
   "execution_count": 204,
   "metadata": {},
   "outputs": [
    {
     "data": {
      "text/plain": [
       "[<td>114</td>, <td>Washington, DC</td>, <td>39.7</td>, <td>1009</td>]"
      ]
     },
     "execution_count": 204,
     "metadata": {},
     "output_type": "execute_result"
    }
   ],
   "source": [
    "rowsall[-1].find_all('td')"
   ]
  },
  {
   "cell_type": "code",
   "execution_count": 270,
   "metadata": {},
   "outputs": [],
   "source": [
    "tds = []\n",
    "for i, row in enumerate(rowsall[1:]):\n",
    "    td = rowsall[i].find_all('td')\n",
    "    if td == []:\n",
    "        pass\n",
    "    else:\n",
    "        tds.append(td)\n"
   ]
  },
  {
   "cell_type": "code",
   "execution_count": 257,
   "metadata": {},
   "outputs": [],
   "source": [
    "#tds.pop(0)"
   ]
  },
  {
   "cell_type": "code",
   "execution_count": 271,
   "metadata": {},
   "outputs": [
    {
     "data": {
      "text/plain": [
       "50"
      ]
     },
     "execution_count": 271,
     "metadata": {},
     "output_type": "execute_result"
    }
   ],
   "source": [
    "len(tds)"
   ]
  },
  {
   "cell_type": "code",
   "execution_count": 278,
   "metadata": {},
   "outputs": [],
   "source": [
    "days = [tds[i][0].contents for i in range(len(tds))]\n",
    "city = [tds[i][1].contents for i in range(len(tds))]\n",
    "inches = [tds[i][2].contents for i in range(len(tds))]\n",
    "mills = [tds[i][3].contents for i in range(len(tds))]"
   ]
  },
  {
   "cell_type": "code",
   "execution_count": 279,
   "metadata": {},
   "outputs": [],
   "source": [
    "days = flatten(days)"
   ]
  },
  {
   "cell_type": "code",
   "execution_count": 280,
   "metadata": {},
   "outputs": [],
   "source": [
    "city = flatten(city)"
   ]
  },
  {
   "cell_type": "code",
   "execution_count": 281,
   "metadata": {},
   "outputs": [],
   "source": [
    "inches = flatten(inches)"
   ]
  },
  {
   "cell_type": "code",
   "execution_count": 284,
   "metadata": {},
   "outputs": [],
   "source": [
    "mills = flatten(mills)"
   ]
  },
  {
   "cell_type": "code",
   "execution_count": 285,
   "metadata": {},
   "outputs": [
    {
     "data": {
      "text/plain": [
       "['Providence, Rhode Island',\n",
       " 'Raleigh, North Carolina',\n",
       " 'Richmond, Virginia',\n",
       " 'Riverside, California',\n",
       " 'Rochester, New York']"
      ]
     },
     "execution_count": 285,
     "metadata": {},
     "output_type": "execute_result"
    }
   ],
   "source": [
    "city[-15:-10]"
   ]
  },
  {
   "cell_type": "code",
   "execution_count": 286,
   "metadata": {},
   "outputs": [],
   "source": [
    "df_percip = pd.DataFrame(\n",
    "    {'days': days,\n",
    "    'city': city,\n",
    "    'percip_inches': inches,\n",
    "    'percip_mil': mills\n",
    "    })"
   ]
  },
  {
   "cell_type": "code",
   "execution_count": 290,
   "metadata": {},
   "outputs": [],
   "source": [
    "df_percip[['city','state']] = df_percip['city'].str.split(',', expand = True)\n"
   ]
  },
  {
   "cell_type": "code",
   "execution_count": 295,
   "metadata": {},
   "outputs": [],
   "source": [
    "numeric = ['days', 'percip_inches','percip_mil']\n",
    "for n in numeric:\n",
    "    df_percip[n] = df_percip[n].apply(pd.to_numeric, errors = 'coerce')"
   ]
  },
  {
   "cell_type": "code",
   "execution_count": 296,
   "metadata": {},
   "outputs": [
    {
     "data": {
      "text/plain": [
       "days               int64\n",
       "city              object\n",
       "percip_inches    float64\n",
       "percip_mil         int64\n",
       "state             object\n",
       "dtype: object"
      ]
     },
     "execution_count": 296,
     "metadata": {},
     "output_type": "execute_result"
    }
   ],
   "source": [
    "df_percip.dtypes"
   ]
  },
  {
   "cell_type": "code",
   "execution_count": 297,
   "metadata": {
    "scrolled": true
   },
   "outputs": [
    {
     "data": {
      "text/html": [
       "<div>\n",
       "<style scoped>\n",
       "    .dataframe tbody tr th:only-of-type {\n",
       "        vertical-align: middle;\n",
       "    }\n",
       "\n",
       "    .dataframe tbody tr th {\n",
       "        vertical-align: top;\n",
       "    }\n",
       "\n",
       "    .dataframe thead th {\n",
       "        text-align: right;\n",
       "    }\n",
       "</style>\n",
       "<table border=\"1\" class=\"dataframe\">\n",
       "  <thead>\n",
       "    <tr style=\"text-align: right;\">\n",
       "      <th></th>\n",
       "      <th>days</th>\n",
       "      <th>city</th>\n",
       "      <th>percip_inches</th>\n",
       "      <th>percip_mil</th>\n",
       "      <th>state</th>\n",
       "    </tr>\n",
       "  </thead>\n",
       "  <tbody>\n",
       "    <tr>\n",
       "      <th>0</th>\n",
       "      <td>113</td>\n",
       "      <td>Atlanta</td>\n",
       "      <td>49.7</td>\n",
       "      <td>1263</td>\n",
       "      <td>Georgia</td>\n",
       "    </tr>\n",
       "    <tr>\n",
       "      <th>1</th>\n",
       "      <td>88</td>\n",
       "      <td>Austin</td>\n",
       "      <td>34.2</td>\n",
       "      <td>870</td>\n",
       "      <td>Texas</td>\n",
       "    </tr>\n",
       "    <tr>\n",
       "      <th>2</th>\n",
       "      <td>116</td>\n",
       "      <td>Baltimore</td>\n",
       "      <td>41.9</td>\n",
       "      <td>1064</td>\n",
       "      <td>Maryland</td>\n",
       "    </tr>\n",
       "    <tr>\n",
       "      <th>3</th>\n",
       "      <td>117</td>\n",
       "      <td>Birmingham</td>\n",
       "      <td>53.7</td>\n",
       "      <td>1364</td>\n",
       "      <td>Alabama</td>\n",
       "    </tr>\n",
       "    <tr>\n",
       "      <th>4</th>\n",
       "      <td>126</td>\n",
       "      <td>Boston</td>\n",
       "      <td>43.8</td>\n",
       "      <td>1112</td>\n",
       "      <td>Massachusetts</td>\n",
       "    </tr>\n",
       "  </tbody>\n",
       "</table>\n",
       "</div>"
      ],
      "text/plain": [
       "   days        city  percip_inches  percip_mil           state\n",
       "0   113     Atlanta           49.7        1263         Georgia\n",
       "1    88      Austin           34.2         870           Texas\n",
       "2   116   Baltimore           41.9        1064        Maryland\n",
       "3   117  Birmingham           53.7        1364         Alabama\n",
       "4   126      Boston           43.8        1112   Massachusetts"
      ]
     },
     "execution_count": 297,
     "metadata": {},
     "output_type": "execute_result"
    }
   ],
   "source": [
    "df_percip.head()"
   ]
  },
  {
   "cell_type": "code",
   "execution_count": 298,
   "metadata": {},
   "outputs": [],
   "source": [
    "df_percip.to_pickle('city_percip.pkl')"
   ]
  },
  {
   "cell_type": "markdown",
   "metadata": {},
   "source": [
    "## **v. Commercial density**"
   ]
  },
  {
   "cell_type": "code",
   "execution_count": 71,
   "metadata": {},
   "outputs": [],
   "source": [
    "url = 'https://www.citylab.com/life/2012/09/geography-business-density/2807/'"
   ]
  },
  {
   "cell_type": "code",
   "execution_count": 72,
   "metadata": {},
   "outputs": [],
   "source": [
    "soup = get_soup(url)"
   ]
  },
  {
   "cell_type": "code",
   "execution_count": 73,
   "metadata": {},
   "outputs": [
    {
     "data": {
      "text/plain": [
       "1"
      ]
     },
     "execution_count": 73,
     "metadata": {},
     "output_type": "execute_result"
    }
   ],
   "source": [
    "tables = soup.find_all(\"table\")\n",
    "len(tables)"
   ]
  },
  {
   "cell_type": "code",
   "execution_count": 74,
   "metadata": {},
   "outputs": [
    {
     "data": {
      "text/plain": [
       "21"
      ]
     },
     "execution_count": 74,
     "metadata": {},
     "output_type": "execute_result"
    }
   ],
   "source": [
    "rows = [row for row in tables[0].find_all('tr')]\n",
    "len(rows)"
   ]
  },
  {
   "cell_type": "code",
   "execution_count": 75,
   "metadata": {},
   "outputs": [
    {
     "data": {
      "text/plain": [
       "91"
      ]
     },
     "execution_count": 75,
     "metadata": {},
     "output_type": "execute_result"
    }
   ],
   "source": [
    "len(tds)"
   ]
  },
  {
   "cell_type": "code",
   "execution_count": 76,
   "metadata": {},
   "outputs": [
    {
     "data": {
      "text/plain": [
       "[<th scope=\"col\">\n",
       " \t\t\t\tRank</th>, <th scope=\"col\">\n",
       " \t\t\t\tMetro Area</th>, <th scope=\"col\">\n",
       " \t\t\t\tBusiness Establishments<br/>\n",
       " \t\t\t\tper square mile</th>]"
      ]
     },
     "execution_count": 76,
     "metadata": {},
     "output_type": "execute_result"
    }
   ],
   "source": [
    "rows[0].find_all('th')"
   ]
  },
  {
   "cell_type": "code",
   "execution_count": 77,
   "metadata": {},
   "outputs": [],
   "source": [
    "tds = []\n",
    "for i, row in enumerate(rows[1:]):\n",
    "    td = rows[i].find_all('td')\n",
    "    if td == []:\n",
    "        pass\n",
    "    else:\n",
    "        tds.append(td)\n"
   ]
  },
  {
   "cell_type": "code",
   "execution_count": 78,
   "metadata": {},
   "outputs": [
    {
     "data": {
      "text/plain": [
       "'\\r\\n\\t\\t\\t\\t2'"
      ]
     },
     "execution_count": 78,
     "metadata": {},
     "output_type": "execute_result"
    }
   ],
   "source": [
    "tds[1][0].text"
   ]
  },
  {
   "cell_type": "code",
   "execution_count": 79,
   "metadata": {},
   "outputs": [],
   "source": [
    "rank = [tds[i][0].text for i in range(len(tds))]\n",
    "city = [tds[i][1].text for i in range(len(tds))]\n",
    "bus_per_sq_mi = [tds[i][2].text for i in range(len(tds))]"
   ]
  },
  {
   "cell_type": "code",
   "execution_count": 80,
   "metadata": {},
   "outputs": [],
   "source": [
    "def stripHTML(v):\n",
    "    v = [re.sub(r'\\t', '', x) for x in v]\n",
    "    v = [re.sub(r'\\r', '', x) for x in v]\n",
    "    v = [re.sub(r'\\n', '', x) for x in v]\n",
    "    return(v)"
   ]
  },
  {
   "cell_type": "code",
   "execution_count": 81,
   "metadata": {},
   "outputs": [],
   "source": [
    "rank = stripHTML(rank)\n",
    "city = stripHTML(city)\n",
    "bus_per_sq_mi = stripHTML(bus_per_sq_mi)"
   ]
  },
  {
   "cell_type": "code",
   "execution_count": 88,
   "metadata": {},
   "outputs": [],
   "source": [
    "df_busdensity = pd.DataFrame(\n",
    "    {'rank': rank,\n",
    "    'city': city,\n",
    "    'bus_per_sq_mi': bus_per_sq_mi\n",
    "    })"
   ]
  },
  {
   "cell_type": "code",
   "execution_count": 89,
   "metadata": {},
   "outputs": [],
   "source": [
    "df_busdensity[['city','state']] = df_busdensity['city'].str.split(',', expand = True)"
   ]
  },
  {
   "cell_type": "code",
   "execution_count": 90,
   "metadata": {},
   "outputs": [],
   "source": [
    "df_busdensity[['city1','city2','city3']] = df_busdensity['city'].str.split('-', expand = True)"
   ]
  },
  {
   "cell_type": "code",
   "execution_count": 93,
   "metadata": {},
   "outputs": [
    {
     "data": {
      "text/html": [
       "<div>\n",
       "<style scoped>\n",
       "    .dataframe tbody tr th:only-of-type {\n",
       "        vertical-align: middle;\n",
       "    }\n",
       "\n",
       "    .dataframe tbody tr th {\n",
       "        vertical-align: top;\n",
       "    }\n",
       "\n",
       "    .dataframe thead th {\n",
       "        text-align: right;\n",
       "    }\n",
       "</style>\n",
       "<table border=\"1\" class=\"dataframe\">\n",
       "  <thead>\n",
       "    <tr style=\"text-align: right;\">\n",
       "      <th></th>\n",
       "      <th>rank</th>\n",
       "      <th>bus_per_sq_mi</th>\n",
       "      <th>state</th>\n",
       "      <th>variable</th>\n",
       "      <th>value</th>\n",
       "    </tr>\n",
       "  </thead>\n",
       "  <tbody>\n",
       "    <tr>\n",
       "      <th>0</th>\n",
       "      <td>1</td>\n",
       "      <td>79.0</td>\n",
       "      <td>NY-NJ-PA</td>\n",
       "      <td>city1</td>\n",
       "      <td>New York</td>\n",
       "    </tr>\n",
       "    <tr>\n",
       "      <th>1</th>\n",
       "      <td>2</td>\n",
       "      <td>68.7</td>\n",
       "      <td>CA</td>\n",
       "      <td>city1</td>\n",
       "      <td>Los Angeles</td>\n",
       "    </tr>\n",
       "    <tr>\n",
       "      <th>2</th>\n",
       "      <td>3</td>\n",
       "      <td>47.9</td>\n",
       "      <td>CA</td>\n",
       "      <td>city1</td>\n",
       "      <td>San Francisco</td>\n",
       "    </tr>\n",
       "    <tr>\n",
       "      <th>3</th>\n",
       "      <td>4</td>\n",
       "      <td>34.9</td>\n",
       "      <td>MA-NH</td>\n",
       "      <td>city1</td>\n",
       "      <td>Boston</td>\n",
       "    </tr>\n",
       "    <tr>\n",
       "      <th>4</th>\n",
       "      <td>5</td>\n",
       "      <td>33.1</td>\n",
       "      <td>FL</td>\n",
       "      <td>city1</td>\n",
       "      <td>Miami</td>\n",
       "    </tr>\n",
       "  </tbody>\n",
       "</table>\n",
       "</div>"
      ],
      "text/plain": [
       "  rank bus_per_sq_mi      state variable          value\n",
       "0    1          79.0   NY-NJ-PA    city1       New York\n",
       "1    2          68.7         CA    city1    Los Angeles\n",
       "2    3          47.9         CA    city1  San Francisco\n",
       "3    4          34.9      MA-NH    city1         Boston\n",
       "4    5          33.1         FL    city1          Miami"
      ]
     },
     "execution_count": 93,
     "metadata": {},
     "output_type": "execute_result"
    }
   ],
   "source": [
    "df_busdensity.head()"
   ]
  },
  {
   "cell_type": "code",
   "execution_count": 92,
   "metadata": {},
   "outputs": [],
   "source": [
    "#df_busdensity.unstack().reset_index()\n",
    "df_busdensity = pd.melt(df_busdensity, id_vars=['rank','bus_per_sq_mi','state'], value_vars=['city1', 'city2', 'city3'])\n"
   ]
  },
  {
   "cell_type": "code",
   "execution_count": 94,
   "metadata": {},
   "outputs": [],
   "source": [
    "df_busdensity = df_busdensity.drop(['variable'], axis = 1)"
   ]
  },
  {
   "cell_type": "code",
   "execution_count": 95,
   "metadata": {},
   "outputs": [],
   "source": [
    "numeric = ['rank', 'bus_per_sq_mi']\n",
    "for n in numeric:\n",
    "    df_busdensity[n] = df_busdensity[n].apply(pd.to_numeric, errors = 'coerce')"
   ]
  },
  {
   "cell_type": "code",
   "execution_count": 96,
   "metadata": {},
   "outputs": [],
   "source": [
    "df_busdensity = df_busdensity.drop(['rank'], axis = 1)"
   ]
  },
  {
   "cell_type": "code",
   "execution_count": 97,
   "metadata": {},
   "outputs": [],
   "source": [
    "df_busdensity = df_busdensity.rename(columns={'value': 'city'})"
   ]
  },
  {
   "cell_type": "code",
   "execution_count": 98,
   "metadata": {},
   "outputs": [
    {
     "data": {
      "text/plain": [
       "bus_per_sq_mi    float64\n",
       "state             object\n",
       "city              object\n",
       "dtype: object"
      ]
     },
     "execution_count": 98,
     "metadata": {},
     "output_type": "execute_result"
    }
   ],
   "source": [
    "df_busdensity.dtypes"
   ]
  },
  {
   "cell_type": "code",
   "execution_count": null,
   "metadata": {},
   "outputs": [],
   "source": []
  },
  {
   "cell_type": "code",
   "execution_count": 99,
   "metadata": {},
   "outputs": [],
   "source": [
    "df_busdensity.to_pickle('city_busdensity.pkl')"
   ]
  },
  {
   "cell_type": "code",
   "execution_count": 100,
   "metadata": {},
   "outputs": [],
   "source": [
    "df_busdensity = pd.read_pickle('city_busdensity.pkl')"
   ]
  },
  {
   "cell_type": "code",
   "execution_count": 101,
   "metadata": {
    "scrolled": false
   },
   "outputs": [
    {
     "data": {
      "text/html": [
       "<div>\n",
       "<style scoped>\n",
       "    .dataframe tbody tr th:only-of-type {\n",
       "        vertical-align: middle;\n",
       "    }\n",
       "\n",
       "    .dataframe tbody tr th {\n",
       "        vertical-align: top;\n",
       "    }\n",
       "\n",
       "    .dataframe thead th {\n",
       "        text-align: right;\n",
       "    }\n",
       "</style>\n",
       "<table border=\"1\" class=\"dataframe\">\n",
       "  <thead>\n",
       "    <tr style=\"text-align: right;\">\n",
       "      <th></th>\n",
       "      <th>bus_per_sq_mi</th>\n",
       "      <th>state</th>\n",
       "      <th>city</th>\n",
       "    </tr>\n",
       "  </thead>\n",
       "  <tbody>\n",
       "    <tr>\n",
       "      <th>0</th>\n",
       "      <td>79.0</td>\n",
       "      <td>NY-NJ-PA</td>\n",
       "      <td>New York</td>\n",
       "    </tr>\n",
       "    <tr>\n",
       "      <th>1</th>\n",
       "      <td>68.7</td>\n",
       "      <td>CA</td>\n",
       "      <td>Los Angeles</td>\n",
       "    </tr>\n",
       "    <tr>\n",
       "      <th>2</th>\n",
       "      <td>47.9</td>\n",
       "      <td>CA</td>\n",
       "      <td>San Francisco</td>\n",
       "    </tr>\n",
       "    <tr>\n",
       "      <th>3</th>\n",
       "      <td>34.9</td>\n",
       "      <td>MA-NH</td>\n",
       "      <td>Boston</td>\n",
       "    </tr>\n",
       "    <tr>\n",
       "      <th>4</th>\n",
       "      <td>33.1</td>\n",
       "      <td>FL</td>\n",
       "      <td>Miami</td>\n",
       "    </tr>\n",
       "  </tbody>\n",
       "</table>\n",
       "</div>"
      ],
      "text/plain": [
       "   bus_per_sq_mi      state           city\n",
       "0           79.0   NY-NJ-PA       New York\n",
       "1           68.7         CA    Los Angeles\n",
       "2           47.9         CA  San Francisco\n",
       "3           34.9      MA-NH         Boston\n",
       "4           33.1         FL          Miami"
      ]
     },
     "execution_count": 101,
     "metadata": {},
     "output_type": "execute_result"
    }
   ],
   "source": [
    "df_busdensity.head()"
   ]
  },
  {
   "cell_type": "code",
   "execution_count": 102,
   "metadata": {},
   "outputs": [],
   "source": [
    "states=df_busdensity.groupby('city')['state'].apply(list).to_dict()"
   ]
  },
  {
   "cell_type": "code",
   "execution_count": 104,
   "metadata": {},
   "outputs": [],
   "source": [
    "#states"
   ]
  },
  {
   "cell_type": "code",
   "execution_count": 65,
   "metadata": {},
   "outputs": [],
   "source": [
    "df_busdensity['state'] = df_busdensity['city'].map(states)"
   ]
  },
  {
   "cell_type": "code",
   "execution_count": 105,
   "metadata": {},
   "outputs": [],
   "source": [
    "#list(df_busdensity.city[df_busdensity.state.isnull() == True])"
   ]
  },
  {
   "cell_type": "markdown",
   "metadata": {},
   "source": [
    "## **vi. UNHabitat etc.**"
   ]
  },
  {
   "cell_type": "code",
   "execution_count": 415,
   "metadata": {},
   "outputs": [],
   "source": [
    "un_data = pd.read_excel('indicator_data_US.xls')"
   ]
  },
  {
   "cell_type": "code",
   "execution_count": 417,
   "metadata": {
    "scrolled": true
   },
   "outputs": [
    {
     "data": {
      "text/plain": [
       "urban_population_share_national                       177\n",
       "urban_population_cities                               177\n",
       "avg_annual_rate_change_percentage_urban               138\n",
       "population                                             22\n",
       "income_gini_coefficient_cities                         22\n",
       "urban_population_countries                             22\n",
       "rural_population                                       22\n",
       "population_cities_by_country_1m_5m                     16\n",
       "number_of_cities_1_5_million                           16\n",
       "number_of_cities_500k_1_million                        16\n",
       "number_of_cities_10_million_or_more                    16\n",
       "urban_population_percentage_fewer_500k                 16\n",
       "population_cities_by_country_10m_or_more               16\n",
       "number_of_cities_5_10_million                          15\n",
       "urban_population_percentage_1m_5m                      14\n",
       "death_per_1000_live_births                              8\n",
       "under_5_mortality_rate                                  8\n",
       "infant_mortality_rate                                   8\n",
       "street_density_city_core                                4\n",
       "intersection_density_index_city_core                    4\n",
       "proportion_land_allocated_to_street_city_core           4\n",
       "intersection_density_city_core                          4\n",
       "street_density_index_city_core                          4\n",
       "urban_population_percentage_10m_or_more                 4\n",
       "land_allocated_to_street_index_city_core                4\n",
       "composite_street_connectivity_index_city_core           4\n",
       "urban_agglomeration_population_density                  3\n",
       "base_year_population_estimate                           3\n",
       "population_estimate_urban_agglomerations                3\n",
       "percentage_of_international_migrants                    3\n",
       "                                                     ... \n",
       "goods_hauled_by_railways                                1\n",
       "total_railway_route                                     1\n",
       "intersection_density_sub_urban_area                     1\n",
       "percentage_of_roads                                     1\n",
       "proportion_land_allocated_to_street_total               1\n",
       "loss_of_lives_in_cyclones                               1\n",
       "transport_share_countries_walking                       1\n",
       "loss_of_lives_by_earthquake                             1\n",
       "passengers_carried_by_air                               1\n",
       "street_density_index_sub_urban_area                     1\n",
       "transport_share_cities_public_transport                 1\n",
       "loss_of_lives_in_floods                                 1\n",
       "cpi_6_dimensions                                        1\n",
       "number_of_cyclones                                      1\n",
       "number_of_refugees_by_country_of_asylum                 1\n",
       "cpi_5_dimensions                                        1\n",
       "total_road_network                                      1\n",
       "intersection_density_index_sub_urban_area               1\n",
       "road_density_national_roads                             1\n",
       "land_allocated_to_street_index_sub_urban_area           1\n",
       "total_length_road                                       1\n",
       "street_density_sub_urban_area                           1\n",
       "composite_street_connectivity_index_sub_urban_area      1\n",
       "pop_urban_percentage                                    1\n",
       "goods_hauled_by_road                                    1\n",
       "cpi_composite_street_connectivity_index                 1\n",
       "paved_road                                              1\n",
       "loss_of_lives_in_cyclones_per_million_population        1\n",
       "urban_population_percentage_500k_1m                     1\n",
       "loss_of_lives_in_floods_per_million_population          1\n",
       "Name: indicator, Length: 74, dtype: int64"
      ]
     },
     "execution_count": 417,
     "metadata": {},
     "output_type": "execute_result"
    }
   ],
   "source": [
    "un_data.indicator.value_counts()"
   ]
  },
  {
   "cell_type": "markdown",
   "metadata": {},
   "source": [
    "# loop through all states, then all cities with no data in df_xy\n"
   ]
  },
  {
   "cell_type": "markdown",
   "metadata": {},
   "source": [
    "**Walkscore/population**"
   ]
  },
  {
   "cell_type": "code",
   "execution_count": 7,
   "metadata": {},
   "outputs": [
    {
     "data": {
      "text/plain": [
       "'https://www.walkscore.com/CT/'"
      ]
     },
     "execution_count": 7,
     "metadata": {},
     "output_type": "execute_result"
    }
   ],
   "source": [
    "'https://www.walkscore.com/CT/'"
   ]
  },
  {
   "cell_type": "code",
   "execution_count": 8,
   "metadata": {},
   "outputs": [],
   "source": [
    "df_check_walk = pd.read_pickle('df_check_walk.pkl')"
   ]
  },
  {
   "cell_type": "code",
   "execution_count": 11,
   "metadata": {},
   "outputs": [
    {
     "data": {
      "text/plain": [
       "44"
      ]
     },
     "execution_count": 11,
     "metadata": {},
     "output_type": "execute_result"
    }
   ],
   "source": [
    "check_walk = {k: list(v) for k, v in df_check_walk.groupby('state')['city']}\n",
    "\n",
    "len(check_walk)\n",
    "#check_walk"
   ]
  },
  {
   "cell_type": "code",
   "execution_count": 24,
   "metadata": {},
   "outputs": [
    {
     "data": {
      "text/plain": [
       "226"
      ]
     },
     "execution_count": 24,
     "metadata": {},
     "output_type": "execute_result"
    }
   ],
   "source": [
    "city_check_count = sum(len(v) for v in check_walk.values())\n",
    "city_check_count"
   ]
  },
  {
   "cell_type": "code",
   "execution_count": 13,
   "metadata": {},
   "outputs": [
    {
     "name": "stdout",
     "output_type": "stream",
     "text": [
      "AL mobile\n",
      "AL huntsville\n",
      "AL tuscaloosa\n",
      "AL troy\n",
      "AL athens\n",
      "AR fort smith\n",
      "AR little rock\n",
      "AR pine bluff\n",
      "AZ surprise\n",
      "CA santa cruz\n",
      "CA san rafael\n",
      "CA santa barbara\n",
      "CA concord\n",
      "CA fairfield\n",
      "CA monterey\n",
      "CA dana point\n",
      "CA dublin\n",
      "CA escondido\n",
      "CA davis\n",
      "CA oceanside\n",
      "CA antioch\n",
      "CA santa rosa\n",
      "CA watsonville\n",
      "CA oxnard\n",
      "CA strathearn\n",
      "CA salinas\n",
      "CA rohnert park\n",
      "CA vallejo\n",
      "CA vacaville\n",
      "CA delano\n",
      "CA auburn\n",
      "CA lancaster\n",
      "CA lodi\n",
      "CO boulder\n",
      "CO greeley\n",
      "CO pueblo\n",
      "CT stamford\n",
      "CT bridgeport\n",
      "CT hartford\n",
      "CT waterbury\n",
      "CT danbury\n",
      "CT new haven\n",
      "CT derby\n",
      "CT new london\n",
      "CT meriden\n",
      "DC washington, d.c.\n",
      "DE wilmington\n",
      "DE dover\n",
      "DE delmar\n",
      "FL clearwater\n",
      "FL sarasota\n",
      "FL fort myers\n",
      "FL melbourne\n",
      "FL port st. lucie\n",
      "FL panama city\n",
      "FL new port richey\n",
      "FL winter haven\n",
      "FL ocala\n",
      "FL gainesville\n",
      "FL plant city\n",
      "FL pensacola\n",
      "FL tallahassee\n",
      "FL daytona beach\n",
      "FL naples\n",
      "FL stuart\n",
      "FL lakeland\n",
      "FL cocoa\n",
      "FL fort pierce\n",
      "GA savannah\n",
      "GA athens\n",
      "GA gainesville\n",
      "GA buford\n",
      "GA columbus\n",
      "GA augusta\n",
      "GA macon\n",
      "HI kaneohe\n",
      "IA cedar rapids\n",
      "ID boise\n",
      "IL joliet\n",
      "IL north chicago\n",
      "IL elgin\n",
      "IL rockford\n",
      "IL springfield\n",
      "IL peoria\n",
      "IN evansville\n",
      "IN south bend\n",
      "IN hammond\n",
      "IN gary\n",
      "IN lafayette\n",
      "KS topeka\n",
      "KY louisville\n",
      "KY lexington\n",
      "LA shreveport\n",
      "MA framingham\n",
      "MA lowell\n",
      "MA lawrence\n",
      "MA springfield\n",
      "MA worcester\n",
      "MA fitchburg\n",
      "MA new bedford\n",
      "MA fall river\n",
      "MD columbia\n",
      "MD annapolis\n",
      "MD frederick\n",
      "MD hagerstown\n",
      "MD cumberland\n",
      "ME portland\n",
      "ME bangor\n",
      "MI ann arbor\n",
      "MI grand rapids\n",
      "MI flint\n",
      "MI lansing\n",
      "MI saginaw\n",
      "MI kalamazoo\n",
      "MO st louis\n",
      "MS jackson\n",
      "MS oxford\n",
      "MT missoula\n",
      "MT bozeman\n",
      "MT billings\n",
      "MT butte\n",
      "NC wilmington\n",
      "NC greenville\n",
      "NC rocky mount\n",
      "NC high point\n",
      "ND fargo\n",
      "NH manchester\n",
      "NH nashua\n",
      "NH portsmouth\n",
      "NH rochester\n",
      "NJ atlantic city\n",
      "NJ toms river\n",
      "NJ freehold township\n",
      "NJ ocean township\n",
      "NJ brick\n",
      "NJ atco\n",
      "NJ egg harbor township\n",
      "NM farmington\n",
      "NM santa fe\n",
      "NM las cruces\n",
      "NV carson city\n",
      "NY new york city\n",
      "NY albany\n",
      "NY niagara falls\n",
      "NY schenectady\n",
      "NY syracuse\n",
      "NY peekskill\n",
      "NY patchogue\n",
      "NY binghamton\n",
      "NY utica\n",
      "OH dayton\n",
      "OH akron\n",
      "OH elyria\n",
      "OH canton\n",
      "OH youngstown\n",
      "OR bend\n",
      "OR salem\n",
      "OR gresham\n",
      "OR eugene\n",
      "PA allentown\n",
      "PA lancaster\n",
      "PA west chester\n",
      "PA reading\n",
      "PA harrisburg\n",
      "PA king of prussia\n",
      "PA scranton\n",
      "PA easton\n",
      "PA pottstown\n",
      "PA erie\n",
      "PA williamsport\n",
      "PA wilkes-barre\n",
      "RI providence\n",
      "SC columbia\n",
      "SC north charleston\n",
      "SC charleston\n",
      "SC myrtle beach\n",
      "SC greenville\n",
      "SC spartanburg\n",
      "TN nashville\n",
      "TN chattanooga\n",
      "TN knoxville\n",
      "TN cleveland\n",
      "TN bristol\n",
      "TX mcallen\n",
      "TX new braunfels\n",
      "TX brownsville\n",
      "TX denton\n",
      "TX beaumont\n",
      "TX lufkin\n",
      "TX waco\n",
      "TX odessa\n",
      "TX conroe\n",
      "TX san angelo\n",
      "TX college station\n",
      "TX amarillo\n",
      "TX baytown\n",
      "TX harlingen\n",
      "TX sherman\n",
      "TX texas city\n",
      "TX texarkana\n",
      "TX abilene\n",
      "TX wichita falls\n",
      "UT salt lake city\n",
      "UT provo\n",
      "UT ogden\n",
      "UT bountiful\n",
      "UT st. george\n",
      "VA woodbridge\n",
      "VA manassas\n",
      "VA hampton\n",
      "VA fredericksburg\n",
      "VA lynchburg\n",
      "VA charlottesville\n",
      "VA roanoke\n",
      "VA petersburg\n",
      "VA williamsburg\n",
      "WA tacoma\n",
      "WA everett\n",
      "WA olympia\n",
      "WA kennewick-pasco-richland\n",
      "WI appleton\n",
      "WI beloit\n",
      "WI green bay\n",
      "WI kenosha\n",
      "WV wheeling\n",
      "WV parkersburg\n"
     ]
    }
   ],
   "source": [
    "for state in check_walk.keys(): \n",
    "    for city in check_walk[state]: \n",
    "        print(state,city)"
   ]
  },
  {
   "cell_type": "code",
   "execution_count": 560,
   "metadata": {},
   "outputs": [
    {
     "data": {
      "text/plain": [
       "'\\nbirmingham (the largest city in alabama)\\n'"
      ]
     },
     "execution_count": 560,
     "metadata": {},
     "output_type": "execute_result"
    }
   ],
   "source": [
    "tds[1][0].text.lower()"
   ]
  },
  {
   "cell_type": "code",
   "execution_count": 562,
   "metadata": {},
   "outputs": [
    {
     "data": {
      "text/plain": [
       "['mobile', 'huntsville', 'tuscaloosa', 'troy', 'athens']"
      ]
     },
     "execution_count": 562,
     "metadata": {},
     "output_type": "execute_result"
    }
   ],
   "source": [
    "cities"
   ]
  },
  {
   "cell_type": "code",
   "execution_count": 30,
   "metadata": {},
   "outputs": [
    {
     "name": "stdout",
     "output_type": "stream",
     "text": [
      "9\n",
      "1 manchester\n",
      "2 nashua\n",
      "8 portsmouth\n",
      "5 rochester\n"
     ]
    }
   ],
   "source": [
    "state = 'NH'\n",
    "soup = get_soup('https://www.walkscore.com/'+state+'/')\n",
    "tables = soup.find_all(\"table\")\n",
    "rows = tables[0].find_all('tr')\n",
    "tds = [row.find_all('td') for row in rows]\n",
    "\n",
    "for city in check_walk[state]: \n",
    "    for i in range(1, len(tds)):\n",
    "        if city in tds[i][0].text.lower():\n",
    "            print(i, city)"
   ]
  },
  {
   "cell_type": "markdown",
   "metadata": {},
   "source": [
    "# Why getting so many duplicate values????"
   ]
  },
  {
   "cell_type": "code",
   "execution_count": 127,
   "metadata": {},
   "outputs": [],
   "source": [
    "states = []\n",
    "cities = []\n",
    "cities_df = {}\n",
    "walk_score = []\n",
    "transit_score = []\n",
    "bike_score = []\n",
    "population = []\n",
    "\n",
    "for state in check_walk.keys(): \n",
    "\n",
    "    soup = get_soup('https://www.walkscore.com/'+state+'/')\n",
    "    tables = soup.find_all(\"table\")\n",
    "    rows = tables[0].find_all('tr')\n",
    "    tds = [row.find_all('td') for row in rows]\n",
    "\n",
    "    for city in check_walk[state]:          \n",
    "        for i in range(1, len(tds)):\n",
    "            if city in tds[i][0].text.lower():\n",
    "                states.append(state)\n",
    "                cities.append((tds[i][0].text.lower()))\n",
    "                #cities_df = dict(zip(city, tds[i][0].text.lower()))\n",
    "                walk_score.append(tds[i][2].text)\n",
    "                transit_score.append(tds[i][3].text)\n",
    "                bike_score.append(tds[i][4].text)\n",
    "                population.append(tds[i][5].text)"
   ]
  },
  {
   "cell_type": "code",
   "execution_count": 122,
   "metadata": {},
   "outputs": [
    {
     "data": {
      "text/plain": [
       "223"
      ]
     },
     "execution_count": 122,
     "metadata": {},
     "output_type": "execute_result"
    }
   ],
   "source": [
    "dict_all = dict(zip(cities, list(zip(states, walk_score, transit_score, bike_score, population))))\n",
    "len(dict_all)"
   ]
  },
  {
   "cell_type": "code",
   "execution_count": null,
   "metadata": {},
   "outputs": [],
   "source": []
  },
  {
   "cell_type": "code",
   "execution_count": 110,
   "metadata": {},
   "outputs": [
    {
     "data": {
      "text/plain": [
       "223"
      ]
     },
     "execution_count": 110,
     "metadata": {},
     "output_type": "execute_result"
    }
   ],
   "source": [
    "walkscore_updated = pd.DataFrame.from_dict(dict_all, orient='index').reset_index()\n",
    "len(walkscore_updated)"
   ]
  },
  {
   "cell_type": "code",
   "execution_count": 112,
   "metadata": {},
   "outputs": [],
   "source": [
    "walkscore_updated.columns = ['city', 'state', 'walk_score', 'transit_score', 'bike_score', 'population']"
   ]
  },
  {
   "cell_type": "code",
   "execution_count": 113,
   "metadata": {},
   "outputs": [],
   "source": [
    "walkscore_updated['city'] = stripHTML(walkscore_updated['city'])\n",
    "walkscore_updated['city'] = [x.split(' (')[0] for x in walkscore_updated['city']] "
   ]
  },
  {
   "cell_type": "code",
   "execution_count": 115,
   "metadata": {},
   "outputs": [
    {
     "data": {
      "text/html": [
       "<div>\n",
       "<style scoped>\n",
       "    .dataframe tbody tr th:only-of-type {\n",
       "        vertical-align: middle;\n",
       "    }\n",
       "\n",
       "    .dataframe tbody tr th {\n",
       "        vertical-align: top;\n",
       "    }\n",
       "\n",
       "    .dataframe thead th {\n",
       "        text-align: right;\n",
       "    }\n",
       "</style>\n",
       "<table border=\"1\" class=\"dataframe\">\n",
       "  <thead>\n",
       "    <tr style=\"text-align: right;\">\n",
       "      <th></th>\n",
       "      <th>city</th>\n",
       "      <th>state</th>\n",
       "      <th>walk_score</th>\n",
       "      <th>transit_score</th>\n",
       "      <th>bike_score</th>\n",
       "      <th>population</th>\n",
       "    </tr>\n",
       "  </thead>\n",
       "  <tbody>\n",
       "    <tr>\n",
       "      <th>129</th>\n",
       "      <td>manchester</td>\n",
       "      <td>NH</td>\n",
       "      <td>48</td>\n",
       "      <td>--</td>\n",
       "      <td>39</td>\n",
       "      <td>109,565</td>\n",
       "    </tr>\n",
       "    <tr>\n",
       "      <th>130</th>\n",
       "      <td>nashua</td>\n",
       "      <td>NH</td>\n",
       "      <td>37</td>\n",
       "      <td>--</td>\n",
       "      <td>35</td>\n",
       "      <td>86,494</td>\n",
       "    </tr>\n",
       "    <tr>\n",
       "      <th>131</th>\n",
       "      <td>portsmouth</td>\n",
       "      <td>NH</td>\n",
       "      <td>47</td>\n",
       "      <td>--</td>\n",
       "      <td>--</td>\n",
       "      <td>20,779</td>\n",
       "    </tr>\n",
       "    <tr>\n",
       "      <th>132</th>\n",
       "      <td>rochester</td>\n",
       "      <td>NH</td>\n",
       "      <td>21</td>\n",
       "      <td>--</td>\n",
       "      <td>30</td>\n",
       "      <td>29,752</td>\n",
       "    </tr>\n",
       "  </tbody>\n",
       "</table>\n",
       "</div>"
      ],
      "text/plain": [
       "           city state walk_score transit_score bike_score population\n",
       "129  manchester    NH         48            --         39    109,565\n",
       "130      nashua    NH         37            --         35     86,494\n",
       "131  portsmouth    NH         47            --         --     20,779\n",
       "132   rochester    NH         21            --         30     29,752"
      ]
     },
     "execution_count": 115,
     "metadata": {},
     "output_type": "execute_result"
    }
   ],
   "source": [
    "walkscore_updated[walkscore_updated.state=='NH']"
   ]
  },
  {
   "cell_type": "code",
   "execution_count": 116,
   "metadata": {},
   "outputs": [],
   "source": [
    "walkscore_updated['population'] = [re.sub(r',', '', x) for x in walkscore_updated['population']]"
   ]
  },
  {
   "cell_type": "code",
   "execution_count": 117,
   "metadata": {},
   "outputs": [],
   "source": [
    "numeric = ['walk_score', 'transit_score', 'bike_score', 'population']\n",
    "for n in numeric:\n",
    "    walkscore_updated[n] = walkscore_updated[n].apply(pd.to_numeric, errors = 'coerce')"
   ]
  },
  {
   "cell_type": "code",
   "execution_count": 118,
   "metadata": {},
   "outputs": [
    {
     "data": {
      "text/plain": [
       "city              object\n",
       "state             object\n",
       "walk_score         int64\n",
       "transit_score    float64\n",
       "bike_score       float64\n",
       "population         int64\n",
       "dtype: object"
      ]
     },
     "execution_count": 118,
     "metadata": {},
     "output_type": "execute_result"
    }
   ],
   "source": [
    "walkscore_updated.dtypes"
   ]
  },
  {
   "cell_type": "code",
   "execution_count": 637,
   "metadata": {
    "collapsed": true
   },
   "outputs": [
    {
     "data": {
      "text/html": [
       "<div>\n",
       "<style scoped>\n",
       "    .dataframe tbody tr th:only-of-type {\n",
       "        vertical-align: middle;\n",
       "    }\n",
       "\n",
       "    .dataframe tbody tr th {\n",
       "        vertical-align: top;\n",
       "    }\n",
       "\n",
       "    .dataframe thead th {\n",
       "        text-align: right;\n",
       "    }\n",
       "</style>\n",
       "<table border=\"1\" class=\"dataframe\">\n",
       "  <thead>\n",
       "    <tr style=\"text-align: right;\">\n",
       "      <th></th>\n",
       "      <th>city</th>\n",
       "      <th>state</th>\n",
       "      <th>walk_score</th>\n",
       "      <th>transit_score</th>\n",
       "      <th>bike_score</th>\n",
       "      <th>population</th>\n",
       "    </tr>\n",
       "  </thead>\n",
       "  <tbody>\n",
       "    <tr>\n",
       "      <th>0</th>\n",
       "      <td>mobile</td>\n",
       "      <td>AL</td>\n",
       "      <td>33</td>\n",
       "      <td>NaN</td>\n",
       "      <td>33.0</td>\n",
       "      <td>195111</td>\n",
       "    </tr>\n",
       "    <tr>\n",
       "      <th>1</th>\n",
       "      <td>huntsville</td>\n",
       "      <td>AL</td>\n",
       "      <td>23</td>\n",
       "      <td>12.0</td>\n",
       "      <td>36.0</td>\n",
       "      <td>180105</td>\n",
       "    </tr>\n",
       "    <tr>\n",
       "      <th>2</th>\n",
       "      <td>tuscaloosa</td>\n",
       "      <td>AL</td>\n",
       "      <td>33</td>\n",
       "      <td>NaN</td>\n",
       "      <td>32.0</td>\n",
       "      <td>90468</td>\n",
       "    </tr>\n",
       "    <tr>\n",
       "      <th>3</th>\n",
       "      <td>troy</td>\n",
       "      <td>AL</td>\n",
       "      <td>20</td>\n",
       "      <td>NaN</td>\n",
       "      <td>NaN</td>\n",
       "      <td>18033</td>\n",
       "    </tr>\n",
       "    <tr>\n",
       "      <th>4</th>\n",
       "      <td>athens</td>\n",
       "      <td>AL</td>\n",
       "      <td>21</td>\n",
       "      <td>NaN</td>\n",
       "      <td>33.0</td>\n",
       "      <td>21897</td>\n",
       "    </tr>\n",
       "    <tr>\n",
       "      <th>5</th>\n",
       "      <td>auburn</td>\n",
       "      <td>CA</td>\n",
       "      <td>27</td>\n",
       "      <td>NaN</td>\n",
       "      <td>33.0</td>\n",
       "      <td>53380</td>\n",
       "    </tr>\n",
       "    <tr>\n",
       "      <th>6</th>\n",
       "      <td>athens</td>\n",
       "      <td>GA</td>\n",
       "      <td>21</td>\n",
       "      <td>NaN</td>\n",
       "      <td>33.0</td>\n",
       "      <td>21897</td>\n",
       "    </tr>\n",
       "    <tr>\n",
       "      <th>7</th>\n",
       "      <td>oxford</td>\n",
       "      <td>MS</td>\n",
       "      <td>10</td>\n",
       "      <td>NaN</td>\n",
       "      <td>19.0</td>\n",
       "      <td>21348</td>\n",
       "    </tr>\n",
       "    <tr>\n",
       "      <th>8</th>\n",
       "      <td>fort smith</td>\n",
       "      <td>AR</td>\n",
       "      <td>35</td>\n",
       "      <td>NaN</td>\n",
       "      <td>32.0</td>\n",
       "      <td>86209</td>\n",
       "    </tr>\n",
       "    <tr>\n",
       "      <th>9</th>\n",
       "      <td>little rock</td>\n",
       "      <td>AR</td>\n",
       "      <td>32</td>\n",
       "      <td>19.0</td>\n",
       "      <td>28.0</td>\n",
       "      <td>193524</td>\n",
       "    </tr>\n",
       "    <tr>\n",
       "      <th>10</th>\n",
       "      <td>north little rock</td>\n",
       "      <td>AR</td>\n",
       "      <td>32</td>\n",
       "      <td>19.0</td>\n",
       "      <td>29.0</td>\n",
       "      <td>62304</td>\n",
       "    </tr>\n",
       "    <tr>\n",
       "      <th>11</th>\n",
       "      <td>pine bluff</td>\n",
       "      <td>AR</td>\n",
       "      <td>26</td>\n",
       "      <td>NaN</td>\n",
       "      <td>34.0</td>\n",
       "      <td>49083</td>\n",
       "    </tr>\n",
       "    <tr>\n",
       "      <th>12</th>\n",
       "      <td>jacksonville</td>\n",
       "      <td>MS</td>\n",
       "      <td>22</td>\n",
       "      <td>3.0</td>\n",
       "      <td>33.0</td>\n",
       "      <td>28364</td>\n",
       "    </tr>\n",
       "    <tr>\n",
       "      <th>13</th>\n",
       "      <td>texarkana</td>\n",
       "      <td>TX</td>\n",
       "      <td>25</td>\n",
       "      <td>NaN</td>\n",
       "      <td>35.0</td>\n",
       "      <td>29919</td>\n",
       "    </tr>\n",
       "    <tr>\n",
       "      <th>14</th>\n",
       "      <td>surprise</td>\n",
       "      <td>AZ</td>\n",
       "      <td>21</td>\n",
       "      <td>NaN</td>\n",
       "      <td>44.0</td>\n",
       "      <td>117517</td>\n",
       "    </tr>\n",
       "    <tr>\n",
       "      <th>15</th>\n",
       "      <td>peoria</td>\n",
       "      <td>IL</td>\n",
       "      <td>29</td>\n",
       "      <td>14.0</td>\n",
       "      <td>43.0</td>\n",
       "      <td>154065</td>\n",
       "    </tr>\n",
       "    <tr>\n",
       "      <th>16</th>\n",
       "      <td>santa cruz</td>\n",
       "      <td>CA</td>\n",
       "      <td>63</td>\n",
       "      <td>37.0</td>\n",
       "      <td>84.0</td>\n",
       "      <td>59946</td>\n",
       "    </tr>\n",
       "    <tr>\n",
       "      <th>17</th>\n",
       "      <td>san rafael</td>\n",
       "      <td>CA</td>\n",
       "      <td>50</td>\n",
       "      <td>40.0</td>\n",
       "      <td>44.0</td>\n",
       "      <td>57713</td>\n",
       "    </tr>\n",
       "    <tr>\n",
       "      <th>18</th>\n",
       "      <td>santa barbara</td>\n",
       "      <td>CA</td>\n",
       "      <td>62</td>\n",
       "      <td>NaN</td>\n",
       "      <td>59.0</td>\n",
       "      <td>88410</td>\n",
       "    </tr>\n",
       "    <tr>\n",
       "      <th>19</th>\n",
       "      <td>concord</td>\n",
       "      <td>CA</td>\n",
       "      <td>45</td>\n",
       "      <td>30.0</td>\n",
       "      <td>48.0</td>\n",
       "      <td>122067</td>\n",
       "    </tr>\n",
       "    <tr>\n",
       "      <th>20</th>\n",
       "      <td>fairfield</td>\n",
       "      <td>CA</td>\n",
       "      <td>35</td>\n",
       "      <td>NaN</td>\n",
       "      <td>39.0</td>\n",
       "      <td>105321</td>\n",
       "    </tr>\n",
       "    <tr>\n",
       "      <th>21</th>\n",
       "      <td>monterey park</td>\n",
       "      <td>CA</td>\n",
       "      <td>61</td>\n",
       "      <td>NaN</td>\n",
       "      <td>35.0</td>\n",
       "      <td>60269</td>\n",
       "    </tr>\n",
       "    <tr>\n",
       "      <th>22</th>\n",
       "      <td>monterey</td>\n",
       "      <td>CA</td>\n",
       "      <td>51</td>\n",
       "      <td>39.0</td>\n",
       "      <td>43.0</td>\n",
       "      <td>27810</td>\n",
       "    </tr>\n",
       "    <tr>\n",
       "      <th>23</th>\n",
       "      <td>dana point</td>\n",
       "      <td>CA</td>\n",
       "      <td>52</td>\n",
       "      <td>27.0</td>\n",
       "      <td>39.0</td>\n",
       "      <td>33351</td>\n",
       "    </tr>\n",
       "    <tr>\n",
       "      <th>24</th>\n",
       "      <td>dublin</td>\n",
       "      <td>CA</td>\n",
       "      <td>34</td>\n",
       "      <td>NaN</td>\n",
       "      <td>56.0</td>\n",
       "      <td>46036</td>\n",
       "    </tr>\n",
       "    <tr>\n",
       "      <th>25</th>\n",
       "      <td>escondido</td>\n",
       "      <td>CA</td>\n",
       "      <td>42</td>\n",
       "      <td>30.0</td>\n",
       "      <td>36.0</td>\n",
       "      <td>143911</td>\n",
       "    </tr>\n",
       "    <tr>\n",
       "      <th>26</th>\n",
       "      <td>davis</td>\n",
       "      <td>CA</td>\n",
       "      <td>45</td>\n",
       "      <td>37.0</td>\n",
       "      <td>90.0</td>\n",
       "      <td>65622</td>\n",
       "    </tr>\n",
       "    <tr>\n",
       "      <th>27</th>\n",
       "      <td>oceanside</td>\n",
       "      <td>CA</td>\n",
       "      <td>35</td>\n",
       "      <td>33.0</td>\n",
       "      <td>28.0</td>\n",
       "      <td>167086</td>\n",
       "    </tr>\n",
       "    <tr>\n",
       "      <th>28</th>\n",
       "      <td>antioch</td>\n",
       "      <td>CA</td>\n",
       "      <td>39</td>\n",
       "      <td>NaN</td>\n",
       "      <td>41.0</td>\n",
       "      <td>102372</td>\n",
       "    </tr>\n",
       "    <tr>\n",
       "      <th>29</th>\n",
       "      <td>santa rosa</td>\n",
       "      <td>CA</td>\n",
       "      <td>44</td>\n",
       "      <td>28.0</td>\n",
       "      <td>48.0</td>\n",
       "      <td>167815</td>\n",
       "    </tr>\n",
       "    <tr>\n",
       "      <th>...</th>\n",
       "      <td>...</td>\n",
       "      <td>...</td>\n",
       "      <td>...</td>\n",
       "      <td>...</td>\n",
       "      <td>...</td>\n",
       "      <td>...</td>\n",
       "    </tr>\n",
       "    <tr>\n",
       "      <th>336</th>\n",
       "      <td>st. george</td>\n",
       "      <td>UT</td>\n",
       "      <td>29</td>\n",
       "      <td>16.0</td>\n",
       "      <td>42.0</td>\n",
       "      <td>72897</td>\n",
       "    </tr>\n",
       "    <tr>\n",
       "      <th>337</th>\n",
       "      <td>springfield</td>\n",
       "      <td>IL</td>\n",
       "      <td>35</td>\n",
       "      <td>41.0</td>\n",
       "      <td>43.0</td>\n",
       "      <td>30484</td>\n",
       "    </tr>\n",
       "    <tr>\n",
       "      <th>338</th>\n",
       "      <td>west springfield</td>\n",
       "      <td>IL</td>\n",
       "      <td>22</td>\n",
       "      <td>26.0</td>\n",
       "      <td>27.0</td>\n",
       "      <td>22460</td>\n",
       "    </tr>\n",
       "    <tr>\n",
       "      <th>339</th>\n",
       "      <td>springfield</td>\n",
       "      <td>MA</td>\n",
       "      <td>35</td>\n",
       "      <td>41.0</td>\n",
       "      <td>43.0</td>\n",
       "      <td>30484</td>\n",
       "    </tr>\n",
       "    <tr>\n",
       "      <th>340</th>\n",
       "      <td>west springfield</td>\n",
       "      <td>MA</td>\n",
       "      <td>22</td>\n",
       "      <td>26.0</td>\n",
       "      <td>27.0</td>\n",
       "      <td>22460</td>\n",
       "    </tr>\n",
       "    <tr>\n",
       "      <th>341</th>\n",
       "      <td>fredericksburg</td>\n",
       "      <td>MD</td>\n",
       "      <td>45</td>\n",
       "      <td>NaN</td>\n",
       "      <td>45.0</td>\n",
       "      <td>24286</td>\n",
       "    </tr>\n",
       "    <tr>\n",
       "      <th>342</th>\n",
       "      <td>portsmouth</td>\n",
       "      <td>NH</td>\n",
       "      <td>37</td>\n",
       "      <td>25.0</td>\n",
       "      <td>41.0</td>\n",
       "      <td>95535</td>\n",
       "    </tr>\n",
       "    <tr>\n",
       "      <th>343</th>\n",
       "      <td>salem</td>\n",
       "      <td>OR</td>\n",
       "      <td>28</td>\n",
       "      <td>16.0</td>\n",
       "      <td>25.0</td>\n",
       "      <td>24802</td>\n",
       "    </tr>\n",
       "    <tr>\n",
       "      <th>344</th>\n",
       "      <td>bristol</td>\n",
       "      <td>TN</td>\n",
       "      <td>30</td>\n",
       "      <td>NaN</td>\n",
       "      <td>NaN</td>\n",
       "      <td>17835</td>\n",
       "    </tr>\n",
       "    <tr>\n",
       "      <th>345</th>\n",
       "      <td>manassas</td>\n",
       "      <td>VA</td>\n",
       "      <td>41</td>\n",
       "      <td>21.0</td>\n",
       "      <td>42.0</td>\n",
       "      <td>37821</td>\n",
       "    </tr>\n",
       "    <tr>\n",
       "      <th>346</th>\n",
       "      <td>hampton</td>\n",
       "      <td>VA</td>\n",
       "      <td>33</td>\n",
       "      <td>27.0</td>\n",
       "      <td>40.0</td>\n",
       "      <td>137436</td>\n",
       "    </tr>\n",
       "    <tr>\n",
       "      <th>347</th>\n",
       "      <td>fredericksburg</td>\n",
       "      <td>VA</td>\n",
       "      <td>45</td>\n",
       "      <td>NaN</td>\n",
       "      <td>45.0</td>\n",
       "      <td>24286</td>\n",
       "    </tr>\n",
       "    <tr>\n",
       "      <th>348</th>\n",
       "      <td>lynchburg</td>\n",
       "      <td>VA</td>\n",
       "      <td>29</td>\n",
       "      <td>21.0</td>\n",
       "      <td>20.0</td>\n",
       "      <td>75568</td>\n",
       "    </tr>\n",
       "    <tr>\n",
       "      <th>349</th>\n",
       "      <td>charlottesville</td>\n",
       "      <td>VA</td>\n",
       "      <td>58</td>\n",
       "      <td>38.0</td>\n",
       "      <td>54.0</td>\n",
       "      <td>43475</td>\n",
       "    </tr>\n",
       "    <tr>\n",
       "      <th>350</th>\n",
       "      <td>roanoke</td>\n",
       "      <td>VA</td>\n",
       "      <td>41</td>\n",
       "      <td>28.0</td>\n",
       "      <td>34.0</td>\n",
       "      <td>97032</td>\n",
       "    </tr>\n",
       "    <tr>\n",
       "      <th>351</th>\n",
       "      <td>petersburg</td>\n",
       "      <td>VA</td>\n",
       "      <td>32</td>\n",
       "      <td>NaN</td>\n",
       "      <td>33.0</td>\n",
       "      <td>32420</td>\n",
       "    </tr>\n",
       "    <tr>\n",
       "      <th>352</th>\n",
       "      <td>auburn</td>\n",
       "      <td>CA</td>\n",
       "      <td>31</td>\n",
       "      <td>24.0</td>\n",
       "      <td>38.0</td>\n",
       "      <td>70180</td>\n",
       "    </tr>\n",
       "    <tr>\n",
       "      <th>353</th>\n",
       "      <td>frederickson</td>\n",
       "      <td>MD</td>\n",
       "      <td>6</td>\n",
       "      <td>NaN</td>\n",
       "      <td>NaN</td>\n",
       "      <td>18719</td>\n",
       "    </tr>\n",
       "    <tr>\n",
       "      <th>354</th>\n",
       "      <td>tacoma</td>\n",
       "      <td>WA</td>\n",
       "      <td>53</td>\n",
       "      <td>NaN</td>\n",
       "      <td>47.0</td>\n",
       "      <td>198397</td>\n",
       "    </tr>\n",
       "    <tr>\n",
       "      <th>355</th>\n",
       "      <td>everett</td>\n",
       "      <td>WA</td>\n",
       "      <td>48</td>\n",
       "      <td>38.0</td>\n",
       "      <td>53.0</td>\n",
       "      <td>103019</td>\n",
       "    </tr>\n",
       "    <tr>\n",
       "      <th>356</th>\n",
       "      <td>olympia</td>\n",
       "      <td>WA</td>\n",
       "      <td>38</td>\n",
       "      <td>35.0</td>\n",
       "      <td>53.0</td>\n",
       "      <td>46478</td>\n",
       "    </tr>\n",
       "    <tr>\n",
       "      <th>357</th>\n",
       "      <td>fitchburg</td>\n",
       "      <td>MA</td>\n",
       "      <td>31</td>\n",
       "      <td>21.0</td>\n",
       "      <td>50.0</td>\n",
       "      <td>25260</td>\n",
       "    </tr>\n",
       "    <tr>\n",
       "      <th>358</th>\n",
       "      <td>west bend</td>\n",
       "      <td>OR</td>\n",
       "      <td>33</td>\n",
       "      <td>NaN</td>\n",
       "      <td>41.0</td>\n",
       "      <td>31078</td>\n",
       "    </tr>\n",
       "    <tr>\n",
       "      <th>359</th>\n",
       "      <td>appleton</td>\n",
       "      <td>WI</td>\n",
       "      <td>40</td>\n",
       "      <td>NaN</td>\n",
       "      <td>48.0</td>\n",
       "      <td>72623</td>\n",
       "    </tr>\n",
       "    <tr>\n",
       "      <th>360</th>\n",
       "      <td>beloit</td>\n",
       "      <td>WI</td>\n",
       "      <td>43</td>\n",
       "      <td>NaN</td>\n",
       "      <td>47.0</td>\n",
       "      <td>36966</td>\n",
       "    </tr>\n",
       "    <tr>\n",
       "      <th>361</th>\n",
       "      <td>green bay</td>\n",
       "      <td>WI</td>\n",
       "      <td>41</td>\n",
       "      <td>28.0</td>\n",
       "      <td>47.0</td>\n",
       "      <td>104057</td>\n",
       "    </tr>\n",
       "    <tr>\n",
       "      <th>362</th>\n",
       "      <td>kenosha</td>\n",
       "      <td>WI</td>\n",
       "      <td>46</td>\n",
       "      <td>NaN</td>\n",
       "      <td>46.0</td>\n",
       "      <td>99218</td>\n",
       "    </tr>\n",
       "    <tr>\n",
       "      <th>363</th>\n",
       "      <td>charleston</td>\n",
       "      <td>SC</td>\n",
       "      <td>32</td>\n",
       "      <td>NaN</td>\n",
       "      <td>23.0</td>\n",
       "      <td>51400</td>\n",
       "    </tr>\n",
       "    <tr>\n",
       "      <th>364</th>\n",
       "      <td>wheeling</td>\n",
       "      <td>WV</td>\n",
       "      <td>37</td>\n",
       "      <td>NaN</td>\n",
       "      <td>28.0</td>\n",
       "      <td>28486</td>\n",
       "    </tr>\n",
       "    <tr>\n",
       "      <th>365</th>\n",
       "      <td>parkersburg</td>\n",
       "      <td>WV</td>\n",
       "      <td>44</td>\n",
       "      <td>NaN</td>\n",
       "      <td>31.0</td>\n",
       "      <td>31492</td>\n",
       "    </tr>\n",
       "  </tbody>\n",
       "</table>\n",
       "<p>366 rows × 6 columns</p>\n",
       "</div>"
      ],
      "text/plain": [
       "                  city state  walk_score  transit_score  bike_score  \\\n",
       "0               mobile    AL          33            NaN        33.0   \n",
       "1           huntsville    AL          23           12.0        36.0   \n",
       "2           tuscaloosa    AL          33            NaN        32.0   \n",
       "3                 troy    AL          20            NaN         NaN   \n",
       "4               athens    AL          21            NaN        33.0   \n",
       "5               auburn    CA          27            NaN        33.0   \n",
       "6               athens    GA          21            NaN        33.0   \n",
       "7               oxford    MS          10            NaN        19.0   \n",
       "8           fort smith    AR          35            NaN        32.0   \n",
       "9          little rock    AR          32           19.0        28.0   \n",
       "10   north little rock    AR          32           19.0        29.0   \n",
       "11          pine bluff    AR          26            NaN        34.0   \n",
       "12        jacksonville    MS          22            3.0        33.0   \n",
       "13           texarkana    TX          25            NaN        35.0   \n",
       "14            surprise    AZ          21            NaN        44.0   \n",
       "15              peoria    IL          29           14.0        43.0   \n",
       "16          santa cruz    CA          63           37.0        84.0   \n",
       "17          san rafael    CA          50           40.0        44.0   \n",
       "18       santa barbara    CA          62            NaN        59.0   \n",
       "19             concord    CA          45           30.0        48.0   \n",
       "20           fairfield    CA          35            NaN        39.0   \n",
       "21       monterey park    CA          61            NaN        35.0   \n",
       "22            monterey    CA          51           39.0        43.0   \n",
       "23          dana point    CA          52           27.0        39.0   \n",
       "24              dublin    CA          34            NaN        56.0   \n",
       "25           escondido    CA          42           30.0        36.0   \n",
       "26               davis    CA          45           37.0        90.0   \n",
       "27           oceanside    CA          35           33.0        28.0   \n",
       "28             antioch    CA          39            NaN        41.0   \n",
       "29          santa rosa    CA          44           28.0        48.0   \n",
       "..                 ...   ...         ...            ...         ...   \n",
       "336         st. george    UT          29           16.0        42.0   \n",
       "337        springfield    IL          35           41.0        43.0   \n",
       "338   west springfield    IL          22           26.0        27.0   \n",
       "339        springfield    MA          35           41.0        43.0   \n",
       "340   west springfield    MA          22           26.0        27.0   \n",
       "341     fredericksburg    MD          45            NaN        45.0   \n",
       "342         portsmouth    NH          37           25.0        41.0   \n",
       "343              salem    OR          28           16.0        25.0   \n",
       "344            bristol    TN          30            NaN         NaN   \n",
       "345           manassas    VA          41           21.0        42.0   \n",
       "346            hampton    VA          33           27.0        40.0   \n",
       "347     fredericksburg    VA          45            NaN        45.0   \n",
       "348          lynchburg    VA          29           21.0        20.0   \n",
       "349    charlottesville    VA          58           38.0        54.0   \n",
       "350            roanoke    VA          41           28.0        34.0   \n",
       "351         petersburg    VA          32            NaN        33.0   \n",
       "352             auburn    CA          31           24.0        38.0   \n",
       "353       frederickson    MD           6            NaN         NaN   \n",
       "354             tacoma    WA          53            NaN        47.0   \n",
       "355            everett    WA          48           38.0        53.0   \n",
       "356            olympia    WA          38           35.0        53.0   \n",
       "357          fitchburg    MA          31           21.0        50.0   \n",
       "358          west bend    OR          33            NaN        41.0   \n",
       "359           appleton    WI          40            NaN        48.0   \n",
       "360             beloit    WI          43            NaN        47.0   \n",
       "361          green bay    WI          41           28.0        47.0   \n",
       "362            kenosha    WI          46            NaN        46.0   \n",
       "363         charleston    SC          32            NaN        23.0   \n",
       "364           wheeling    WV          37            NaN        28.0   \n",
       "365        parkersburg    WV          44            NaN        31.0   \n",
       "\n",
       "     population  \n",
       "0        195111  \n",
       "1        180105  \n",
       "2         90468  \n",
       "3         18033  \n",
       "4         21897  \n",
       "5         53380  \n",
       "6         21897  \n",
       "7         21348  \n",
       "8         86209  \n",
       "9        193524  \n",
       "10        62304  \n",
       "11        49083  \n",
       "12        28364  \n",
       "13        29919  \n",
       "14       117517  \n",
       "15       154065  \n",
       "16        59946  \n",
       "17        57713  \n",
       "18        88410  \n",
       "19       122067  \n",
       "20       105321  \n",
       "21        60269  \n",
       "22        27810  \n",
       "23        33351  \n",
       "24        46036  \n",
       "25       143911  \n",
       "26        65622  \n",
       "27       167086  \n",
       "28       102372  \n",
       "29       167815  \n",
       "..          ...  \n",
       "336       72897  \n",
       "337       30484  \n",
       "338       22460  \n",
       "339       30484  \n",
       "340       22460  \n",
       "341       24286  \n",
       "342       95535  \n",
       "343       24802  \n",
       "344       17835  \n",
       "345       37821  \n",
       "346      137436  \n",
       "347       24286  \n",
       "348       75568  \n",
       "349       43475  \n",
       "350       97032  \n",
       "351       32420  \n",
       "352       70180  \n",
       "353       18719  \n",
       "354      198397  \n",
       "355      103019  \n",
       "356       46478  \n",
       "357       25260  \n",
       "358       31078  \n",
       "359       72623  \n",
       "360       36966  \n",
       "361      104057  \n",
       "362       99218  \n",
       "363       51400  \n",
       "364       28486  \n",
       "365       31492  \n",
       "\n",
       "[366 rows x 6 columns]"
      ]
     },
     "execution_count": 637,
     "metadata": {},
     "output_type": "execute_result"
    }
   ],
   "source": [
    "walkscore_updated"
   ]
  },
  {
   "cell_type": "code",
   "execution_count": 119,
   "metadata": {},
   "outputs": [
    {
     "data": {
      "text/html": [
       "<div>\n",
       "<style scoped>\n",
       "    .dataframe tbody tr th:only-of-type {\n",
       "        vertical-align: middle;\n",
       "    }\n",
       "\n",
       "    .dataframe tbody tr th {\n",
       "        vertical-align: top;\n",
       "    }\n",
       "\n",
       "    .dataframe thead th {\n",
       "        text-align: right;\n",
       "    }\n",
       "</style>\n",
       "<table border=\"1\" class=\"dataframe\">\n",
       "  <thead>\n",
       "    <tr style=\"text-align: right;\">\n",
       "      <th></th>\n",
       "      <th>city</th>\n",
       "      <th>state</th>\n",
       "      <th>walk_score</th>\n",
       "      <th>transit_score</th>\n",
       "      <th>bike_score</th>\n",
       "      <th>population</th>\n",
       "    </tr>\n",
       "  </thead>\n",
       "  <tbody>\n",
       "    <tr>\n",
       "      <th>129</th>\n",
       "      <td>manchester</td>\n",
       "      <td>NH</td>\n",
       "      <td>48</td>\n",
       "      <td>NaN</td>\n",
       "      <td>39.0</td>\n",
       "      <td>109565</td>\n",
       "    </tr>\n",
       "  </tbody>\n",
       "</table>\n",
       "</div>"
      ],
      "text/plain": [
       "           city state  walk_score  transit_score  bike_score  population\n",
       "129  manchester    NH          48            NaN        39.0      109565"
      ]
     },
     "execution_count": 119,
     "metadata": {},
     "output_type": "execute_result"
    }
   ],
   "source": [
    "walkscore_updated[walkscore_updated['city'] == 'manchester']"
   ]
  },
  {
   "cell_type": "code",
   "execution_count": 120,
   "metadata": {},
   "outputs": [],
   "source": [
    "walkscore_updated.to_pickle('city_walkscores_updated.pkl')"
   ]
  },
  {
   "cell_type": "markdown",
   "metadata": {},
   "source": [
    "**Temp/percipitation**"
   ]
  },
  {
   "cell_type": "code",
   "execution_count": 30,
   "metadata": {},
   "outputs": [],
   "source": [
    "df_check_temp = pd.read_pickle('df_check_temp.pkl')"
   ]
  },
  {
   "cell_type": "code",
   "execution_count": 72,
   "metadata": {},
   "outputs": [],
   "source": [
    "df_check_temp['state_long'] = df_check_temp['state'].map(states_abbrev)\n",
    "df_check_temp['state_long'] = [sl.lower() for sl in df_check_temp['state_long']]"
   ]
  },
  {
   "cell_type": "code",
   "execution_count": 137,
   "metadata": {},
   "outputs": [
    {
     "data": {
      "text/plain": [
       "259"
      ]
     },
     "execution_count": 137,
     "metadata": {},
     "output_type": "execute_result"
    }
   ],
   "source": [
    "check = df_check_temp.groupby(['state_long','city']).size().reset_index()\n",
    "len(check)"
   ]
  },
  {
   "cell_type": "code",
   "execution_count": 151,
   "metadata": {},
   "outputs": [
    {
     "data": {
      "text/plain": [
       "257"
      ]
     },
     "execution_count": 151,
     "metadata": {},
     "output_type": "execute_result"
    }
   ],
   "source": [
    "len(city_urls)"
   ]
  },
  {
   "cell_type": "code",
   "execution_count": 152,
   "metadata": {},
   "outputs": [],
   "source": [
    "city_w_urls = ' ,'.join(city_urls)\n",
    "#city_w_urls"
   ]
  },
  {
   "cell_type": "code",
   "execution_count": 127,
   "metadata": {},
   "outputs": [
    {
     "name": "stdout",
     "output_type": "stream",
     "text": [
      "46 46 46\n"
     ]
    }
   ],
   "source": [
    "state_urls = list(set(state_urls))\n",
    "print(len(check_temps), len(state_urls), len(df_check_temp.groupby('state_long')['city']))\n"
   ]
  },
  {
   "cell_type": "code",
   "execution_count": 81,
   "metadata": {},
   "outputs": [
    {
     "data": {
      "text/plain": [
       "{'alabama': ['birmingham',\n",
       "  'mobile',\n",
       "  'huntsville',\n",
       "  'tuscaloosa',\n",
       "  'montgomery',\n",
       "  'troy',\n",
       "  'athens'],\n",
       " 'arizona': ['tucson', 'surprise'],\n",
       " 'arkansas': ['fort smith', 'little rock', 'pine bluff'],\n",
       " 'california': ['santa cruz',\n",
       "  'san rafael',\n",
       "  'santa barbara',\n",
       "  'concord',\n",
       "  'fairfield',\n",
       "  'monterey',\n",
       "  'dana point',\n",
       "  'dublin',\n",
       "  'escondido',\n",
       "  'davis',\n",
       "  'oceanside',\n",
       "  'antioch',\n",
       "  'santa rosa',\n",
       "  'watsonville',\n",
       "  'oxnard',\n",
       "  'strathearn',\n",
       "  'salinas',\n",
       "  'rohnert park',\n",
       "  'vallejo',\n",
       "  'vacaville',\n",
       "  'stockton',\n",
       "  'bakersfield',\n",
       "  'delano',\n",
       "  'auburn',\n",
       "  'lancaster',\n",
       "  'fresno',\n",
       "  'lodi'],\n",
       " 'colorado': ['colorado springs', 'boulder', 'greeley', 'pueblo'],\n",
       " 'connecticut': ['stamford',\n",
       "  'bridgeport',\n",
       "  'hartford',\n",
       "  'waterbury',\n",
       "  'danbury',\n",
       "  'new haven',\n",
       "  'derby',\n",
       "  'new london',\n",
       "  'meriden'],\n",
       " 'delaware': ['wilmington', 'dover', 'delmar'],\n",
       " 'district of columbia': ['washington, d.c.'],\n",
       " 'florida': ['orlando',\n",
       "  'clearwater',\n",
       "  'sarasota',\n",
       "  'fort myers',\n",
       "  'melbourne',\n",
       "  'port st. lucie',\n",
       "  'panama city',\n",
       "  'new port richey',\n",
       "  'winter haven',\n",
       "  'ocala',\n",
       "  'gainesville',\n",
       "  'plant city',\n",
       "  'pensacola',\n",
       "  'tallahassee',\n",
       "  'daytona beach',\n",
       "  'naples',\n",
       "  'stuart',\n",
       "  'lakeland',\n",
       "  'cocoa',\n",
       "  'fort pierce'],\n",
       " 'georgia': ['savannah',\n",
       "  'athens',\n",
       "  'gainesville',\n",
       "  'buford',\n",
       "  'columbus',\n",
       "  'augusta',\n",
       "  'macon'],\n",
       " 'hawaii': ['honolulu', 'kaneohe'],\n",
       " 'idaho': ['boise'],\n",
       " 'illinois': ['joliet',\n",
       "  'north chicago',\n",
       "  'elgin',\n",
       "  'rockford',\n",
       "  'springfield',\n",
       "  'peoria'],\n",
       " 'indiana': ['evansville',\n",
       "  'south bend',\n",
       "  'hammond',\n",
       "  'gary',\n",
       "  'lafayette',\n",
       "  'fort wayne'],\n",
       " 'iowa': ['des moines', 'cedar rapids'],\n",
       " 'kansas': ['wichita', 'topeka'],\n",
       " 'kentucky': ['louisville', 'lexington'],\n",
       " 'louisiana': ['baton rouge', 'shreveport'],\n",
       " 'maine': ['portland', 'bangor'],\n",
       " 'maryland': ['columbia',\n",
       "  'annapolis',\n",
       "  'frederick',\n",
       "  'hagerstown',\n",
       "  'cumberland'],\n",
       " 'massachusetts': ['framingham',\n",
       "  'lowell',\n",
       "  'lawrence',\n",
       "  'springfield',\n",
       "  'worcester',\n",
       "  'fitchburg',\n",
       "  'new bedford',\n",
       "  'fall river'],\n",
       " 'michigan': ['ann arbor',\n",
       "  'grand rapids',\n",
       "  'flint',\n",
       "  'lansing',\n",
       "  'saginaw',\n",
       "  'kalamazoo'],\n",
       " 'mississippi': ['jackson', 'oxford'],\n",
       " 'missouri': ['st louis'],\n",
       " 'montana': ['missoula', 'bozeman', 'billings', 'butte'],\n",
       " 'nebraska': ['omaha', 'lincoln'],\n",
       " 'nevada': ['reno', 'carson city'],\n",
       " 'new hampshire': ['manchester', 'nashua', 'portsmouth', 'rochester'],\n",
       " 'new jersey': ['atlantic city',\n",
       "  'toms river',\n",
       "  'freehold township',\n",
       "  'ocean township',\n",
       "  'brick',\n",
       "  'atco',\n",
       "  'egg harbor township'],\n",
       " 'new mexico': ['albuquerque', 'farmington', 'santa fe', 'las cruces'],\n",
       " 'new york': ['buffalo',\n",
       "  'albany',\n",
       "  'niagara falls',\n",
       "  'schenectady',\n",
       "  'rochester',\n",
       "  'syracuse',\n",
       "  'peekskill',\n",
       "  'patchogue',\n",
       "  'binghamton',\n",
       "  'utica'],\n",
       " 'north carolina': ['raleigh',\n",
       "  'winston-salem',\n",
       "  'wilmington',\n",
       "  'greenville',\n",
       "  'durham',\n",
       "  'rocky mount',\n",
       "  'fayetteville',\n",
       "  'greensboro',\n",
       "  'high point'],\n",
       " 'north dakota': ['fargo'],\n",
       " 'ohio': ['cincinnati',\n",
       "  'cleveland',\n",
       "  'dayton',\n",
       "  'toledo',\n",
       "  'akron',\n",
       "  'elyria',\n",
       "  'canton',\n",
       "  'youngstown'],\n",
       " 'oklahoma': ['tulsa'],\n",
       " 'oregon': ['bend', 'salem', 'gresham', 'eugene'],\n",
       " 'pennsylvania': ['allentown',\n",
       "  'lancaster',\n",
       "  'west chester',\n",
       "  'reading',\n",
       "  'harrisburg',\n",
       "  'king of prussia',\n",
       "  'scranton',\n",
       "  'easton',\n",
       "  'pottstown',\n",
       "  'erie',\n",
       "  'williamsport',\n",
       "  'wilkes-barre'],\n",
       " 'rhode island': ['providence'],\n",
       " 'south carolina': ['columbia',\n",
       "  'north charleston',\n",
       "  'charleston',\n",
       "  'myrtle beach',\n",
       "  'greenville',\n",
       "  'spartanburg'],\n",
       " 'tennessee': ['nashville',\n",
       "  'chattanooga',\n",
       "  'knoxville',\n",
       "  'cleveland',\n",
       "  'bristol'],\n",
       " 'texas': ['el paso',\n",
       "  'mcallen',\n",
       "  'new braunfels',\n",
       "  'brownsville',\n",
       "  'denton',\n",
       "  'lubbock',\n",
       "  'beaumont',\n",
       "  'lufkin',\n",
       "  'waco',\n",
       "  'odessa',\n",
       "  'conroe',\n",
       "  'san angelo',\n",
       "  'college station',\n",
       "  'amarillo',\n",
       "  'baytown',\n",
       "  'harlingen',\n",
       "  'corpus christi',\n",
       "  'sherman',\n",
       "  'texas city',\n",
       "  'texarkana',\n",
       "  'abilene',\n",
       "  'wichita falls'],\n",
       " 'utah': ['provo', 'ogden', 'bountiful', 'st. george'],\n",
       " 'virginia': ['norfolk',\n",
       "  'richmond',\n",
       "  'woodbridge',\n",
       "  'manassas',\n",
       "  'hampton',\n",
       "  'fredericksburg',\n",
       "  'lynchburg',\n",
       "  'charlottesville',\n",
       "  'roanoke',\n",
       "  'petersburg',\n",
       "  'williamsburg'],\n",
       " 'washington': ['tacoma',\n",
       "  'everett',\n",
       "  'spokane',\n",
       "  'olympia',\n",
       "  'kennewick-pasco-richland'],\n",
       " 'west virginia': ['wheeling', 'parkersburg'],\n",
       " 'wisconsin': ['appleton', 'madison', 'beloit', 'green bay', 'kenosha']}"
      ]
     },
     "execution_count": 81,
     "metadata": {},
     "output_type": "execute_result"
    }
   ],
   "source": [
    "check_temps = {k: list(v) for k, v in df_check_temp.groupby('state_long')['city']}\n",
    "\n",
    "check_temps"
   ]
  },
  {
   "cell_type": "code",
   "execution_count": 106,
   "metadata": {
    "scrolled": true
   },
   "outputs": [
    {
     "data": {
      "text/plain": [
       "['https://www.facebook.com/yourweatherservice',\n",
       " 'https://twitter.com/usclimatedata',\n",
       " 'http://www.usclimatedata.com',\n",
       " '/climate/united-states/us',\n",
       " '/climate/north-carolina/united-states/3203',\n",
       " '#summary',\n",
       " '/climate/united-states/us',\n",
       " '/climate/north-carolina/united-states/3203',\n",
       " '/climate/charlotte/north-carolina/united-states/usnc0121',\n",
       " '#',\n",
       " '#',\n",
       " '/climate/albemarle/north-carolina/united-states/usnc0005',\n",
       " '/climate/forest-city/north-carolina/united-states/usnc0241',\n",
       " '/climate/newport/north-carolina/united-states/usnc1370',\n",
       " '/climate/andrews/north-carolina/united-states/usnc0012',\n",
       " '/climate/franklin/north-carolina/united-states/usnc0246',\n",
       " '/climate/north-wilkesboro/north-carolina/united-states/usnc0495',\n",
       " '/climate/apex/north-carolina/united-states/usnc0791',\n",
       " '/climate/gastonia/north-carolina/united-states/usnc0256',\n",
       " '/climate/ocracoke/north-carolina/united-states/usnc1001',\n",
       " '/climate/asheboro/north-carolina/united-states/usnc0021',\n",
       " '/climate/goldsboro/north-carolina/united-states/usnc0271',\n",
       " '/climate/orrum/north-carolina/united-states/usnc1379',\n",
       " '/climate/asheville/north-carolina/united-states/usnc0022',\n",
       " '/climate/graham/north-carolina/united-states/usnc0901',\n",
       " '/climate/otto/north-carolina/united-states/usnc1380',\n",
       " '/climate/atlantic-beach/north-carolina/united-states/usnc1167',\n",
       " '/climate/greensboro/north-carolina/united-states/usnc0280',\n",
       " '/climate/oxford/north-carolina/united-states/usnc0510',\n",
       " '/climate/aurora/north-carolina/united-states/usnc0027',\n",
       " '/climate/greenville/north-carolina/united-states/usnc0281',\n",
       " '/climate/pisgah-forest/north-carolina/united-states/usnc0537',\n",
       " '/climate/banner-elk/north-carolina/united-states/usnc0038',\n",
       " '/climate/hamlet/north-carolina/united-states/usnc0290',\n",
       " '/climate/plymouth/north-carolina/united-states/usnc0542',\n",
       " '/climate/bayboro/north-carolina/united-states/usnc0046',\n",
       " '/climate/hampstead/north-carolina/united-states/usnc1277',\n",
       " '/climate/pope-afb/north-carolina/united-states/usnc0547',\n",
       " '/climate/belhaven/north-carolina/united-states/usnc0050',\n",
       " '/climate/hatteras/north-carolina/united-states/usnc0301',\n",
       " '/climate/raeford/north-carolina/united-states/usnc1396',\n",
       " '/climate/black-mountain/north-carolina/united-states/usnc0062',\n",
       " '/climate/hayesville/north-carolina/united-states/usnc1283',\n",
       " '/climate/raleigh/north-carolina/united-states/usnc0558',\n",
       " '/climate/blowing-rock/north-carolina/united-states/usnc0066',\n",
       " '/climate/henderson/north-carolina/united-states/usnc0307',\n",
       " '/climate/raleigh-durham-int.-arpt/north-carolina/united-states/usnc0559',\n",
       " '/climate/boone/north-carolina/united-states/usnc0072',\n",
       " '/climate/hendersonville/north-carolina/united-states/usnc0308',\n",
       " '/climate/reidsville/north-carolina/united-states/usnc0564',\n",
       " '/climate/brevard/north-carolina/united-states/usnc0076',\n",
       " '/climate/hickory/north-carolina/united-states/usnc0312',\n",
       " '/climate/richlands/north-carolina/united-states/usnc1400',\n",
       " '/climate/bryson-city/north-carolina/united-states/usnc1188',\n",
       " '/climate/high-point/north-carolina/united-states/usnc0314',\n",
       " '/climate/riegelwood/north-carolina/united-states/usnc1402',\n",
       " '/climate/burgaw/north-carolina/united-states/usnc1190',\n",
       " '/climate/highlands/north-carolina/united-states/usnc0317',\n",
       " '/climate/roanoke-rapids/north-carolina/united-states/usnc0573',\n",
       " '/climate/burlington/north-carolina/united-states/usnc0087',\n",
       " '/climate/hot-springs/north-carolina/united-states/usnc0330',\n",
       " '/climate/robbinsville/north-carolina/united-states/usnc1403',\n",
       " '/climate/burnsville/north-carolina/united-states/usnc1191',\n",
       " '/climate/jackson/north-carolina/united-states/usnc0340',\n",
       " '/climate/roper/north-carolina/united-states/usnc1052',\n",
       " '/climate/camp-lejeune/north-carolina/united-states/usnc1306',\n",
       " '/climate/jackson-springs/north-carolina/united-states/usnc0341',\n",
       " '/climate/roxboro/north-carolina/united-states/usnc0593',\n",
       " '/climate/candler/north-carolina/united-states/usnc1194',\n",
       " '/climate/jacksonville/north-carolina/united-states/usnc1305',\n",
       " '/climate/rural-hall/north-carolina/united-states/usnc1057',\n",
       " '/climate/canton/north-carolina/united-states/usnc0099',\n",
       " '/climate/jefferson/north-carolina/united-states/usnc0346',\n",
       " '/climate/rutherfordton/north-carolina/united-states/usnc1411',\n",
       " '/climate/cape-hatteras-natl-seashore/north-carolina/united-states/usnc0101',\n",
       " '/climate/kinston/north-carolina/united-states/usnc0359',\n",
       " '/climate/salisbury/north-carolina/united-states/usnc0601',\n",
       " '/climate/carrboro/north-carolina/united-states/usnc0826',\n",
       " '/climate/laurel-springs/north-carolina/united-states/usnc0948',\n",
       " '/climate/sanford/north-carolina/united-states/usnc0606',\n",
       " '/climate/cary/north-carolina/united-states/usnc0827',\n",
       " '/climate/laurinburg/north-carolina/united-states/usnc0377',\n",
       " '/climate/sapphire/north-carolina/united-states/usnc0778',\n",
       " '/climate/castle-hayne/north-carolina/united-states/usnc1200',\n",
       " '/climate/lenoir/north-carolina/united-states/usnc0384',\n",
       " '/climate/shallotte/north-carolina/united-states/usnc0783',\n",
       " '/climate/cedar-island/north-carolina/united-states/usnc0116',\n",
       " '/climate/lewiston-woodville/north-carolina/united-states/usnc0953',\n",
       " '/climate/shelby/north-carolina/united-states/usnc0627',\n",
       " '/climate/chapel-hill/north-carolina/united-states/usnc0120',\n",
       " '/climate/lexington/north-carolina/united-states/usnc0387',\n",
       " '/climate/siler-city/north-carolina/united-states/usnc0630',\n",
       " '/climate/charlotte/north-carolina/united-states/usnc0121',\n",
       " '/climate/lincolnton/north-carolina/united-states/usnc0391',\n",
       " '/climate/smithfield/north-carolina/united-states/usnc0636',\n",
       " '/climate/cherry-point/north-carolina/united-states/usnc0123',\n",
       " '/climate/linville/north-carolina/united-states/usnc0957',\n",
       " '/climate/southport/north-carolina/united-states/usnc0646',\n",
       " '/climate/clayton/north-carolina/united-states/usnc0132',\n",
       " '/climate/longwood/north-carolina/united-states/usnc0399',\n",
       " '/climate/sparta/north-carolina/united-states/usnc1083',\n",
       " '/climate/clinton/north-carolina/united-states/usnc0137',\n",
       " '/climate/louisburg/north-carolina/united-states/usnc0400',\n",
       " '/climate/spruce-pine/north-carolina/united-states/usnc1428',\n",
       " '/climate/columbia/north-carolina/united-states/usnc0145',\n",
       " '/climate/lumberton/north-carolina/united-states/usnc0406',\n",
       " '/climate/statesville/north-carolina/united-states/usnc0661',\n",
       " '/climate/como/north-carolina/united-states/usnc0844',\n",
       " '/climate/manteo/north-carolina/united-states/usnc0417',\n",
       " '/climate/tarboro/north-carolina/united-states/usnc0686',\n",
       " '/climate/concord/north-carolina/united-states/usnc0149',\n",
       " '/climate/marion/north-carolina/united-states/usnc0423',\n",
       " '/climate/taylorsville/north-carolina/united-states/usnc1101',\n",
       " '/climate/cullowhee/north-carolina/united-states/usnc0169',\n",
       " '/climate/marshall/north-carolina/united-states/usnc0425',\n",
       " '/climate/tryon/north-carolina/united-states/usnc0704',\n",
       " '/climate/currie/north-carolina/united-states/usnc1226',\n",
       " '/climate/maxton/north-carolina/united-states/usnc1346',\n",
       " '/climate/wadesboro/north-carolina/united-states/usnc0722',\n",
       " '/climate/danbury/north-carolina/united-states/usnc0176',\n",
       " '/climate/maysville/north-carolina/united-states/usnc1347',\n",
       " '/climate/warrenton/north-carolina/united-states/usnc1126',\n",
       " '/climate/dunn/north-carolina/united-states/usnc0190',\n",
       " '/climate/mills-river/north-carolina/united-states/usnc1295',\n",
       " '/climate/warsaw/north-carolina/united-states/usnc0734',\n",
       " '/climate/durham/north-carolina/united-states/usnc0192',\n",
       " '/climate/mocksville/north-carolina/united-states/usnc0456',\n",
       " '/climate/washington/north-carolina/united-states/usnc1127',\n",
       " '/climate/edenton/north-carolina/united-states/usnc0200',\n",
       " '/climate/monroe/north-carolina/united-states/usnc0458',\n",
       " '/climate/waynesville/north-carolina/united-states/usnc0739',\n",
       " '/climate/elizabeth-city/north-carolina/united-states/usnc0204',\n",
       " '/climate/morehead-city/north-carolina/united-states/usnc0464',\n",
       " '/climate/whiteville/north-carolina/united-states/usnc0752',\n",
       " '/climate/elizabethtown/north-carolina/united-states/usnc0205',\n",
       " '/climate/morganton/north-carolina/united-states/usnc0465',\n",
       " '/climate/wilkesboro/north-carolina/united-states/usnc1137',\n",
       " '/climate/elk-park/north-carolina/united-states/usnc0869',\n",
       " '/climate/mount-airy/north-carolina/united-states/usnc0468',\n",
       " '/climate/willard/north-carolina/united-states/usnc0756',\n",
       " '/climate/erwin/north-carolina/united-states/usnc1247',\n",
       " '/climate/murfreesboro/north-carolina/united-states/usnc0477',\n",
       " '/climate/williamston/north-carolina/united-states/usnc0757',\n",
       " '/climate/fairfield/north-carolina/united-states/usnc0878',\n",
       " '/climate/murphy/north-carolina/united-states/usnc0478',\n",
       " '/climate/wilmington/north-carolina/united-states/usnc0760',\n",
       " '/climate/fairview/north-carolina/united-states/usnc1252',\n",
       " '/climate/nashville/north-carolina/united-states/usnc0482',\n",
       " '/climate/wilson/north-carolina/united-states/usnc0761',\n",
       " '/climate/fayetteville/north-carolina/united-states/usnc1259',\n",
       " '/climate/new-bern/north-carolina/united-states/usnc0484',\n",
       " '/climate/winston-salem/north-carolina/united-states/usnc1469',\n",
       " '/climate/fayetteville-pope-afb/north-carolina/united-states/usnc0235',\n",
       " '/climate/new-hill/north-carolina/united-states/usnc0994',\n",
       " '/climate/yadkinville/north-carolina/united-states/usnc0774',\n",
       " '/climate/fletcher/north-carolina/united-states/usnc0239',\n",
       " '/climate/new-river/north-carolina/united-states/usnc0487',\n",
       " '/climate/yanceyville/north-carolina/united-states/usnc1149',\n",
       " 'https://www.yourweatherservice.com',\n",
       " 'https://www.climatedata.eu',\n",
       " 'https://www.weernetwerk.nl',\n",
       " '/about-us.php',\n",
       " '/disclaimer.php',\n",
       " '/cookies.php']"
      ]
     },
     "execution_count": 106,
     "metadata": {},
     "output_type": "execute_result"
    }
   ],
   "source": [
    "state_page_links"
   ]
  },
  {
   "cell_type": "code",
   "execution_count": 203,
   "metadata": {},
   "outputs": [
    {
     "data": {
      "text/plain": [
       "'/climate/california/united-states/3174'"
      ]
     },
     "execution_count": 203,
     "metadata": {},
     "output_type": "execute_result"
    }
   ],
   "source": [
    "hrefs[20]"
   ]
  },
  {
   "cell_type": "code",
   "execution_count": 49,
   "metadata": {},
   "outputs": [],
   "source": [
    "url = 'https://www.usclimatedata.com/climate/united-states/us'\n",
    "soup = get_soup(url)\n",
    "links = soup.find_all('a')\n",
    "hrefs = list([links[i]['href'] for i in range(len(links))])"
   ]
  },
  {
   "cell_type": "code",
   "execution_count": 186,
   "metadata": {},
   "outputs": [
    {
     "data": {
      "text/plain": [
       "['washington, d.c.', 'washington']"
      ]
     },
     "execution_count": 186,
     "metadata": {},
     "output_type": "execute_result"
    }
   ],
   "source": [
    "check_temps['district of columbia'] = ['washington, d.c.','washington']\n",
    "check_temps['district of columbia'] "
   ]
  },
  {
   "cell_type": "markdown",
   "metadata": {},
   "source": [
    "1. Loop through main page and get each relevant state's page"
   ]
  },
  {
   "cell_type": "code",
   "execution_count": 207,
   "metadata": {},
   "outputs": [
    {
     "name": "stdout",
     "output_type": "stream",
     "text": [
      "204 204\n"
     ]
    }
   ],
   "source": [
    "print(len(city_states), len(city_urls_dict))"
   ]
  },
  {
   "cell_type": "code",
   "execution_count": 204,
   "metadata": {},
   "outputs": [],
   "source": [
    "#state_urls = []\n",
    "city_urls = []\n",
    "city_urls_dict = {}\n",
    "#just in case different states with same city name\n",
    "city_states = {}\n",
    "for h in hrefs:\n",
    "    for s, c in check_temps.items():\n",
    "        s_url = s.lower().replace(' ','-')\n",
    "        if s_url in h:            \n",
    "            #state_urls.append('https://www.usclimatedata.com'+h)\n",
    "            soup = get_soup('https://www.usclimatedata.com'+h)\n",
    "            for ci in c:\n",
    "                \n",
    "                c_url = ci.lower().replace(' ','-')\n",
    "\n",
    "                #if c_url in list([soup.find_all('a')[i]['href'] for i in range(len(soup.find_all('a')))]):\n",
    "                city_links = soup.find_all('a')\n",
    "                for href in [a['href'] for a in city_links]:\n",
    "                    if c_url in href:\n",
    "                        city_urls.append(ci)\n",
    "                        city_urls_dict[ci] = 'https://www.usclimatedata.com'+href\n",
    "                        city_states[ci] = s\n",
    "                        \n",
    "#state_urls[0:5]\n"
   ]
  },
  {
   "cell_type": "code",
   "execution_count": 210,
   "metadata": {},
   "outputs": [
    {
     "data": {
      "text/plain": [
       "('birmingham',\n",
       " 'https://www.usclimatedata.com/climate/birmingham/alabama/united-states/usal0054')"
      ]
     },
     "execution_count": 210,
     "metadata": {},
     "output_type": "execute_result"
    }
   ],
   "source": [
    "list(city_urls_dict.items())[0]"
   ]
  },
  {
   "cell_type": "code",
   "execution_count": 225,
   "metadata": {},
   "outputs": [
    {
     "data": {
      "text/plain": [
       "{'birmingham': 'https://www.usclimatedata.com/climate/birmingham/alabama/united-states/usal0054',\n",
       " 'mobile': 'https://www.usclimatedata.com/climate/mobile/alabama/united-states/usal0899',\n",
       " 'huntsville': 'https://www.usclimatedata.com/climate/huntsville/alabama/united-states/usal0826',\n",
       " 'tuscaloosa': 'https://www.usclimatedata.com/climate/tuscaloosa/alabama/united-states/usal0542',\n",
       " 'montgomery': 'https://www.usclimatedata.com/climate/montgomery/alabama/united-states/usal0375',\n",
       " 'troy': 'https://www.usclimatedata.com/climate/troy/alabama/united-states/usal0540',\n",
       " 'athens': 'https://www.usclimatedata.com/climate/athens/georgia/united-states/usga0027',\n",
       " 'louisville': 'https://www.usclimatedata.com/climate/louisville/kentucky/united-states/usky1846',\n",
       " 'lexington': 'https://www.usclimatedata.com/climate/lexington/kentucky/united-states/usky1079',\n",
       " 'fargo': 'https://www.usclimatedata.com/climate/fargo/north-dakota/united-states/usnd0115',\n",
       " 'baton rouge': 'https://www.usclimatedata.com/climate/baton-rouge/louisiana/united-states/usla0033',\n",
       " 'shreveport': 'https://www.usclimatedata.com/climate/shreveport/louisiana/united-states/usla0426',\n",
       " 'cincinnati': 'https://www.usclimatedata.com/climate/cincinnati/ohio/united-states/usoh0188',\n",
       " 'cleveland': 'https://www.usclimatedata.com/climate/cleveland/tennessee/united-states/ustn0094',\n",
       " 'dayton': 'https://www.usclimatedata.com/climate/dayton/ohio/united-states/usoh0245',\n",
       " 'toledo': 'https://www.usclimatedata.com/climate/toledo/ohio/united-states/usoh0953',\n",
       " 'akron': 'https://www.usclimatedata.com/climate/akron/ohio/united-states/usoh0008',\n",
       " 'elyria': 'https://www.usclimatedata.com/climate/elyria/ohio/united-states/usoh0293',\n",
       " 'canton': 'https://www.usclimatedata.com/climate/north-canton/ohio/united-states/usoh1149',\n",
       " 'youngstown': 'https://www.usclimatedata.com/climate/youngstown/ohio/united-states/usoh1075',\n",
       " 'tucson': 'https://www.usclimatedata.com/climate/tucson/arizona/united-states/usaz0247',\n",
       " 'portland': 'https://www.usclimatedata.com/climate/new-portland/maine/united-states/usme0709',\n",
       " 'bangor': 'https://www.usclimatedata.com/climate/bangor/maine/united-states/usme0017',\n",
       " 'tulsa': 'https://www.usclimatedata.com/climate/tulsa/oklahoma/united-states/usok0537',\n",
       " 'fort smith': 'https://www.usclimatedata.com/climate/fort-smith/arkansas/united-states/usar0197',\n",
       " 'little rock': 'https://www.usclimatedata.com/climate/little-rock/arkansas/united-states/usar0909',\n",
       " 'pine bluff': 'https://www.usclimatedata.com/climate/pine-bluff/arkansas/united-states/usar1013',\n",
       " 'annapolis': 'https://www.usclimatedata.com/climate/annapolis/maryland/united-states/usmd0585',\n",
       " 'frederick': 'https://www.usclimatedata.com/climate/frederick/maryland/united-states/usmd0161',\n",
       " 'hagerstown': 'https://www.usclimatedata.com/climate/hagerstown/maryland/united-states/usmd0195',\n",
       " 'cumberland': 'https://www.usclimatedata.com/climate/cumberland/maryland/united-states/usmd0115',\n",
       " 'bend': 'https://www.usclimatedata.com/climate/north-bend/oregon/united-states/usor0247',\n",
       " 'salem': 'https://www.usclimatedata.com/climate/salem/oregon/united-states/usor0304',\n",
       " 'eugene': 'https://www.usclimatedata.com/climate/eugene/oregon/united-states/usor0118',\n",
       " 'santa cruz': 'https://www.usclimatedata.com/climate/santa-cruz/california/united-states/usca1020',\n",
       " 'san rafael': 'https://www.usclimatedata.com/climate/san-rafael/california/united-states/usca1011',\n",
       " 'santa barbara': 'https://www.usclimatedata.com/climate/santa-barbara/california/united-states/usca1017',\n",
       " 'concord': 'https://www.usclimatedata.com/climate/concord/california/united-states/usca2033',\n",
       " 'fairfield': 'https://www.usclimatedata.com/climate/fairfield/california/united-states/usca0364',\n",
       " 'monterey': 'https://www.usclimatedata.com/climate/monterey/california/united-states/usca0724',\n",
       " 'escondido': 'https://www.usclimatedata.com/climate/escondido/california/united-states/usca0356',\n",
       " 'davis': 'https://www.usclimatedata.com/climate/davis/california/united-states/usca0284',\n",
       " 'oceanside': 'https://www.usclimatedata.com/climate/oceanside/california/united-states/usca0797',\n",
       " 'antioch': 'https://www.usclimatedata.com/climate/antioch/california/united-states/usca0034',\n",
       " 'santa rosa': 'https://www.usclimatedata.com/climate/santa-rosa/california/united-states/usca1027',\n",
       " 'watsonville': 'https://www.usclimatedata.com/climate/watsonville/california/united-states/usca1215',\n",
       " 'oxnard': 'https://www.usclimatedata.com/climate/oxnard/california/united-states/usca0819',\n",
       " 'salinas': 'https://www.usclimatedata.com/climate/salinas/california/united-states/usca0971',\n",
       " 'vacaville': 'https://www.usclimatedata.com/climate/vacaville/california/united-states/usca1181',\n",
       " 'stockton': 'https://www.usclimatedata.com/climate/stockton/california/united-states/usca1100',\n",
       " 'bakersfield': 'https://www.usclimatedata.com/climate/bakersfield/california/united-states/usca0062',\n",
       " 'auburn': 'https://www.usclimatedata.com/climate/auburn/california/united-states/usca0054',\n",
       " 'lancaster': 'https://www.usclimatedata.com/climate/lancaster/pennsylvania/united-states/uspa0857',\n",
       " 'fresno': 'https://www.usclimatedata.com/climate/fresno/california/united-states/usca2234',\n",
       " 'lodi': 'https://www.usclimatedata.com/climate/lodi/california/united-states/usca0623',\n",
       " 'framingham': 'https://www.usclimatedata.com/climate/framingham/massachusetts/united-states/usma0147',\n",
       " 'lowell': 'https://www.usclimatedata.com/climate/lowell/massachusetts/united-states/usma0223',\n",
       " 'lawrence': 'https://www.usclimatedata.com/climate/lawrence/massachusetts/united-states/usma0210',\n",
       " 'worcester': 'https://www.usclimatedata.com/climate/worcester/massachusetts/united-states/usma0502',\n",
       " 'new bedford': 'https://www.usclimatedata.com/climate/new-bedford/massachusetts/united-states/usma0275',\n",
       " 'allentown': 'https://www.usclimatedata.com/climate/allentown/pennsylvania/united-states/uspa0025',\n",
       " 'west chester': 'https://www.usclimatedata.com/climate/west-chester/pennsylvania/united-states/uspa1754',\n",
       " 'reading': 'https://www.usclimatedata.com/climate/reading/pennsylvania/united-states/uspa1348',\n",
       " 'harrisburg': 'https://www.usclimatedata.com/climate/harrisburg/pennsylvania/united-states/uspa0679',\n",
       " 'pottstown': 'https://www.usclimatedata.com/climate/pottstown/pennsylvania/united-states/uspa3545',\n",
       " 'erie': 'https://www.usclimatedata.com/climate/erie/pennsylvania/united-states/uspa0509',\n",
       " 'williamsport': 'https://www.usclimatedata.com/climate/williamsport/pennsylvania/united-states/uspa3361',\n",
       " 'colorado springs': 'https://www.usclimatedata.com/climate/colorado-springs/colorado/united-states/usco0078',\n",
       " 'boulder': 'https://www.usclimatedata.com/climate/boulder/colorado/united-states/usco0456',\n",
       " 'greeley': 'https://www.usclimatedata.com/climate/greeley/colorado/united-states/usco0170',\n",
       " 'pueblo': 'https://www.usclimatedata.com/climate/pueblo/colorado/united-states/usco0323',\n",
       " 'ann arbor': 'https://www.usclimatedata.com/climate/ann-arbor/michigan/united-states/usmi0028',\n",
       " 'grand rapids': 'https://www.usclimatedata.com/climate/grand-rapids/michigan/united-states/usmi0344',\n",
       " 'flint': 'https://www.usclimatedata.com/climate/flint/michigan/united-states/usmi0295',\n",
       " 'lansing': 'https://www.usclimatedata.com/climate/east-lansing/michigan/united-states/usmi0248',\n",
       " 'saginaw': 'https://www.usclimatedata.com/climate/saginaw/michigan/united-states/usmi1618',\n",
       " 'providence': 'https://www.usclimatedata.com/climate/providence/rhode-island/united-states/usri0050',\n",
       " 'stamford': 'https://www.usclimatedata.com/climate/stamford/connecticut/united-states/usct0218',\n",
       " 'bridgeport': 'https://www.usclimatedata.com/climate/bridgeport/connecticut/united-states/usct0019',\n",
       " 'hartford': 'https://www.usclimatedata.com/climate/new-hartford/connecticut/united-states/usct0368',\n",
       " 'danbury': 'https://www.usclimatedata.com/climate/danbury/connecticut/united-states/usct0046',\n",
       " 'columbia': 'https://www.usclimatedata.com/climate/columbia-owens-field/south-carolina/united-states/ussc0067',\n",
       " 'charleston': 'https://www.usclimatedata.com/climate/charleston-afb/south-carolina/united-states/ussc0052',\n",
       " 'spartanburg': 'https://www.usclimatedata.com/climate/spartanburg/south-carolina/united-states/ussc0325',\n",
       " 'wilmington': 'https://www.usclimatedata.com/climate/wilmington/north-carolina/united-states/usnc0760',\n",
       " 'dover': 'https://www.usclimatedata.com/climate/dover/delaware/united-states/usde0012',\n",
       " 'jackson': 'https://www.usclimatedata.com/climate/jackson/mississippi/united-states/usms0175',\n",
       " 'washington': 'https://www.usclimatedata.com/climate/washington/district-of-columbia/united-states/usdc0001',\n",
       " 'nashville': 'https://www.usclimatedata.com/climate/nashville/tennessee/united-states/ustn0357',\n",
       " 'chattanooga': 'https://www.usclimatedata.com/climate/chattanooga/tennessee/united-states/ustn0084',\n",
       " 'knoxville': 'https://www.usclimatedata.com/climate/knoxville/tennessee/united-states/ustn0268',\n",
       " 'bristol': 'https://www.usclimatedata.com/climate/bristol/tennessee/united-states/ustn0055',\n",
       " 'orlando': 'https://www.usclimatedata.com/climate/orlando-executive-arpt/florida/united-states/usfl0373',\n",
       " 'clearwater': 'https://www.usclimatedata.com/climate/clearwater/florida/united-states/usfl0866',\n",
       " 'sarasota': 'https://www.usclimatedata.com/climate/sarasota/florida/united-states/usfl1072',\n",
       " 'fort myers': 'https://www.usclimatedata.com/climate/fort-myers/florida/united-states/usfl0152',\n",
       " 'melbourne': 'https://www.usclimatedata.com/climate/melbourne-beach/florida/united-states/usfl0312',\n",
       " 'panama city': 'https://www.usclimatedata.com/climate/panama-city/florida/united-states/usfl0392',\n",
       " 'winter haven': 'https://www.usclimatedata.com/climate/winter-haven/florida/united-states/usfl0524',\n",
       " 'ocala': 'https://www.usclimatedata.com/climate/ocala/florida/united-states/usfl0355',\n",
       " 'gainesville': 'https://www.usclimatedata.com/climate/gainesville/georgia/united-states/usga0230',\n",
       " 'plant city': 'https://www.usclimatedata.com/climate/plant-city/florida/united-states/usfl0407',\n",
       " 'pensacola': 'https://www.usclimatedata.com/climate/pensacola-nas/florida/united-states/usfl0400',\n",
       " 'tallahassee': 'https://www.usclimatedata.com/climate/tallahassee/florida/united-states/usfl0479',\n",
       " 'daytona beach': 'https://www.usclimatedata.com/climate/daytona-beach/florida/united-states/usfl0106',\n",
       " 'naples': 'https://www.usclimatedata.com/climate/naples/florida/united-states/usfl0338',\n",
       " 'stuart': 'https://www.usclimatedata.com/climate/stuart/florida/united-states/usfl0468',\n",
       " 'lakeland': 'https://www.usclimatedata.com/climate/lakeland/florida/united-states/usfl0267',\n",
       " 'fort pierce': 'https://www.usclimatedata.com/climate/fort-pierce/florida/united-states/usfl0156',\n",
       " 'missoula': 'https://www.usclimatedata.com/climate/missoula/montana/united-states/usmt0231',\n",
       " 'bozeman': 'https://www.usclimatedata.com/climate/bozeman/montana/united-states/usmt0040',\n",
       " 'billings': 'https://www.usclimatedata.com/climate/billings/montana/united-states/usmt0031',\n",
       " 'butte': 'https://www.usclimatedata.com/climate/butte/montana/united-states/usmt0052',\n",
       " 'el paso': 'https://www.usclimatedata.com/climate/el-paso/texas/united-states/ustx0413',\n",
       " 'mcallen': 'https://www.usclimatedata.com/climate/mcallen/texas/united-states/ustx0854',\n",
       " 'new braunfels': 'https://www.usclimatedata.com/climate/new-braunfels/texas/united-states/ustx0950',\n",
       " 'brownsville': 'https://www.usclimatedata.com/climate/brownsville/texas/united-states/ustx0166',\n",
       " 'denton': 'https://www.usclimatedata.com/climate/denton/texas/united-states/ustx0353',\n",
       " 'lubbock': 'https://www.usclimatedata.com/climate/lubbock/texas/united-states/ustx2745',\n",
       " 'beaumont': 'https://www.usclimatedata.com/climate/beaumont/texas/united-states/ustx2144',\n",
       " 'lufkin': 'https://www.usclimatedata.com/climate/lufkin/texas/united-states/ustx0811',\n",
       " 'waco': 'https://www.usclimatedata.com/climate/waco-mcgregor-municipal-arpt/texas/united-states/ustx1414',\n",
       " 'odessa': 'https://www.usclimatedata.com/climate/odessa/texas/united-states/ustx2587',\n",
       " 'conroe': 'https://www.usclimatedata.com/climate/conroe/texas/united-states/ustx0286',\n",
       " 'san angelo': 'https://www.usclimatedata.com/climate/san-angelo/texas/united-states/ustx1199',\n",
       " 'college station': 'https://www.usclimatedata.com/climate/college-station/texas/united-states/ustx2165',\n",
       " 'amarillo': 'https://www.usclimatedata.com/climate/amarillo/texas/united-states/ustx0029',\n",
       " 'baytown': 'https://www.usclimatedata.com/climate/baytown/texas/united-states/ustx0087',\n",
       " 'harlingen': 'https://www.usclimatedata.com/climate/harlingen/texas/united-states/ustx0578',\n",
       " 'corpus christi': 'https://www.usclimatedata.com/climate/corpus-christi-nas/texas/united-states/ustx0295',\n",
       " 'sherman': 'https://www.usclimatedata.com/climate/sherman/texas/united-states/ustx1255',\n",
       " 'texarkana': 'https://www.usclimatedata.com/climate/texarkana/texas/united-states/ustx1347',\n",
       " 'abilene': 'https://www.usclimatedata.com/climate/abilene-dyess-afb/texas/united-states/ustx0004',\n",
       " 'savannah': 'https://www.usclimatedata.com/climate/savannah-hunter/georgia/united-states/usga0507',\n",
       " 'columbus': 'https://www.usclimatedata.com/climate/columbus-fort-benning/georgia/united-states/usga0133',\n",
       " 'augusta': 'https://www.usclimatedata.com/climate/augusta/georgia/united-states/usga0032',\n",
       " 'macon': 'https://www.usclimatedata.com/climate/macon/georgia/united-states/usga0346',\n",
       " 'omaha': 'https://www.usclimatedata.com/climate/omaha/nebraska/united-states/usne0363',\n",
       " 'lincoln': 'https://www.usclimatedata.com/climate/lincoln/nebraska/united-states/usne0283',\n",
       " 'provo': 'https://www.usclimatedata.com/climate/provo/utah/united-states/usut0208',\n",
       " 'ogden': 'https://www.usclimatedata.com/climate/ogden/utah/united-states/usut0385',\n",
       " 'bountiful': 'https://www.usclimatedata.com/climate/bountiful/utah/united-states/usut0024',\n",
       " 'honolulu': 'https://www.usclimatedata.com/climate/honolulu/hawaii/united-states/ushi0026',\n",
       " 'kaneohe': 'https://www.usclimatedata.com/climate/kaneohe-bay/hawaii/united-states/ushi0064',\n",
       " 'reno': 'https://www.usclimatedata.com/climate/reno/nevada/united-states/usnv0076',\n",
       " 'carson city': 'https://www.usclimatedata.com/climate/carson-city/nevada/united-states/usnv0108',\n",
       " 'boise': 'https://www.usclimatedata.com/climate/boise/idaho/united-states/usid0463',\n",
       " 'manchester': 'https://www.usclimatedata.com/climate/manchester/new-hampshire/united-states/usnh0361',\n",
       " 'nashua': 'https://www.usclimatedata.com/climate/nashua/new-hampshire/united-states/usnh0156',\n",
       " 'rochester': 'https://www.usclimatedata.com/climate/rochester/new-york/united-states/usny1232',\n",
       " 'norfolk': 'https://www.usclimatedata.com/climate/norfolk-nas/virginia/united-states/usva0558',\n",
       " 'richmond': 'https://www.usclimatedata.com/climate/richmond/virginia/united-states/usva0652',\n",
       " 'manassas': 'https://www.usclimatedata.com/climate/manassas/virginia/united-states/usva1149',\n",
       " 'hampton': 'https://www.usclimatedata.com/climate/hampton/virginia/united-states/usva1366',\n",
       " 'fredericksburg': 'https://www.usclimatedata.com/climate/fredericksburg/virginia/united-states/usva0294',\n",
       " 'lynchburg': 'https://www.usclimatedata.com/climate/lynchburg/virginia/united-states/usva0453',\n",
       " 'charlottesville': 'https://www.usclimatedata.com/climate/charlottesville/virginia/united-states/usva0143',\n",
       " 'roanoke': 'https://www.usclimatedata.com/climate/roanoke/virginia/united-states/usva0659',\n",
       " 'petersburg': 'https://www.usclimatedata.com/climate/petersburg/west-virginia/united-states/uswv1302',\n",
       " 'williamsburg': 'https://www.usclimatedata.com/climate/williamsburg/virginia/united-states/usva0832',\n",
       " 'joliet': 'https://www.usclimatedata.com/climate/joliet/illinois/united-states/usil0592',\n",
       " 'elgin': 'https://www.usclimatedata.com/climate/elgin/illinois/united-states/usil0360',\n",
       " 'rockford': 'https://www.usclimatedata.com/climate/rockford/illinois/united-states/usil1013',\n",
       " 'springfield': 'https://www.usclimatedata.com/climate/springfield/illinois/united-states/usil1114',\n",
       " 'peoria': 'https://www.usclimatedata.com/climate/peoria/illinois/united-states/usil0935',\n",
       " 'atlantic city': 'https://www.usclimatedata.com/climate/atlantic-city-international-airport/new-jersey/united-states/usnj0016',\n",
       " 'toms river': 'https://www.usclimatedata.com/climate/toms-river/new-jersey/united-states/usnj0520',\n",
       " 'tacoma': 'https://www.usclimatedata.com/climate/tacoma/washington/united-states/uswa0441',\n",
       " 'everett': 'https://www.usclimatedata.com/climate/everett/washington/united-states/uswa0647',\n",
       " 'spokane': 'https://www.usclimatedata.com/climate/spokane/washington/united-states/uswa0422',\n",
       " 'olympia': 'https://www.usclimatedata.com/climate/olympia/washington/united-states/uswa0318',\n",
       " 'evansville': 'https://www.usclimatedata.com/climate/evansville/indiana/united-states/usin0190',\n",
       " 'south bend': 'https://www.usclimatedata.com/climate/south-bend/indiana/united-states/usin0624',\n",
       " 'lafayette': 'https://www.usclimatedata.com/climate/west-lafayette/indiana/united-states/usin0707',\n",
       " 'fort wayne': 'https://www.usclimatedata.com/climate/fort-wayne/indiana/united-states/usin0211',\n",
       " 'albuquerque': 'https://www.usclimatedata.com/climate/albuquerque-(west)/new-mexico/united-states/usnm0005',\n",
       " 'farmington': 'https://www.usclimatedata.com/climate/farmington/new-mexico/united-states/usnm0109',\n",
       " 'santa fe': 'https://www.usclimatedata.com/climate/santa-fe/new-mexico/united-states/usnm0292',\n",
       " 'las cruces': 'https://www.usclimatedata.com/climate/las-cruces/new-mexico/united-states/usnm0492',\n",
       " 'wheeling': 'https://www.usclimatedata.com/climate/wheeling/west-virginia/united-states/uswv0799',\n",
       " 'parkersburg': 'https://www.usclimatedata.com/climate/parkersburg/west-virginia/united-states/uswv0572',\n",
       " 'des moines': 'https://www.usclimatedata.com/climate/des-moines/iowa/united-states/usia1761',\n",
       " 'cedar rapids': 'https://www.usclimatedata.com/climate/cedar-rapids/iowa/united-states/usia0138',\n",
       " 'buffalo': 'https://www.usclimatedata.com/climate/buffalo/new-york/united-states/usny0181',\n",
       " 'albany': 'https://www.usclimatedata.com/climate/albany/new-york/united-states/usny0011',\n",
       " 'niagara falls': 'https://www.usclimatedata.com/climate/niagara-falls/new-york/united-states/usny1010',\n",
       " 'syracuse': 'https://www.usclimatedata.com/climate/syracuse/new-york/united-states/usny2737',\n",
       " 'patchogue': 'https://www.usclimatedata.com/climate/patchogue/new-york/united-states/usny1100',\n",
       " 'binghamton': 'https://www.usclimatedata.com/climate/binghamton/new-york/united-states/usny0124',\n",
       " 'utica': 'https://www.usclimatedata.com/climate/utica/new-york/united-states/usny1476',\n",
       " 'appleton': 'https://www.usclimatedata.com/climate/appleton/wisconsin/united-states/uswi0020',\n",
       " 'madison': 'https://www.usclimatedata.com/climate/madison/wisconsin/united-states/uswi0411',\n",
       " 'beloit': 'https://www.usclimatedata.com/climate/beloit/wisconsin/united-states/uswi0060',\n",
       " 'green bay': 'https://www.usclimatedata.com/climate/green-bay/wisconsin/united-states/uswi0288',\n",
       " 'kenosha': 'https://www.usclimatedata.com/climate/kenosha/wisconsin/united-states/uswi0360',\n",
       " 'wichita': 'https://www.usclimatedata.com/climate/wichita-mcconnell-afb/kansas/united-states/usks0622',\n",
       " 'topeka': 'https://www.usclimatedata.com/climate/topeka/kansas/united-states/usks0571',\n",
       " 'raleigh': 'https://www.usclimatedata.com/climate/raleigh-durham-int.-arpt/north-carolina/united-states/usnc0559',\n",
       " 'winston-salem': 'https://www.usclimatedata.com/climate/winston-salem/north-carolina/united-states/usnc1469',\n",
       " 'greenville': 'https://www.usclimatedata.com/climate/greenville/north-carolina/united-states/usnc0281',\n",
       " 'durham': 'https://www.usclimatedata.com/climate/durham/north-carolina/united-states/usnc0192',\n",
       " 'fayetteville': 'https://www.usclimatedata.com/climate/fayetteville-pope-afb/north-carolina/united-states/usnc0235',\n",
       " 'greensboro': 'https://www.usclimatedata.com/climate/greensboro/north-carolina/united-states/usnc0280',\n",
       " 'high point': 'https://www.usclimatedata.com/climate/high-point/north-carolina/united-states/usnc0314'}"
      ]
     },
     "execution_count": 225,
     "metadata": {},
     "output_type": "execute_result"
    }
   ],
   "source": [
    "city_urls_dict"
   ]
  },
  {
   "cell_type": "code",
   "execution_count": 235,
   "metadata": {},
   "outputs": [],
   "source": [
    "city_temps = {}\n",
    "city_percip = {}\n",
    "for k, v in city_urls_dict.items():\n",
    "    #v = list(city_urls_dict.values())[0]\n",
    "    soup = get_soup(v)\n",
    "    tables = soup.find_all(\"table\")\n",
    "    rows = tables[2].find_all('tr')\n",
    "    for i in range(len(rows)):\n",
    "        if 'Average annual precipitation' in rows[i].text:\n",
    "            city_percip[k] = rows[i].text\n",
    "        if 'Average temperature' in rows[i].text:\n",
    "            city_temps[k] = rows[i].text\n",
    "#print(rows[i].text)\n",
    "#if 'precip'\n",
    "#percip_inches = rows[3].text\n",
    "#percip_inches"
   ]
  },
  {
   "cell_type": "code",
   "execution_count": 342,
   "metadata": {},
   "outputs": [],
   "source": [
    "x = ''\n",
    "def number_str(String):\n",
    "    if len(String) > 0:\n",
    "        index_list = []\n",
    "        del index_list[:]\n",
    "        for i, x in enumerate(String):\n",
    "            if x.isdigit() == True:\n",
    "                index_list.append(i)\n",
    "        start = index_list[0]\n",
    "        end = index_list[-1] + 1\n",
    "        number = String[start:end]\n",
    "        return (number)\n",
    "number_str(x)"
   ]
  },
  {
   "cell_type": "code",
   "execution_count": 424,
   "metadata": {},
   "outputs": [],
   "source": [
    "def extract_nums(col):\n",
    "    col_list = list(col)\n",
    "    for i, x in enumerate(col_list):\n",
    "        try:\n",
    "            col_list[i] = float(number_str(col_list[i]))\n",
    "        except:\n",
    "            col_list[i] = ''\n",
    "            col_list[i] = pd.to_numeric(col_list[i], errors = 'coerce')\n",
    "    return(col_list)\n"
   ]
  },
  {
   "cell_type": "code",
   "execution_count": 265,
   "metadata": {},
   "outputs": [
    {
     "data": {
      "text/plain": [
       "251"
      ]
     },
     "execution_count": 265,
     "metadata": {},
     "output_type": "execute_result"
    }
   ],
   "source": [
    "city_states = {}\n",
    "for h in hrefs:\n",
    "    for s, c in check_temps.items():\n",
    "            for ci in c:\n",
    "                city_states[ci] = s\n",
    "len(city_states)\n",
    "#city_states"
   ]
  },
  {
   "cell_type": "code",
   "execution_count": 416,
   "metadata": {},
   "outputs": [],
   "source": [
    "city_state = pd.DataFrame.from_dict(city_states, orient = 'index',columns=['state_long'])\n",
    "\n",
    "df_percip = pd.DataFrame.from_dict(city_temps, orient='index',columns=['percip_text'])\n",
    "\n",
    "df_temp = pd.DataFrame.from_dict(city_percip, orient='index',columns=['year_F_text'])\n",
    "\n",
    "temps_updated = pd.merge(city_state, df_percip, how = 'left', left_index=True, right_index=True)\n",
    "temps_updated = pd.merge(temps_updated, df_temp, how = 'left', left_index=True, right_index=True)"
   ]
  },
  {
   "cell_type": "code",
   "execution_count": 428,
   "metadata": {
    "scrolled": true
   },
   "outputs": [
    {
     "data": {
      "text/html": [
       "<div>\n",
       "<style scoped>\n",
       "    .dataframe tbody tr th:only-of-type {\n",
       "        vertical-align: middle;\n",
       "    }\n",
       "\n",
       "    .dataframe tbody tr th {\n",
       "        vertical-align: top;\n",
       "    }\n",
       "\n",
       "    .dataframe thead th {\n",
       "        text-align: right;\n",
       "    }\n",
       "</style>\n",
       "<table border=\"1\" class=\"dataframe\">\n",
       "  <thead>\n",
       "    <tr style=\"text-align: right;\">\n",
       "      <th></th>\n",
       "      <th>state_long</th>\n",
       "      <th>percip_text</th>\n",
       "      <th>year_F_text</th>\n",
       "      <th>percip_inches</th>\n",
       "      <th>year_F</th>\n",
       "    </tr>\n",
       "  </thead>\n",
       "  <tbody>\n",
       "    <tr>\n",
       "      <th>appleton</th>\n",
       "      <td>wisconsin</td>\n",
       "      <td>Average annual precipitation - rainfall:31.05 ...</td>\n",
       "      <td>Average temperature:45.7°F</td>\n",
       "      <td>31.05</td>\n",
       "      <td>45.70</td>\n",
       "    </tr>\n",
       "    <tr>\n",
       "      <th>madison</th>\n",
       "      <td>wisconsin</td>\n",
       "      <td>Average annual precipitation - rainfall:34.44 ...</td>\n",
       "      <td>Average temperature:46.3°F</td>\n",
       "      <td>34.44</td>\n",
       "      <td>46.30</td>\n",
       "    </tr>\n",
       "    <tr>\n",
       "      <th>beloit</th>\n",
       "      <td>wisconsin</td>\n",
       "      <td>Average annual precipitation - rainfall:36.38 ...</td>\n",
       "      <td>Average temperature:47.9°F</td>\n",
       "      <td>36.38</td>\n",
       "      <td>47.90</td>\n",
       "    </tr>\n",
       "    <tr>\n",
       "      <th>green bay</th>\n",
       "      <td>wisconsin</td>\n",
       "      <td>Average annual precipitation - rainfall:29.53 ...</td>\n",
       "      <td>Average temperature:44.15°F</td>\n",
       "      <td>29.53</td>\n",
       "      <td>44.15</td>\n",
       "    </tr>\n",
       "    <tr>\n",
       "      <th>kenosha</th>\n",
       "      <td>wisconsin</td>\n",
       "      <td>Average annual precipitation - rainfall:36.14 ...</td>\n",
       "      <td>Average temperature:47.9°F</td>\n",
       "      <td>36.14</td>\n",
       "      <td>47.90</td>\n",
       "    </tr>\n",
       "  </tbody>\n",
       "</table>\n",
       "</div>"
      ],
      "text/plain": [
       "          state_long                                        percip_text  \\\n",
       "appleton   wisconsin  Average annual precipitation - rainfall:31.05 ...   \n",
       "madison    wisconsin  Average annual precipitation - rainfall:34.44 ...   \n",
       "beloit     wisconsin  Average annual precipitation - rainfall:36.38 ...   \n",
       "green bay  wisconsin  Average annual precipitation - rainfall:29.53 ...   \n",
       "kenosha    wisconsin  Average annual precipitation - rainfall:36.14 ...   \n",
       "\n",
       "                           year_F_text  percip_inches  year_F  \n",
       "appleton    Average temperature:45.7°F          31.05   45.70  \n",
       "madison     Average temperature:46.3°F          34.44   46.30  \n",
       "beloit      Average temperature:47.9°F          36.38   47.90  \n",
       "green bay  Average temperature:44.15°F          29.53   44.15  \n",
       "kenosha     Average temperature:47.9°F          36.14   47.90  "
      ]
     },
     "execution_count": 428,
     "metadata": {},
     "output_type": "execute_result"
    }
   ],
   "source": [
    "temps_updated.tail()"
   ]
  },
  {
   "cell_type": "code",
   "execution_count": 421,
   "metadata": {},
   "outputs": [
    {
     "data": {
      "text/plain": [
       "251"
      ]
     },
     "execution_count": 421,
     "metadata": {},
     "output_type": "execute_result"
    }
   ],
   "source": [
    "percip_num = list(temps_updated.percip_text)\n",
    "for i, p in enumerate(percip_num):\n",
    "    try:\n",
    "        percip_num[i] = float(number_str(percip_num[i]))\n",
    "    except:\n",
    "        percip_num[i] = ''\n",
    "        percip_num[i] = pd.to_numeric(percip_num[i], errors = 'coerce')\n",
    "temps_updated['percip_inches'] = percip_num\n",
    "len(percip_num)"
   ]
  },
  {
   "cell_type": "code",
   "execution_count": 426,
   "metadata": {},
   "outputs": [],
   "source": [
    "temps_num = extract_nums(temps_updated.year_F_text)\n",
    "temps_updated['year_F'] = temps_num"
   ]
  },
  {
   "cell_type": "code",
   "execution_count": 649,
   "metadata": {},
   "outputs": [],
   "source": [
    "temps_updated = temps_updated.reset_index()"
   ]
  },
  {
   "cell_type": "code",
   "execution_count": 650,
   "metadata": {},
   "outputs": [
    {
     "data": {
      "text/plain": [
       "count            251\n",
       "unique           251\n",
       "top       strathearn\n",
       "freq               1\n",
       "Name: index, dtype: object"
      ]
     },
     "execution_count": 650,
     "metadata": {},
     "output_type": "execute_result"
    }
   ],
   "source": [
    "temps_updated.iloc[:,0].describe()"
   ]
  },
  {
   "cell_type": "code",
   "execution_count": 651,
   "metadata": {},
   "outputs": [],
   "source": [
    "temps_updated.to_pickle('city_temps_updated.pkl')"
   ]
  },
  {
   "cell_type": "code",
   "execution_count": 139,
   "metadata": {},
   "outputs": [],
   "source": [
    "temps_updated = pd.read_pickle('city_temps_updated.pkl')"
   ]
  },
  {
   "cell_type": "code",
   "execution_count": 151,
   "metadata": {},
   "outputs": [],
   "source": [
    "temps_updated['state'] = temps_updated['state_long'].map(states_abbrev_2)"
   ]
  },
  {
   "cell_type": "code",
   "execution_count": 153,
   "metadata": {},
   "outputs": [
    {
     "data": {
      "text/html": [
       "<div>\n",
       "<style scoped>\n",
       "    .dataframe tbody tr th:only-of-type {\n",
       "        vertical-align: middle;\n",
       "    }\n",
       "\n",
       "    .dataframe tbody tr th {\n",
       "        vertical-align: top;\n",
       "    }\n",
       "\n",
       "    .dataframe thead th {\n",
       "        text-align: right;\n",
       "    }\n",
       "</style>\n",
       "<table border=\"1\" class=\"dataframe\">\n",
       "  <thead>\n",
       "    <tr style=\"text-align: right;\">\n",
       "      <th></th>\n",
       "      <th>index</th>\n",
       "      <th>state_long</th>\n",
       "      <th>percip_text</th>\n",
       "      <th>year_F_text</th>\n",
       "      <th>percip_inches</th>\n",
       "      <th>year_F</th>\n",
       "      <th>state</th>\n",
       "    </tr>\n",
       "  </thead>\n",
       "  <tbody>\n",
       "    <tr>\n",
       "      <th>246</th>\n",
       "      <td>appleton</td>\n",
       "      <td>wisconsin</td>\n",
       "      <td>Average annual precipitation - rainfall:31.05 ...</td>\n",
       "      <td>Average temperature:45.7°F</td>\n",
       "      <td>31.05</td>\n",
       "      <td>45.70</td>\n",
       "      <td>WI</td>\n",
       "    </tr>\n",
       "    <tr>\n",
       "      <th>247</th>\n",
       "      <td>madison</td>\n",
       "      <td>wisconsin</td>\n",
       "      <td>Average annual precipitation - rainfall:34.44 ...</td>\n",
       "      <td>Average temperature:46.3°F</td>\n",
       "      <td>34.44</td>\n",
       "      <td>46.30</td>\n",
       "      <td>WI</td>\n",
       "    </tr>\n",
       "    <tr>\n",
       "      <th>248</th>\n",
       "      <td>beloit</td>\n",
       "      <td>wisconsin</td>\n",
       "      <td>Average annual precipitation - rainfall:36.38 ...</td>\n",
       "      <td>Average temperature:47.9°F</td>\n",
       "      <td>36.38</td>\n",
       "      <td>47.90</td>\n",
       "      <td>WI</td>\n",
       "    </tr>\n",
       "    <tr>\n",
       "      <th>249</th>\n",
       "      <td>green bay</td>\n",
       "      <td>wisconsin</td>\n",
       "      <td>Average annual precipitation - rainfall:29.53 ...</td>\n",
       "      <td>Average temperature:44.15°F</td>\n",
       "      <td>29.53</td>\n",
       "      <td>44.15</td>\n",
       "      <td>WI</td>\n",
       "    </tr>\n",
       "    <tr>\n",
       "      <th>250</th>\n",
       "      <td>kenosha</td>\n",
       "      <td>wisconsin</td>\n",
       "      <td>Average annual precipitation - rainfall:36.14 ...</td>\n",
       "      <td>Average temperature:47.9°F</td>\n",
       "      <td>36.14</td>\n",
       "      <td>47.90</td>\n",
       "      <td>WI</td>\n",
       "    </tr>\n",
       "  </tbody>\n",
       "</table>\n",
       "</div>"
      ],
      "text/plain": [
       "         index state_long                                        percip_text  \\\n",
       "246   appleton  wisconsin  Average annual precipitation - rainfall:31.05 ...   \n",
       "247    madison  wisconsin  Average annual precipitation - rainfall:34.44 ...   \n",
       "248     beloit  wisconsin  Average annual precipitation - rainfall:36.38 ...   \n",
       "249  green bay  wisconsin  Average annual precipitation - rainfall:29.53 ...   \n",
       "250    kenosha  wisconsin  Average annual precipitation - rainfall:36.14 ...   \n",
       "\n",
       "                     year_F_text  percip_inches  year_F state  \n",
       "246   Average temperature:45.7°F          31.05   45.70    WI  \n",
       "247   Average temperature:46.3°F          34.44   46.30    WI  \n",
       "248   Average temperature:47.9°F          36.38   47.90    WI  \n",
       "249  Average temperature:44.15°F          29.53   44.15    WI  \n",
       "250   Average temperature:47.9°F          36.14   47.90    WI  "
      ]
     },
     "execution_count": 153,
     "metadata": {},
     "output_type": "execute_result"
    }
   ],
   "source": [
    "temps_updated.tail()"
   ]
  },
  {
   "cell_type": "code",
   "execution_count": 154,
   "metadata": {},
   "outputs": [],
   "source": [
    "temps_updated.to_pickle('city_temps_updated.pkl')"
   ]
  },
  {
   "cell_type": "code",
   "execution_count": 135,
   "metadata": {},
   "outputs": [],
   "source": [
    "states_abbrev = {\n",
    "        'AK': 'Alaska',\n",
    "        'AL': 'Alabama',\n",
    "        'AR': 'Arkansas',\n",
    "        'AS': 'American Samoa',\n",
    "        'AZ': 'Arizona',\n",
    "        'CA': 'California',\n",
    "        'CO': 'Colorado',\n",
    "        'CT': 'Connecticut',\n",
    "        'DC': 'District of Columbia',\n",
    "        'DE': 'Delaware',\n",
    "        'FL': 'Florida',\n",
    "        'GA': 'Georgia',\n",
    "        'GU': 'Guam',\n",
    "        'HI': 'Hawaii',\n",
    "        'IA': 'Iowa',\n",
    "        'ID': 'Idaho',\n",
    "        'IL': 'Illinois',\n",
    "        'IN': 'Indiana',\n",
    "        'KS': 'Kansas',\n",
    "        'KY': 'Kentucky',\n",
    "        'LA': 'Louisiana',\n",
    "        'MA': 'Massachusetts',\n",
    "        'MD': 'Maryland',\n",
    "        'ME': 'Maine',\n",
    "        'MI': 'Michigan',\n",
    "        'MN': 'Minnesota',\n",
    "        'MO': 'Missouri',\n",
    "        'MP': 'Northern Mariana Islands',\n",
    "        'MS': 'Mississippi',\n",
    "        'MT': 'Montana',\n",
    "        'NA': 'National',\n",
    "        'NC': 'North Carolina',\n",
    "        'ND': 'North Dakota',\n",
    "        'NE': 'Nebraska',\n",
    "        'NH': 'New Hampshire',\n",
    "        'NJ': 'New Jersey',\n",
    "        'NM': 'New Mexico',\n",
    "        'NV': 'Nevada',\n",
    "        'NY': 'New York',\n",
    "        'OH': 'Ohio',\n",
    "        'OK': 'Oklahoma',\n",
    "        'OR': 'Oregon',\n",
    "        'PA': 'Pennsylvania',\n",
    "        'PR': 'Puerto Rico',\n",
    "        'RI': 'Rhode Island',\n",
    "        'SC': 'South Carolina',\n",
    "        'SD': 'South Dakota',\n",
    "        'TN': 'Tennessee',\n",
    "        'TX': 'Texas',\n",
    "        'UT': 'Utah',\n",
    "        'VA': 'Virginia',\n",
    "        'VI': 'Virgin Islands',\n",
    "        'VT': 'Vermont',\n",
    "        'WA': 'Washington',\n",
    "        'WI': 'Wisconsin',\n",
    "        'WV': 'West Virginia',\n",
    "        'WY': 'Wyoming'\n",
    "}"
   ]
  },
  {
   "cell_type": "code",
   "execution_count": 148,
   "metadata": {},
   "outputs": [],
   "source": [
    "states_abbrev_2 = {v : k for k, v in states_abbrev.items()}"
   ]
  },
  {
   "cell_type": "code",
   "execution_count": 150,
   "metadata": {},
   "outputs": [
    {
     "data": {
      "text/plain": [
       "{'alaska': 'AK',\n",
       " 'alabama': 'AL',\n",
       " 'arkansas': 'AR',\n",
       " 'american samoa': 'AS',\n",
       " 'arizona': 'AZ',\n",
       " 'california': 'CA',\n",
       " 'colorado': 'CO',\n",
       " 'connecticut': 'CT',\n",
       " 'district of columbia': 'DC',\n",
       " 'delaware': 'DE',\n",
       " 'florida': 'FL',\n",
       " 'georgia': 'GA',\n",
       " 'guam': 'GU',\n",
       " 'hawaii': 'HI',\n",
       " 'iowa': 'IA',\n",
       " 'idaho': 'ID',\n",
       " 'illinois': 'IL',\n",
       " 'indiana': 'IN',\n",
       " 'kansas': 'KS',\n",
       " 'kentucky': 'KY',\n",
       " 'louisiana': 'LA',\n",
       " 'massachusetts': 'MA',\n",
       " 'maryland': 'MD',\n",
       " 'maine': 'ME',\n",
       " 'michigan': 'MI',\n",
       " 'minnesota': 'MN',\n",
       " 'missouri': 'MO',\n",
       " 'northern mariana islands': 'MP',\n",
       " 'mississippi': 'MS',\n",
       " 'montana': 'MT',\n",
       " 'national': 'NA',\n",
       " 'north carolina': 'NC',\n",
       " 'north dakota': 'ND',\n",
       " 'nebraska': 'NE',\n",
       " 'new hampshire': 'NH',\n",
       " 'new jersey': 'NJ',\n",
       " 'new mexico': 'NM',\n",
       " 'nevada': 'NV',\n",
       " 'new york': 'NY',\n",
       " 'ohio': 'OH',\n",
       " 'oklahoma': 'OK',\n",
       " 'oregon': 'OR',\n",
       " 'pennsylvania': 'PA',\n",
       " 'puerto rico': 'PR',\n",
       " 'rhode island': 'RI',\n",
       " 'south carolina': 'SC',\n",
       " 'south dakota': 'SD',\n",
       " 'tennessee': 'TN',\n",
       " 'texas': 'TX',\n",
       " 'utah': 'UT',\n",
       " 'virginia': 'VA',\n",
       " 'virgin islands': 'VI',\n",
       " 'vermont': 'VT',\n",
       " 'washington': 'WA',\n",
       " 'wisconsin': 'WI',\n",
       " 'west virginia': 'WV',\n",
       " 'wyoming': 'WY'}"
      ]
     },
     "execution_count": 150,
     "metadata": {},
     "output_type": "execute_result"
    }
   ],
   "source": [
    "states_abbrev_2 = {k.lower(): v for k, v in states_abbrev_2.items()}\n",
    "\n",
    "states_abbrev_2"
   ]
  },
  {
   "cell_type": "markdown",
   "metadata": {},
   "source": [
    "---"
   ]
  }
 ],
 "metadata": {
  "kernelspec": {
   "display_name": "Python 3",
   "language": "python",
   "name": "python3"
  },
  "language_info": {
   "codemirror_mode": {
    "name": "ipython",
    "version": 3
   },
   "file_extension": ".py",
   "mimetype": "text/x-python",
   "name": "python",
   "nbconvert_exporter": "python",
   "pygments_lexer": "ipython3",
   "version": "3.7.0"
  }
 },
 "nbformat": 4,
 "nbformat_minor": 2
}
