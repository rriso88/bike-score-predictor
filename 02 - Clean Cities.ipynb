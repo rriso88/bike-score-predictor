{
 "cells": [
  {
   "cell_type": "markdown",
   "metadata": {},
   "source": [
    "# Harmonizing city and state names"
   ]
  },
  {
   "cell_type": "markdown",
   "metadata": {},
   "source": [
    "***A. Import packages***"
   ]
  },
  {
   "cell_type": "code",
   "execution_count": 273,
   "metadata": {},
   "outputs": [],
   "source": [
    "import os\n",
    "import numpy as np\n",
    "import pandas as pd\n"
   ]
  },
  {
   "cell_type": "markdown",
   "metadata": {},
   "source": [
    "***B. Define dictionaries***"
   ]
  },
  {
   "cell_type": "code",
   "execution_count": 274,
   "metadata": {},
   "outputs": [],
   "source": [
    "states_abbrev = {\n",
    "        'AK': 'Alaska',\n",
    "        'AL': 'Alabama',\n",
    "        'AR': 'Arkansas',\n",
    "        'AS': 'American Samoa',\n",
    "        'AZ': 'Arizona',\n",
    "        'CA': 'California',\n",
    "        'CO': 'Colorado',\n",
    "        'CT': 'Connecticut',\n",
    "        'DC': 'District of Columbia',\n",
    "        'DE': 'Delaware',\n",
    "        'FL': 'Florida',\n",
    "        'GA': 'Georgia',\n",
    "        'GU': 'Guam',\n",
    "        'HI': 'Hawaii',\n",
    "        'IA': 'Iowa',\n",
    "        'ID': 'Idaho',\n",
    "        'IL': 'Illinois',\n",
    "        'IN': 'Indiana',\n",
    "        'KS': 'Kansas',\n",
    "        'KY': 'Kentucky',\n",
    "        'LA': 'Louisiana',\n",
    "        'MA': 'Massachusetts',\n",
    "        'MD': 'Maryland',\n",
    "        'ME': 'Maine',\n",
    "        'MI': 'Michigan',\n",
    "        'MN': 'Minnesota',\n",
    "        'MO': 'Missouri',\n",
    "        'MP': 'Northern Mariana Islands',\n",
    "        'MS': 'Mississippi',\n",
    "        'MT': 'Montana',\n",
    "        'NA': 'National',\n",
    "        'NC': 'North Carolina',\n",
    "        'ND': 'North Dakota',\n",
    "        'NE': 'Nebraska',\n",
    "        'NH': 'New Hampshire',\n",
    "        'NJ': 'New Jersey',\n",
    "        'NM': 'New Mexico',\n",
    "        'NV': 'Nevada',\n",
    "        'NY': 'New York',\n",
    "        'OH': 'Ohio',\n",
    "        'OK': 'Oklahoma',\n",
    "        'OR': 'Oregon',\n",
    "        'PA': 'Pennsylvania',\n",
    "        'PR': 'Puerto Rico',\n",
    "        'RI': 'Rhode Island',\n",
    "        'SC': 'South Carolina',\n",
    "        'SD': 'South Dakota',\n",
    "        'TN': 'Tennessee',\n",
    "        'TX': 'Texas',\n",
    "        'UT': 'Utah',\n",
    "        'VA': 'Virginia',\n",
    "        'VI': 'Virgin Islands',\n",
    "        'VT': 'Vermont',\n",
    "        'WA': 'Washington',\n",
    "        'WI': 'Wisconsin',\n",
    "        'WV': 'West Virginia',\n",
    "        'WY': 'Wyoming'\n",
    "}"
   ]
  },
  {
   "cell_type": "code",
   "execution_count": 275,
   "metadata": {},
   "outputs": [],
   "source": [
    "states_temps = {'Albuquerque':'NM',\n",
    " 'Anchorage':'AK',\n",
    " 'Atlanta':'GA',\n",
    " 'Austin':\"TX\",\n",
    " 'Baltimore':'MD',\n",
    " 'Boise':\"ID\",\n",
    " 'Boston':'MA',\n",
    " 'Charlotte':'NC',\n",
    " 'Chicago':'IL',\n",
    " 'Columbus':'OH',\n",
    " 'Dallas':'TX',\n",
    " 'Denver':\"CO\",\n",
    " 'Detroit':'MI',\n",
    " 'El Paso':'TX',\n",
    " 'Fairbanks':'AK',\n",
    " 'Houston':'TX',\n",
    " 'Indianapolis':'IN',\n",
    " 'Jacksonville':'FL',\n",
    " 'Kansas City':\"MO\",\n",
    " 'Lake Havasu City':'AZ',\n",
    " 'Las Vegas':'NV',\n",
    " 'Los Angeles':'CA',\n",
    " 'Louisville':'KY',\n",
    " 'Memphis':'TN',\n",
    " 'Miami':'FL',\n",
    " 'Milwaukee':'WI',\n",
    " 'Minneapolis':\"MN\",\n",
    " 'Nashville':'TN',\n",
    " 'New Orleans':'LA',\n",
    " 'New York City':\"NY\",\n",
    " 'Oklahoma City':'OK',\n",
    " 'Omaha':'NE',\n",
    " 'Philadelphia':'PA',\n",
    " 'Phoenix':'AZ',\n",
    " 'Pittsburgh':'PA',\n",
    " 'Portland':'OR',\n",
    " 'Sacramento':'CA',\n",
    " 'Salt Lake City':'UT',\n",
    " 'San Antonio':'TX',\n",
    " 'San Diego':'CA',\n",
    " 'San Francisco':'CA',\n",
    " 'Seattle':'WA',\n",
    " 'St. Louis':'MO',\n",
    " 'Tampa':'FL',\n",
    " 'Tucson':'AZ',\n",
    " 'Virginia Beach':'VA',\n",
    " 'Washington, D.C.':'DC',\n",
    " 'Wichita':'KS'}"
   ]
  },
  {
   "cell_type": "code",
   "execution_count": 276,
   "metadata": {},
   "outputs": [],
   "source": [
    "states_bus = {'New York City':'NY',\n",
    " 'Cleveland':'OH',\n",
    " 'Providence':'RI',\n",
    " 'Washington, D.C.':'DC',\n",
    " 'Hartford':'CT',\n",
    " 'Buffalo':'NY',\n",
    " 'San Jose':'CA',\n",
    " 'Northern New Jersey':'NJ',\n",
    " 'Long Beach':'CA',\n",
    " 'Oakland':'CA',\n",
    " 'Cambridge':'MA',\n",
    " 'Fort Lauderdale':'FL',\n",
    " 'Naperville':'IL',\n",
    " 'Camden':'NJ',\n",
    " 'St. Petersburg':'FL',\n",
    " 'Waukesha':'WI',\n",
    " 'Elyria':'OH',\n",
    " 'New Bedford':'MA',\n",
    " 'Towson':'MD',\n",
    " 'Warren':'MI',\n",
    " 'Arlington':'VA',\n",
    " 'West Hartford':'CT',\n",
    " 'Carlsbad':'CA',\n",
    " 'Niagara Falls':'NY',\n",
    " 'Sunnyvale':'CA',\n",
    " 'Tacoma':'WA',\n",
    " 'Long Island':'NY',\n",
    " 'Santa Ana':'CA',\n",
    " 'Fremont':'CA',\n",
    " 'Quincy':'MA',\n",
    " 'Pompano Beach':'FL',\n",
    " 'Joliet':'IL',\n",
    " 'Wilmington':'DE',\n",
    " 'Clearwater':'FL',\n",
    " 'West Allis':'WI',\n",
    " 'Mentor':'OH',\n",
    " 'Fall River':'MA',\n",
    " 'Livonia':'MI',\n",
    " 'Alexandria':'VA',\n",
    " 'East Hartford':'CT',\n",
    " 'San Marcos':'CA',\n",
    " 'Santa Clara':'CA',\n",
    " 'Bellevue':'WA'}"
   ]
  },
  {
   "cell_type": "code",
   "execution_count": 277,
   "metadata": {},
   "outputs": [],
   "source": [
    "states_percip = {'Birmingham':'AL',\n",
    "'Cincinnati':'OH',\n",
    "'Orlando':'FL',\n",
    "'Raleigh':'NC',\n",
    "'Richmond':'VA',\n",
    "'Riverside':'CA',\n",
    "'Rochester':'NY'}"
   ]
  },
  {
   "cell_type": "code",
   "execution_count": 278,
   "metadata": {},
   "outputs": [],
   "source": [
    "def fix_cities(df):\n",
    "    df.loc[df['city'] == 'Nashville', 'city'] = 'Nashville-Davidson'\n",
    "    df.loc[df['city'] == 'Louisville', 'city'] = 'Louisville-Jefferson'\n",
    "    df.loc[df['city'] == 'Lexington', 'city'] = 'Lexington-Fayette'    \n",
    "    df.loc[df['city'] == 'OklahomaCity', 'city'] = 'Oklahoma City'\n",
    "    df.loc[df['city'] == 'Salt LakeCity', 'city'] = 'Salt Lake City'\n",
    "    df.loc[df['city'] == 'SanFrancisco', 'city'] = 'San Francisco'\n",
    "    df.loc[df['city'] == 'VirginiaBeach', 'city'] = 'Virginia Beach'\n",
    "    df.loc[df['city'] == 'Washington,D.C.', 'city'] = 'Washington, D.C.'\n",
    "    df.loc[df['city'] == 'New York', 'city'] = 'New York City'\n",
    "    df.loc[df['city'] == 'Washington', 'city'] = 'Washington, D.C.'\n",
    "    df.loc[df['city'] == 'New York', 'city'] = 'New York City'\n",
    "    df.loc[df['city'] == 'Washington', 'city'] = 'Washington, D.C.'\n",
    "    df.loc[df['city'] == 'New York', 'city'] = 'New York City'\n",
    "    df.loc[df['city'] == 'Washington', 'city'] = 'Washington, D.C.'\n",
    "    df.loc[df['city'] == 'Washington Dc', 'city'] = 'Washington, D.C.'\n",
    "    df.loc[df['city'] == 'New York', 'city'] = 'New York City'\n",
    "    df.loc[df['city'] == 'Washington', 'city'] = 'Washington, D.C.'\n",
    "    df.loc[df['city'] == 'Washington Dc', 'city'] = 'Washington, D.C.'\n",
    "    df.loc[df['city'] == 'New York', 'city'] = 'New York City'\n",
    "    df.loc[df['city'] == 'Washington', 'city'] = 'Washington, D.C.'\n",
    "    df.loc[df['city'] == 'Washington Dc', 'city'] = 'Washington, D.C.'\n",
    "    df.loc[df['city'] == 'OklahomaCity', 'city'] = 'Oklahoma City'\n",
    "    df.loc[df['city'] == 'Salt LakeCity', 'city'] = 'Salt Lake City'\n",
    "    df.loc[df['city'] == 'SanFrancisco', 'city'] = 'San Francisco'\n",
    "    df.loc[df['city'] == 'VirginiaBeach', 'city'] = 'Virginia Beach'\n",
    "    df.loc[df['city'] == 'Washington,D.C.', 'city'] = 'Washington, D.C.'\n",
    "    df.loc[df['city'] == 'New York', 'city'] = 'New York City'\n",
    "    df.loc[df['city'] == 'Washington', 'city'] = 'Washington, D.C.'\n",
    "    df.loc[df['city'] == 'Washington Dc', 'city'] = 'Washington, D.C.'"
   ]
  },
  {
   "cell_type": "code",
   "execution_count": 307,
   "metadata": {},
   "outputs": [],
   "source": [
    "states_abbrev_2 = {v : k for k, v in states_abbrev.items()}"
   ]
  },
  {
   "cell_type": "code",
   "execution_count": 309,
   "metadata": {},
   "outputs": [],
   "source": [
    "#states_abbrev_2"
   ]
  },
  {
   "cell_type": "code",
   "execution_count": 281,
   "metadata": {},
   "outputs": [
    {
     "data": {
      "text/plain": [
       "['.ipynb_checkpoints',\n",
       " '01-Web scraping.ipynb',\n",
       " '02 - Clean Cities.ipynb',\n",
       " '03-Fuzzy Merge.ipynb',\n",
       " 'city_busdensity.pkl',\n",
       " 'city_congestion.pkl',\n",
       " 'city_percip.pkl',\n",
       " 'city_poulations.pkl',\n",
       " 'city_taxes.pkl',\n",
       " 'city_temp.pkl',\n",
       " 'city_traffic.pkl',\n",
       " 'city_walkscore.pkl',\n",
       " 'citycodes.csv',\n",
       " 'indicator_data_US.csv',\n",
       " 'indicator_data_US.xls',\n",
       " 'states.pkl']"
      ]
     },
     "execution_count": 281,
     "metadata": {},
     "output_type": "execute_result"
    }
   ],
   "source": [
    "files = os.listdir()\n",
    "files"
   ]
  },
  {
   "cell_type": "code",
   "execution_count": 282,
   "metadata": {
    "scrolled": true
   },
   "outputs": [
    {
     "data": {
      "text/plain": [
       "['city_busdensity.pkl',\n",
       " 'city_congestion.pkl',\n",
       " 'city_percip.pkl',\n",
       " 'city_poulations.pkl',\n",
       " 'city_taxes.pkl',\n",
       " 'city_temp.pkl',\n",
       " 'city_traffic.pkl',\n",
       " 'city_walkscore.pkl']"
      ]
     },
     "execution_count": 282,
     "metadata": {},
     "output_type": "execute_result"
    }
   ],
   "source": [
    "pkls = []\n",
    "for file in files:\n",
    "    if file.endswith(\".pkl\"):\n",
    "        pkls.append(file)\n",
    "    else:\n",
    "        files.remove(file)\n",
    "pkls"
   ]
  },
  {
   "cell_type": "markdown",
   "metadata": {},
   "source": [
    "***C. Clean each file***"
   ]
  },
  {
   "cell_type": "markdown",
   "metadata": {},
   "source": [
    "**i. Temperatures**"
   ]
  },
  {
   "cell_type": "code",
   "execution_count": 283,
   "metadata": {},
   "outputs": [],
   "source": [
    "pickle = 'city_temp.pkl'\n",
    "pkls.remove(pickle)"
   ]
  },
  {
   "cell_type": "code",
   "execution_count": 284,
   "metadata": {},
   "outputs": [],
   "source": [
    "df = pd.read_pickle(pickle)"
   ]
  },
  {
   "cell_type": "code",
   "execution_count": 285,
   "metadata": {},
   "outputs": [
    {
     "data": {
      "text/html": [
       "<div>\n",
       "<style scoped>\n",
       "    .dataframe tbody tr th:only-of-type {\n",
       "        vertical-align: middle;\n",
       "    }\n",
       "\n",
       "    .dataframe tbody tr th {\n",
       "        vertical-align: top;\n",
       "    }\n",
       "\n",
       "    .dataframe thead th {\n",
       "        text-align: right;\n",
       "    }\n",
       "</style>\n",
       "<table border=\"1\" class=\"dataframe\">\n",
       "  <thead>\n",
       "    <tr style=\"text-align: right;\">\n",
       "      <th></th>\n",
       "      <th>country</th>\n",
       "      <th>city</th>\n",
       "      <th>year_C</th>\n",
       "      <th>year_F</th>\n",
       "      <th>state</th>\n",
       "    </tr>\n",
       "  </thead>\n",
       "  <tbody>\n",
       "    <tr>\n",
       "      <th>0</th>\n",
       "      <td>Antigua and Barbuda</td>\n",
       "      <td>St. John's</td>\n",
       "      <td>26.9</td>\n",
       "      <td>80.4</td>\n",
       "      <td>NaN</td>\n",
       "    </tr>\n",
       "    <tr>\n",
       "      <th>1</th>\n",
       "      <td>Aruba</td>\n",
       "      <td>Oranjestad</td>\n",
       "      <td>28.1</td>\n",
       "      <td>82.6</td>\n",
       "      <td>NaN</td>\n",
       "    </tr>\n",
       "    <tr>\n",
       "      <th>2</th>\n",
       "      <td>The Bahamas</td>\n",
       "      <td>Nassau</td>\n",
       "      <td>24.6</td>\n",
       "      <td>76.3</td>\n",
       "      <td>NaN</td>\n",
       "    </tr>\n",
       "    <tr>\n",
       "      <th>3</th>\n",
       "      <td>Barbados</td>\n",
       "      <td>Bridgetown</td>\n",
       "      <td>27.0</td>\n",
       "      <td>80.6</td>\n",
       "      <td>NaN</td>\n",
       "    </tr>\n",
       "    <tr>\n",
       "      <th>4</th>\n",
       "      <td>Belize</td>\n",
       "      <td>Belize City</td>\n",
       "      <td>26.7</td>\n",
       "      <td>80.1</td>\n",
       "      <td>NaN</td>\n",
       "    </tr>\n",
       "  </tbody>\n",
       "</table>\n",
       "</div>"
      ],
      "text/plain": [
       "               country         city  year_C  year_F state\n",
       "0  Antigua and Barbuda   St. John's    26.9    80.4   NaN\n",
       "1                Aruba   Oranjestad    28.1    82.6   NaN\n",
       "2          The Bahamas       Nassau    24.6    76.3   NaN\n",
       "3             Barbados   Bridgetown    27.0    80.6   NaN\n",
       "4               Belize  Belize City    26.7    80.1   NaN"
      ]
     },
     "execution_count": 285,
     "metadata": {},
     "output_type": "execute_result"
    }
   ],
   "source": [
    "df.head()"
   ]
  },
  {
   "cell_type": "code",
   "execution_count": 286,
   "metadata": {},
   "outputs": [],
   "source": [
    "fix_cities(df)"
   ]
  },
  {
   "cell_type": "code",
   "execution_count": 287,
   "metadata": {},
   "outputs": [
    {
     "data": {
      "text/plain": [
       "Series([], Name: city, dtype: object)"
      ]
     },
     "execution_count": 287,
     "metadata": {},
     "output_type": "execute_result"
    }
   ],
   "source": [
    "df.city[(df.state.isnull() == True) & (df.country == 'United States')]\n"
   ]
  },
  {
   "cell_type": "code",
   "execution_count": 288,
   "metadata": {},
   "outputs": [
    {
     "data": {
      "text/plain": [
       "'city_temp.pkl'"
      ]
     },
     "execution_count": 288,
     "metadata": {},
     "output_type": "execute_result"
    }
   ],
   "source": [
    "pickle"
   ]
  },
  {
   "cell_type": "code",
   "execution_count": 289,
   "metadata": {},
   "outputs": [],
   "source": [
    "df.to_pickle(pickle)"
   ]
  },
  {
   "cell_type": "markdown",
   "metadata": {},
   "source": [
    "**ii. Businesses**"
   ]
  },
  {
   "cell_type": "code",
   "execution_count": 290,
   "metadata": {},
   "outputs": [
    {
     "data": {
      "text/plain": [
       "['city_busdensity.pkl',\n",
       " 'city_congestion.pkl',\n",
       " 'city_percip.pkl',\n",
       " 'city_poulations.pkl',\n",
       " 'city_taxes.pkl',\n",
       " 'city_traffic.pkl',\n",
       " 'city_walkscore.pkl']"
      ]
     },
     "execution_count": 290,
     "metadata": {},
     "output_type": "execute_result"
    }
   ],
   "source": [
    "pkls"
   ]
  },
  {
   "cell_type": "code",
   "execution_count": 291,
   "metadata": {},
   "outputs": [],
   "source": [
    "pickle = 'city_busdensity.pkl'\n",
    "pkls.remove(pickle)"
   ]
  },
  {
   "cell_type": "code",
   "execution_count": 292,
   "metadata": {},
   "outputs": [],
   "source": [
    "df = pd.read_pickle(pickle)"
   ]
  },
  {
   "cell_type": "code",
   "execution_count": 293,
   "metadata": {},
   "outputs": [
    {
     "data": {
      "text/html": [
       "<div>\n",
       "<style scoped>\n",
       "    .dataframe tbody tr th:only-of-type {\n",
       "        vertical-align: middle;\n",
       "    }\n",
       "\n",
       "    .dataframe tbody tr th {\n",
       "        vertical-align: top;\n",
       "    }\n",
       "\n",
       "    .dataframe thead th {\n",
       "        text-align: right;\n",
       "    }\n",
       "</style>\n",
       "<table border=\"1\" class=\"dataframe\">\n",
       "  <thead>\n",
       "    <tr style=\"text-align: right;\">\n",
       "      <th></th>\n",
       "      <th>bus_per_sq_mi</th>\n",
       "      <th>city</th>\n",
       "      <th>state</th>\n",
       "    </tr>\n",
       "  </thead>\n",
       "  <tbody>\n",
       "    <tr>\n",
       "      <th>0</th>\n",
       "      <td>79.0</td>\n",
       "      <td>New York City</td>\n",
       "      <td>NY</td>\n",
       "    </tr>\n",
       "    <tr>\n",
       "      <th>1</th>\n",
       "      <td>68.7</td>\n",
       "      <td>Los Angeles</td>\n",
       "      <td>CA</td>\n",
       "    </tr>\n",
       "    <tr>\n",
       "      <th>2</th>\n",
       "      <td>47.9</td>\n",
       "      <td>San Francisco</td>\n",
       "      <td>CA</td>\n",
       "    </tr>\n",
       "    <tr>\n",
       "      <th>3</th>\n",
       "      <td>34.9</td>\n",
       "      <td>Boston</td>\n",
       "      <td>MA</td>\n",
       "    </tr>\n",
       "    <tr>\n",
       "      <th>4</th>\n",
       "      <td>33.1</td>\n",
       "      <td>Miami</td>\n",
       "      <td>FL</td>\n",
       "    </tr>\n",
       "  </tbody>\n",
       "</table>\n",
       "</div>"
      ],
      "text/plain": [
       "   bus_per_sq_mi           city state\n",
       "0           79.0  New York City    NY\n",
       "1           68.7    Los Angeles    CA\n",
       "2           47.9  San Francisco    CA\n",
       "3           34.9         Boston    MA\n",
       "4           33.1          Miami    FL"
      ]
     },
     "execution_count": 293,
     "metadata": {},
     "output_type": "execute_result"
    }
   ],
   "source": [
    "df.head()"
   ]
  },
  {
   "cell_type": "code",
   "execution_count": 294,
   "metadata": {},
   "outputs": [],
   "source": [
    "df = df.drop(['state'], axis = 1)"
   ]
  },
  {
   "cell_type": "code",
   "execution_count": 295,
   "metadata": {},
   "outputs": [],
   "source": [
    "fix_cities(df)"
   ]
  },
  {
   "cell_type": "code",
   "execution_count": 296,
   "metadata": {},
   "outputs": [],
   "source": [
    "df['state'] = df['city'].map(states_bus)\n"
   ]
  },
  {
   "cell_type": "code",
   "execution_count": 297,
   "metadata": {},
   "outputs": [],
   "source": [
    "df['state'] = df['state'].fillna(df['city'].map(states_temps))\n"
   ]
  },
  {
   "cell_type": "code",
   "execution_count": 298,
   "metadata": {
    "scrolled": true
   },
   "outputs": [
    {
     "data": {
      "text/plain": [
       "49    None\n",
       "54    None\n",
       "Name: city, dtype: object"
      ]
     },
     "execution_count": 298,
     "metadata": {},
     "output_type": "execute_result"
    }
   ],
   "source": [
    "df.city[(df.state.isnull() == True)]\n"
   ]
  },
  {
   "cell_type": "code",
   "execution_count": 299,
   "metadata": {},
   "outputs": [],
   "source": [
    "df.to_pickle(pickle)"
   ]
  },
  {
   "cell_type": "markdown",
   "metadata": {},
   "source": [
    "**iii. Percipitation**"
   ]
  },
  {
   "cell_type": "code",
   "execution_count": 320,
   "metadata": {
    "scrolled": true
   },
   "outputs": [
    {
     "data": {
      "text/plain": [
       "['city_congestion.pkl',\n",
       " 'city_poulations.pkl',\n",
       " 'city_taxes.pkl',\n",
       " 'city_traffic.pkl',\n",
       " 'city_walkscore.pkl']"
      ]
     },
     "execution_count": 320,
     "metadata": {},
     "output_type": "execute_result"
    }
   ],
   "source": [
    "pkls"
   ]
  },
  {
   "cell_type": "code",
   "execution_count": 321,
   "metadata": {},
   "outputs": [],
   "source": [
    "pickle = 'city_percip.pkl'\n",
    "pkls.remove(pickle)"
   ]
  },
  {
   "cell_type": "code",
   "execution_count": 322,
   "metadata": {},
   "outputs": [],
   "source": [
    "df = pd.read_pickle(pickle)"
   ]
  },
  {
   "cell_type": "code",
   "execution_count": 323,
   "metadata": {
    "scrolled": true
   },
   "outputs": [
    {
     "data": {
      "text/html": [
       "<div>\n",
       "<style scoped>\n",
       "    .dataframe tbody tr th:only-of-type {\n",
       "        vertical-align: middle;\n",
       "    }\n",
       "\n",
       "    .dataframe tbody tr th {\n",
       "        vertical-align: top;\n",
       "    }\n",
       "\n",
       "    .dataframe thead th {\n",
       "        text-align: right;\n",
       "    }\n",
       "</style>\n",
       "<table border=\"1\" class=\"dataframe\">\n",
       "  <thead>\n",
       "    <tr style=\"text-align: right;\">\n",
       "      <th></th>\n",
       "      <th>days</th>\n",
       "      <th>city</th>\n",
       "      <th>percip_inches</th>\n",
       "      <th>percip_mil</th>\n",
       "      <th>state_long</th>\n",
       "      <th>state</th>\n",
       "    </tr>\n",
       "  </thead>\n",
       "  <tbody>\n",
       "    <tr>\n",
       "      <th>0</th>\n",
       "      <td>113</td>\n",
       "      <td>Atlanta</td>\n",
       "      <td>49.7</td>\n",
       "      <td>1263</td>\n",
       "      <td>Georgia</td>\n",
       "      <td>GA</td>\n",
       "    </tr>\n",
       "    <tr>\n",
       "      <th>1</th>\n",
       "      <td>88</td>\n",
       "      <td>Austin</td>\n",
       "      <td>34.2</td>\n",
       "      <td>870</td>\n",
       "      <td>Texas</td>\n",
       "      <td>TX</td>\n",
       "    </tr>\n",
       "    <tr>\n",
       "      <th>2</th>\n",
       "      <td>116</td>\n",
       "      <td>Baltimore</td>\n",
       "      <td>41.9</td>\n",
       "      <td>1064</td>\n",
       "      <td>Maryland</td>\n",
       "      <td>MD</td>\n",
       "    </tr>\n",
       "    <tr>\n",
       "      <th>3</th>\n",
       "      <td>117</td>\n",
       "      <td>Birmingham</td>\n",
       "      <td>53.7</td>\n",
       "      <td>1364</td>\n",
       "      <td>Alabama</td>\n",
       "      <td>AL</td>\n",
       "    </tr>\n",
       "    <tr>\n",
       "      <th>4</th>\n",
       "      <td>126</td>\n",
       "      <td>Boston</td>\n",
       "      <td>43.8</td>\n",
       "      <td>1112</td>\n",
       "      <td>Massachusetts</td>\n",
       "      <td>MA</td>\n",
       "    </tr>\n",
       "  </tbody>\n",
       "</table>\n",
       "</div>"
      ],
      "text/plain": [
       "   days        city  percip_inches  percip_mil      state_long state\n",
       "0   113     Atlanta           49.7        1263         Georgia    GA\n",
       "1    88      Austin           34.2         870           Texas    TX\n",
       "2   116   Baltimore           41.9        1064        Maryland    MD\n",
       "3   117  Birmingham           53.7        1364         Alabama    AL\n",
       "4   126      Boston           43.8        1112   Massachusetts    MA"
      ]
     },
     "execution_count": 323,
     "metadata": {},
     "output_type": "execute_result"
    }
   ],
   "source": [
    "df.head()"
   ]
  },
  {
   "cell_type": "code",
   "execution_count": 317,
   "metadata": {},
   "outputs": [],
   "source": [
    "df = df.rename(columns={'state': 'state_long'})"
   ]
  },
  {
   "cell_type": "code",
   "execution_count": 324,
   "metadata": {},
   "outputs": [],
   "source": [
    "df['state'] = df['state_long'].map(states_abbrev_2)\n"
   ]
  },
  {
   "cell_type": "code",
   "execution_count": 326,
   "metadata": {},
   "outputs": [],
   "source": [
    "fix_cities(df)"
   ]
  },
  {
   "cell_type": "code",
   "execution_count": 325,
   "metadata": {},
   "outputs": [],
   "source": [
    "df['state'] = df['state'].fillna(df['city'].map(states_temps))\n"
   ]
  },
  {
   "cell_type": "code",
   "execution_count": null,
   "metadata": {},
   "outputs": [],
   "source": [
    "df['state'] = df['state'].fillna(df['city'].map(states_bus))\n"
   ]
  },
  {
   "cell_type": "code",
   "execution_count": null,
   "metadata": {},
   "outputs": [],
   "source": [
    "df['state'] = df['state'].fillna(df['city'].map(states_percip))\n"
   ]
  },
  {
   "cell_type": "code",
   "execution_count": null,
   "metadata": {},
   "outputs": [],
   "source": [
    "df.city[(df.state.isnull() == True)]\n"
   ]
  },
  {
   "cell_type": "code",
   "execution_count": null,
   "metadata": {},
   "outputs": [],
   "source": [
    "df.to_pickle(pickle)"
   ]
  },
  {
   "cell_type": "markdown",
   "metadata": {},
   "source": [
    "**iv. Walkability**"
   ]
  },
  {
   "cell_type": "code",
   "execution_count": null,
   "metadata": {
    "scrolled": false
   },
   "outputs": [],
   "source": [
    "pkls"
   ]
  },
  {
   "cell_type": "code",
   "execution_count": null,
   "metadata": {},
   "outputs": [],
   "source": [
    "pickle = 'city_walkscore.pkl'\n",
    "pkls.remove(pickle)"
   ]
  },
  {
   "cell_type": "code",
   "execution_count": null,
   "metadata": {},
   "outputs": [],
   "source": [
    "df = pd.read_pickle(pickle)"
   ]
  },
  {
   "cell_type": "code",
   "execution_count": null,
   "metadata": {
    "scrolled": false
   },
   "outputs": [],
   "source": [
    "df.head()"
   ]
  },
  {
   "cell_type": "code",
   "execution_count": null,
   "metadata": {},
   "outputs": [],
   "source": [
    "df.city[(df.state.isnull() == True)]\n"
   ]
  },
  {
   "cell_type": "markdown",
   "metadata": {},
   "source": [
    "**v. Population**"
   ]
  },
  {
   "cell_type": "code",
   "execution_count": null,
   "metadata": {
    "scrolled": true
   },
   "outputs": [],
   "source": [
    "pkls"
   ]
  },
  {
   "cell_type": "code",
   "execution_count": null,
   "metadata": {},
   "outputs": [],
   "source": [
    "pickle = 'city_poulations.pkl'\n",
    "pkls.remove(pickle)"
   ]
  },
  {
   "cell_type": "code",
   "execution_count": null,
   "metadata": {},
   "outputs": [],
   "source": [
    "df = pd.read_pickle(pickle)"
   ]
  },
  {
   "cell_type": "code",
   "execution_count": null,
   "metadata": {
    "scrolled": true
   },
   "outputs": [],
   "source": [
    "df.head()"
   ]
  },
  {
   "cell_type": "code",
   "execution_count": null,
   "metadata": {},
   "outputs": [],
   "source": [
    "df = df.rename(columns={'state': 'state_long'})"
   ]
  },
  {
   "cell_type": "code",
   "execution_count": null,
   "metadata": {},
   "outputs": [],
   "source": [
    "df['state'] = df['state_long'].map(states_abbrev_2)\n"
   ]
  },
  {
   "cell_type": "code",
   "execution_count": null,
   "metadata": {},
   "outputs": [],
   "source": [
    "fix_cities(df)\n"
   ]
  },
  {
   "cell_type": "code",
   "execution_count": null,
   "metadata": {},
   "outputs": [],
   "source": [
    "df['state'] = df['state'].fillna(df['city'].map(states_temps))"
   ]
  },
  {
   "cell_type": "code",
   "execution_count": null,
   "metadata": {},
   "outputs": [],
   "source": [
    "#df['state'] = df['city'].map(states_bus)\n"
   ]
  },
  {
   "cell_type": "code",
   "execution_count": null,
   "metadata": {},
   "outputs": [],
   "source": [
    "df['state'] = df['state'].fillna(df['city'].map(states_bus))\n"
   ]
  },
  {
   "cell_type": "code",
   "execution_count": null,
   "metadata": {},
   "outputs": [],
   "source": [
    "df['state'] = df['state'].fillna(df['city'].map(states_percip))\n"
   ]
  },
  {
   "cell_type": "code",
   "execution_count": null,
   "metadata": {},
   "outputs": [],
   "source": [
    "states_pop=df[(df.state.isnull() == True)].groupby('city')['state_long'].apply(list).to_dict()\n",
    "states_pop"
   ]
  },
  {
   "cell_type": "code",
   "execution_count": null,
   "metadata": {},
   "outputs": [],
   "source": [
    "df.city[(df.state.isnull() == True)]\n"
   ]
  },
  {
   "cell_type": "code",
   "execution_count": null,
   "metadata": {},
   "outputs": [],
   "source": [
    "df.to_pickle(pickle)"
   ]
  },
  {
   "cell_type": "markdown",
   "metadata": {},
   "source": [
    "**vi. Taxes**"
   ]
  },
  {
   "cell_type": "code",
   "execution_count": null,
   "metadata": {},
   "outputs": [],
   "source": [
    "pkls"
   ]
  },
  {
   "cell_type": "code",
   "execution_count": null,
   "metadata": {},
   "outputs": [],
   "source": [
    "pickle = 'city_taxes.pkl'\n",
    "pkls.remove(pickle)"
   ]
  },
  {
   "cell_type": "code",
   "execution_count": null,
   "metadata": {},
   "outputs": [],
   "source": [
    "df = pd.read_pickle(pickle)"
   ]
  },
  {
   "cell_type": "code",
   "execution_count": null,
   "metadata": {
    "scrolled": true
   },
   "outputs": [],
   "source": [
    "df.head()"
   ]
  },
  {
   "cell_type": "code",
   "execution_count": null,
   "metadata": {},
   "outputs": [],
   "source": [
    "df = df.rename(columns={'state': 'state_long'})"
   ]
  },
  {
   "cell_type": "code",
   "execution_count": null,
   "metadata": {},
   "outputs": [],
   "source": [
    "df['state'] = df['state_long'].map(states_abbrev_2)\n"
   ]
  },
  {
   "cell_type": "code",
   "execution_count": null,
   "metadata": {},
   "outputs": [],
   "source": [
    "fix_cities(df)\n"
   ]
  },
  {
   "cell_type": "code",
   "execution_count": null,
   "metadata": {},
   "outputs": [],
   "source": [
    "df['state'] = df['state'].fillna(df['city'].map(states_temps))\n",
    "df['state'] = df['state'].fillna(df['city'].map(states_bus))\n",
    "df['state'] = df['state'].fillna(df['city'].map(states_percip))\n"
   ]
  },
  {
   "cell_type": "code",
   "execution_count": null,
   "metadata": {},
   "outputs": [],
   "source": [
    "df.city[(df.state.isnull() == True)]\n"
   ]
  },
  {
   "cell_type": "code",
   "execution_count": null,
   "metadata": {},
   "outputs": [],
   "source": [
    "df.to_pickle(pickle)"
   ]
  },
  {
   "cell_type": "markdown",
   "metadata": {},
   "source": [
    "**vii. Traffic**"
   ]
  },
  {
   "cell_type": "code",
   "execution_count": null,
   "metadata": {},
   "outputs": [],
   "source": [
    "pkls"
   ]
  },
  {
   "cell_type": "code",
   "execution_count": 327,
   "metadata": {},
   "outputs": [],
   "source": [
    "pickle = 'city_traffic.pkl'\n",
    "pkls.remove(pickle)"
   ]
  },
  {
   "cell_type": "code",
   "execution_count": 328,
   "metadata": {},
   "outputs": [],
   "source": [
    "df = pd.read_pickle(pickle)"
   ]
  },
  {
   "cell_type": "code",
   "execution_count": 329,
   "metadata": {
    "scrolled": false
   },
   "outputs": [
    {
     "data": {
      "text/html": [
       "<div>\n",
       "<style scoped>\n",
       "    .dataframe tbody tr th:only-of-type {\n",
       "        vertical-align: middle;\n",
       "    }\n",
       "\n",
       "    .dataframe tbody tr th {\n",
       "        vertical-align: top;\n",
       "    }\n",
       "\n",
       "    .dataframe thead th {\n",
       "        text-align: right;\n",
       "    }\n",
       "</style>\n",
       "<table border=\"1\" class=\"dataframe\">\n",
       "  <thead>\n",
       "    <tr style=\"text-align: right;\">\n",
       "      <th></th>\n",
       "      <th>country</th>\n",
       "      <th>city</th>\n",
       "      <th>pct_time_in_traffic</th>\n",
       "      <th>state</th>\n",
       "      <th>region</th>\n",
       "    </tr>\n",
       "  </thead>\n",
       "  <tbody>\n",
       "    <tr>\n",
       "      <th>0</th>\n",
       "      <td>USA</td>\n",
       "      <td>Los Angeles</td>\n",
       "      <td>0.12</td>\n",
       "      <td>CA</td>\n",
       "      <td>North America</td>\n",
       "    </tr>\n",
       "    <tr>\n",
       "      <th>1</th>\n",
       "      <td>Russia</td>\n",
       "      <td>Moscow</td>\n",
       "      <td>0.26</td>\n",
       "      <td>None</td>\n",
       "      <td>Europe</td>\n",
       "    </tr>\n",
       "    <tr>\n",
       "      <th>2</th>\n",
       "      <td>USA</td>\n",
       "      <td>New York City</td>\n",
       "      <td>0.13</td>\n",
       "      <td>NY</td>\n",
       "      <td>North America</td>\n",
       "    </tr>\n",
       "    <tr>\n",
       "      <th>3</th>\n",
       "      <td>Brazil</td>\n",
       "      <td>Sao Paulo</td>\n",
       "      <td>0.22</td>\n",
       "      <td>None</td>\n",
       "      <td>South America</td>\n",
       "    </tr>\n",
       "    <tr>\n",
       "      <th>4</th>\n",
       "      <td>USA</td>\n",
       "      <td>San Francisco</td>\n",
       "      <td>0.12</td>\n",
       "      <td>CA</td>\n",
       "      <td>North America</td>\n",
       "    </tr>\n",
       "  </tbody>\n",
       "</table>\n",
       "</div>"
      ],
      "text/plain": [
       "     country           city  pct_time_in_traffic state         region\n",
       "0      USA      Los Angeles                 0.12    CA  North America\n",
       "1   Russia           Moscow                 0.26  None         Europe\n",
       "2      USA    New York City                 0.13    NY  North America\n",
       "3   Brazil        Sao Paulo                 0.22  None  South America\n",
       "4      USA    San Francisco                 0.12    CA  North America"
      ]
     },
     "execution_count": 329,
     "metadata": {},
     "output_type": "execute_result"
    }
   ],
   "source": [
    "df.head()"
   ]
  },
  {
   "cell_type": "code",
   "execution_count": null,
   "metadata": {},
   "outputs": [],
   "source": [
    "df.city[(df.state.isnull() == True) & (df.country == 'USA')]"
   ]
  },
  {
   "cell_type": "code",
   "execution_count": null,
   "metadata": {},
   "outputs": [],
   "source": [
    "fix_cities(df)"
   ]
  },
  {
   "cell_type": "code",
   "execution_count": null,
   "metadata": {},
   "outputs": [],
   "source": [
    "df.to_pickle(pickle)\n"
   ]
  },
  {
   "cell_type": "code",
   "execution_count": null,
   "metadata": {},
   "outputs": [],
   "source": [
    "pkls"
   ]
  },
  {
   "cell_type": "markdown",
   "metadata": {},
   "source": [
    "***"
   ]
  },
  {
   "cell_type": "markdown",
   "metadata": {},
   "source": [
    "**viii. XXX**"
   ]
  },
  {
   "cell_type": "code",
   "execution_count": null,
   "metadata": {},
   "outputs": [],
   "source": [
    "pickle = 'city_taxes.pkl'\n",
    "pkls.remove(pickle)"
   ]
  },
  {
   "cell_type": "code",
   "execution_count": null,
   "metadata": {},
   "outputs": [],
   "source": [
    "df = pd.read_pickle(pickle)"
   ]
  },
  {
   "cell_type": "code",
   "execution_count": null,
   "metadata": {
    "scrolled": true
   },
   "outputs": [],
   "source": [
    "df.head()"
   ]
  },
  {
   "cell_type": "code",
   "execution_count": null,
   "metadata": {},
   "outputs": [],
   "source": [
    "df = df.rename(columns={'state': 'state_long'})"
   ]
  },
  {
   "cell_type": "code",
   "execution_count": null,
   "metadata": {},
   "outputs": [],
   "source": [
    "df['state'] = df['state_long'].map(states_abbrev_2)\n"
   ]
  },
  {
   "cell_type": "code",
   "execution_count": null,
   "metadata": {},
   "outputs": [],
   "source": [
    "fix_cities(df)\n"
   ]
  },
  {
   "cell_type": "code",
   "execution_count": null,
   "metadata": {},
   "outputs": [],
   "source": [
    "df['state'] = df['state'].fillna(df['city'].map(states_temps))\n",
    "df['state'] = df['state'].fillna(df['city'].map(states_bus))\n",
    "df['state'] = df['state'].fillna(df['city'].map(states_percip))\n"
   ]
  },
  {
   "cell_type": "code",
   "execution_count": null,
   "metadata": {},
   "outputs": [],
   "source": [
    "df.city[(df.state.isnull() == True)]\n"
   ]
  },
  {
   "cell_type": "code",
   "execution_count": null,
   "metadata": {},
   "outputs": [],
   "source": [
    "#states_percip=df[(df.state.isnull() == True)].groupby('city')['state_long'].apply(list).to_dict()\n"
   ]
  },
  {
   "cell_type": "code",
   "execution_count": null,
   "metadata": {},
   "outputs": [],
   "source": [
    "pkls"
   ]
  },
  {
   "cell_type": "markdown",
   "metadata": {},
   "source": [
    "temps\n",
    "businesses"
   ]
  },
  {
   "cell_type": "code",
   "execution_count": null,
   "metadata": {},
   "outputs": [],
   "source": [
    "df['state'] = df['city'].map(states)"
   ]
  },
  {
   "cell_type": "code",
   "execution_count": null,
   "metadata": {},
   "outputs": [],
   "source": [
    "list(df_busdensity.city[df_busdensity.state.isnull() == True])"
   ]
  }
 ],
 "metadata": {
  "kernelspec": {
   "display_name": "Python 3",
   "language": "python",
   "name": "python3"
  },
  "language_info": {
   "codemirror_mode": {
    "name": "ipython",
    "version": 3
   },
   "file_extension": ".py",
   "mimetype": "text/x-python",
   "name": "python",
   "nbconvert_exporter": "python",
   "pygments_lexer": "ipython3",
   "version": "3.7.0"
  }
 },
 "nbformat": 4,
 "nbformat_minor": 2
}
